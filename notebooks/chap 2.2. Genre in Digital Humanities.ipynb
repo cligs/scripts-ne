{
 "cells": [
  {
   "cell_type": "markdown",
   "metadata": {},
   "source": [
    "# Chapter 2.2. Genre in Digital Humanities: Methods, Features, and Data Representation"
   ]
  },
  {
   "cell_type": "code",
   "execution_count": 54,
   "metadata": {},
   "outputs": [],
   "source": [
    "import pandas as pd\n",
    "import matplotlib.pyplot as plt\n",
    "%matplotlib inline\n",
    "import scipy.stats as stats"
   ]
  },
  {
   "cell_type": "markdown",
   "metadata": {},
   "source": [
    "# 2.2.6. Conclusions and General Pattern"
   ]
  },
  {
   "cell_type": "code",
   "execution_count": 55,
   "metadata": {},
   "outputs": [],
   "source": [
    "articles = pd.ExcelFile(\"/home/jose/Dropbox/Doktorarbeit/thesis/data/chap2_3/overview articles about genre.xlsx\",  index_col=0).parse('Sheet1').fillna(0)"
   ]
  },
  {
   "cell_type": "code",
   "execution_count": 56,
   "metadata": {},
   "outputs": [
    {
     "data": {
      "text/html": [
       "<div>\n",
       "<style scoped>\n",
       "    .dataframe tbody tr th:only-of-type {\n",
       "        vertical-align: middle;\n",
       "    }\n",
       "\n",
       "    .dataframe tbody tr th {\n",
       "        vertical-align: top;\n",
       "    }\n",
       "\n",
       "    .dataframe thead th {\n",
       "        text-align: right;\n",
       "    }\n",
       "</style>\n",
       "<table border=\"1\" class=\"dataframe\">\n",
       "  <thead>\n",
       "    <tr style=\"text-align: right;\">\n",
       "      <th></th>\n",
       "      <th>autores</th>\n",
       "      <th>year</th>\n",
       "      <th>genre topic</th>\n",
       "      <th>level</th>\n",
       "      <th>text_type</th>\n",
       "      <th>source_texts</th>\n",
       "      <th>source_labels</th>\n",
       "      <th>text-language</th>\n",
       "      <th>am-texts</th>\n",
       "      <th>best_feature</th>\n",
       "      <th>...</th>\n",
       "      <th>use_punctuation</th>\n",
       "      <th>use_lexical</th>\n",
       "      <th>use_grammar</th>\n",
       "      <th>use_topics</th>\n",
       "      <th>use_networks</th>\n",
       "      <th>use_sentiment</th>\n",
       "      <th>use_layout</th>\n",
       "      <th>use_geolocation</th>\n",
       "      <th>use_metadata</th>\n",
       "      <th>comments</th>\n",
       "    </tr>\n",
       "  </thead>\n",
       "  <tbody>\n",
       "    <tr>\n",
       "      <th>0</th>\n",
       "      <td>Biber</td>\n",
       "      <td>1988</td>\n",
       "      <td>0</td>\n",
       "      <td>0</td>\n",
       "      <td>0</td>\n",
       "      <td>0</td>\n",
       "      <td>0</td>\n",
       "      <td>0</td>\n",
       "      <td>0.0</td>\n",
       "      <td>0</td>\n",
       "      <td>...</td>\n",
       "      <td>0</td>\n",
       "      <td>0.0</td>\n",
       "      <td>0.0</td>\n",
       "      <td>0.0</td>\n",
       "      <td>0.0</td>\n",
       "      <td>0.0</td>\n",
       "      <td>0.0</td>\n",
       "      <td>0.0</td>\n",
       "      <td>0.0</td>\n",
       "      <td>0</td>\n",
       "    </tr>\n",
       "    <tr>\n",
       "      <th>1</th>\n",
       "      <td>Kessler et al</td>\n",
       "      <td>1997</td>\n",
       "      <td>main</td>\n",
       "      <td>genre</td>\n",
       "      <td>various</td>\n",
       "      <td>Brown corpus</td>\n",
       "      <td>Brown corpus</td>\n",
       "      <td>English</td>\n",
       "      <td>499.0</td>\n",
       "      <td>surface</td>\n",
       "      <td>...</td>\n",
       "      <td>1</td>\n",
       "      <td>1.0</td>\n",
       "      <td>1.0</td>\n",
       "      <td>0.0</td>\n",
       "      <td>0.0</td>\n",
       "      <td>0.0</td>\n",
       "      <td>0.0</td>\n",
       "      <td>0.0</td>\n",
       "      <td>0.0</td>\n",
       "      <td>preseleccionan  500 textos de 802 sin decir po...</td>\n",
       "    </tr>\n",
       "    <tr>\n",
       "      <th>2</th>\n",
       "      <td>Sigley</td>\n",
       "      <td>1997</td>\n",
       "      <td>secondary</td>\n",
       "      <td>genre</td>\n",
       "      <td>various</td>\n",
       "      <td>Different New Zealand English Corpora</td>\n",
       "      <td>own, annotators (small fraction)</td>\n",
       "      <td>English</td>\n",
       "      <td>793.0</td>\n",
       "      <td>0</td>\n",
       "      <td>...</td>\n",
       "      <td>0</td>\n",
       "      <td>1.0</td>\n",
       "      <td>1.0</td>\n",
       "      <td>0.0</td>\n",
       "      <td>0.0</td>\n",
       "      <td>0.0</td>\n",
       "      <td>0.0</td>\n",
       "      <td>0.0</td>\n",
       "      <td>0.0</td>\n",
       "      <td>Un artículo bastante largo. Selecciona una ser...</td>\n",
       "    </tr>\n",
       "    <tr>\n",
       "      <th>3</th>\n",
       "      <td>Karlgren</td>\n",
       "      <td>2000</td>\n",
       "      <td>0</td>\n",
       "      <td>0</td>\n",
       "      <td>0</td>\n",
       "      <td>0</td>\n",
       "      <td>0</td>\n",
       "      <td>0</td>\n",
       "      <td>0.0</td>\n",
       "      <td>0</td>\n",
       "      <td>...</td>\n",
       "      <td>0</td>\n",
       "      <td>0.0</td>\n",
       "      <td>0.0</td>\n",
       "      <td>0.0</td>\n",
       "      <td>0.0</td>\n",
       "      <td>0.0</td>\n",
       "      <td>0.0</td>\n",
       "      <td>0.0</td>\n",
       "      <td>0.0</td>\n",
       "      <td>0</td>\n",
       "    </tr>\n",
       "    <tr>\n",
       "      <th>4</th>\n",
       "      <td>Stamatatos-etal</td>\n",
       "      <td>2001</td>\n",
       "      <td>main</td>\n",
       "      <td>genre</td>\n",
       "      <td>various</td>\n",
       "      <td>their own</td>\n",
       "      <td>own</td>\n",
       "      <td>Greek</td>\n",
       "      <td>250.0</td>\n",
       "      <td>combination of lexical, sentence and analysis</td>\n",
       "      <td>...</td>\n",
       "      <td>1</td>\n",
       "      <td>1.0</td>\n",
       "      <td>1.0</td>\n",
       "      <td>0.0</td>\n",
       "      <td>0.0</td>\n",
       "      <td>0.0</td>\n",
       "      <td>0.0</td>\n",
       "      <td>0.0</td>\n",
       "      <td>0.0</td>\n",
       "      <td>Además utilizan ciertos datos sobre cómo la má...</td>\n",
       "    </tr>\n",
       "  </tbody>\n",
       "</table>\n",
       "<p>5 rows × 24 columns</p>\n",
       "</div>"
      ],
      "text/plain": [
       "           autores  year genre topic  level text_type  \\\n",
       "0            Biber  1988           0      0         0   \n",
       "1    Kessler et al  1997        main  genre   various   \n",
       "2           Sigley  1997   secondary  genre   various   \n",
       "3         Karlgren  2000           0      0         0   \n",
       "4  Stamatatos-etal  2001        main  genre   various   \n",
       "\n",
       "                            source_texts                     source_labels  \\\n",
       "0                                      0                                 0   \n",
       "1                           Brown corpus                      Brown corpus   \n",
       "2  Different New Zealand English Corpora  own, annotators (small fraction)   \n",
       "3                                      0                                 0   \n",
       "4                              their own                               own   \n",
       "\n",
       "  text-language  am-texts                                   best_feature  \\\n",
       "0             0       0.0                                              0   \n",
       "1       English     499.0                                        surface   \n",
       "2       English     793.0                                              0   \n",
       "3             0       0.0                                              0   \n",
       "4         Greek     250.0  combination of lexical, sentence and analysis   \n",
       "\n",
       "                         ...                         use_punctuation  \\\n",
       "0                        ...                                       0   \n",
       "1                        ...                                       1   \n",
       "2                        ...                                       0   \n",
       "3                        ...                                       0   \n",
       "4                        ...                                       1   \n",
       "\n",
       "  use_lexical use_grammar use_topics use_networks  use_sentiment  use_layout  \\\n",
       "0         0.0         0.0        0.0          0.0            0.0         0.0   \n",
       "1         1.0         1.0        0.0          0.0            0.0         0.0   \n",
       "2         1.0         1.0        0.0          0.0            0.0         0.0   \n",
       "3         0.0         0.0        0.0          0.0            0.0         0.0   \n",
       "4         1.0         1.0        0.0          0.0            0.0         0.0   \n",
       "\n",
       "   use_geolocation  use_metadata  \\\n",
       "0              0.0           0.0   \n",
       "1              0.0           0.0   \n",
       "2              0.0           0.0   \n",
       "3              0.0           0.0   \n",
       "4              0.0           0.0   \n",
       "\n",
       "                                            comments  \n",
       "0                                                  0  \n",
       "1  preseleccionan  500 textos de 802 sin decir po...  \n",
       "2  Un artículo bastante largo. Selecciona una ser...  \n",
       "3                                                  0  \n",
       "4  Además utilizan ciertos datos sobre cómo la má...  \n",
       "\n",
       "[5 rows x 24 columns]"
      ]
     },
     "execution_count": 56,
     "metadata": {},
     "output_type": "execute_result"
    }
   ],
   "source": [
    "articles.head()"
   ]
  },
  {
   "cell_type": "code",
   "execution_count": 57,
   "metadata": {},
   "outputs": [
    {
     "data": {
      "text/plain": [
       "<matplotlib.axes._subplots.AxesSubplot at 0x7fb3d7cdeb38>"
      ]
     },
     "execution_count": 57,
     "metadata": {},
     "output_type": "execute_result"
    },
    {
     "data": {
      "image/png": "[encoded data removed]",
      "text/plain": [
       "<matplotlib.figure.Figure at 0x7fb3d7d58b38>"
      ]
     },
     "metadata": {},
     "output_type": "display_data"
    }
   ],
   "source": [
    "articles.loc[articles[\"genre topic\"] ==\"main\"].plot.scatter(\"year\",\"am-texts\")"
   ]
  },
  {
   "cell_type": "code",
   "execution_count": 58,
   "metadata": {},
   "outputs": [
    {
     "data": {
      "text/plain": [
       "<matplotlib.axes._subplots.AxesSubplot at 0x7fb3d7d33f98>"
      ]
     },
     "execution_count": 58,
     "metadata": {},
     "output_type": "execute_result"
    },
    {
     "data": {
      "image/png": "[encoded data removed]",
      "text/plain": [
       "<matplotlib.figure.Figure at 0x7fb3d7cfb9b0>"
      ]
     },
     "metadata": {},
     "output_type": "display_data"
    }
   ],
   "source": [
    "articles.loc[articles[\"genre topic\"] ==\"main\"].boxplot(\"am-texts\",\"year\")"
   ]
  },
  {
   "cell_type": "code",
   "execution_count": 61,
   "metadata": {},
   "outputs": [
    {
     "data": {
      "text/plain": [
       "year\n",
       "1997       646.0\n",
       "2001       125.0\n",
       "2004     75000.0\n",
       "2006      2150.0\n",
       "2008      6949.0\n",
       "2011      2480.0\n",
       "2013        69.0\n",
       "2014    427238.0\n",
       "2016      4564.0\n",
       "Name: am-texts, dtype: float64"
      ]
     },
     "execution_count": 61,
     "metadata": {},
     "output_type": "execute_result"
    }
   ],
   "source": [
    "articles.groupby(\"year\").median()[\"am-texts\"][articles.groupby(\"year\").median()[\"am-texts\"] > 0]"
   ]
  },
  {
   "cell_type": "code",
   "execution_count": 62,
   "metadata": {},
   "outputs": [
    {
     "data": {
      "text/plain": [
       "LinregressResult(slope=1.6655669395645502e-06, intercept=2009.339783274799, rvalue=0.15364783998423112, pvalue=0.6162595294245412, stderr=3.229620343707774e-06)"
      ]
     },
     "execution_count": 62,
     "metadata": {},
     "output_type": "execute_result"
    }
   ],
   "source": [
    "stats.linregress(articles.loc[ (articles[\"am-texts\"] > 0 ) & (articles[\"genre topic\"]==\"main\")][\"am-texts\"], articles.loc[(articles[\"am-texts\"] > 0) & (articles[\"genre topic\"]==\"main\")][\"year\"]) "
   ]
  },
  {
   "cell_type": "code",
   "execution_count": 42,
   "metadata": {},
   "outputs": [
    {
     "data": {
      "text/plain": [
       "178.0"
      ]
     },
     "execution_count": 42,
     "metadata": {},
     "output_type": "execute_result"
    }
   ],
   "source": [
    "articles[\"am-texts\"].median()"
   ]
  }
 ],
 "metadata": {
  "kernelspec": {
   "display_name": "Python 3",
   "language": "python",
   "name": "python3"
  },
  "language_info": {
   "codemirror_mode": {
    "name": "ipython",
    "version": 3
   },
   "file_extension": ".py",
   "mimetype": "text/x-python",
   "name": "python",
   "nbconvert_exporter": "python",
   "pygments_lexer": "ipython3",
   "version": "3.6.9"
  }
 },
 "nbformat": 4,
 "nbformat_minor": 2
}
