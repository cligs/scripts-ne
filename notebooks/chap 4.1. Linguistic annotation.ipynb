{
 "cells": [
  {
   "cell_type": "markdown",
   "metadata": {},
   "source": [
    "# Chapter 4.1. Grammatical, Lexical, Semantic, and Textual Annotation"
   ]
  },
  {
   "cell_type": "code",
   "execution_count": 1,
   "metadata": {},
   "outputs": [],
   "source": [
    "import sys\n",
    "import os\n",
    "sys.path.append(os.path.abspath(\"/home/jose/Dropbox/Doktorarbeit/\"))\n",
    "from lxml import etree\n",
    "from reading_robot import load_data, get_metadata, tei2text, annotate_texts, annotate_ling\n",
    "import pandas as pd\n",
    "from collections import Counter\n",
    "%matplotlib inline"
   ]
  },
  {
   "cell_type": "code",
   "execution_count": 2,
   "metadata": {},
   "outputs": [],
   "source": [
    "wdir = \"/home/jose/Dropbox/Doktorarbeit/novelasespanolas/\""
   ]
  },
  {
   "cell_type": "markdown",
   "metadata": {},
   "source": [
    "# Transformation: from Master to Annotated"
   ]
  },
  {
   "cell_type": "markdown",
   "metadata": {},
   "source": [
    "Use rules to split sentences and recognize direct-speech and narrative passages"
   ]
  },
  {
   "cell_type": "code",
   "execution_count": 4,
   "metadata": {},
   "outputs": [],
   "source": [
    "annotate_texts.create_text_anno(\"/home/jose/cligs/ne/\",\"master/ne0001.xml\", \"ds/\") # use \"master/*.xml\" for the entire corpus"
   ]
  },
  {
   "cell_type": "markdown",
   "metadata": {},
   "source": [
    "Use Freeling annotating tokens and Multiwords"
   ]
  },
  {
   "cell_type": "code",
   "execution_count": 6,
   "metadata": {},
   "outputs": [
    {
     "name": "stdout",
     "output_type": "stream",
     "text": [
      "/home/jose/cligs/ne/partialy_annotated/ne0001\n",
      "3965\n",
      "converted --- 510.71431159973145 seconds ---\n",
      "mean seconds for sentences 0.1288061089052679\n"
     ]
    }
   ],
   "source": [
    "\n",
    "annotate_ling.annotate_from_ds(wdir = \"/home/jose/cligs/ne/\", \n",
    "    input_dir = \"ds/\",\n",
    "    temp_dir = \"temp/\",\n",
    "    output_dir = \"partialy_annotated/\",\n",
    "    file = \"ne0001.xml\", # use \"*.xml\" for the entire corpus\n",
    "    xml_unit = \"s\",)"
   ]
  },
  {
   "cell_type": "code",
   "execution_count": 9,
   "metadata": {},
   "outputs": [
    {
     "name": "stdout",
     "output_type": "stream",
     "text": [
      "/home/jose/cligs/ne/partialy_annotated/ne0001\n"
     ]
    }
   ],
   "source": [
    "annotate_ling.make_files_lighter(wdir = \"/home/jose/cligs/ne/\",  \n",
    "    input_dir = \"partialy_annotated/\",\n",
    "    output_dir = \"partialy_annotated/\",\n",
    "    file = \"ne0001.xml\")"
   ]
  },
  {
   "cell_type": "markdown",
   "metadata": {},
   "source": [
    "Add annotation about discursive particles, proverbs, order of frequency of people, WordNet lexnames and MariaX"
   ]
  },
  {
   "cell_type": "code",
   "execution_count": 4,
   "metadata": {},
   "outputs": [
    {
     "name": "stdout",
     "output_type": "stream",
     "text": [
      "/home/jose/cligs/ne/annotated/ne0334\n",
      "converted --- 7.318177938461304 seconds ---\n",
      "mean seconds for sentences 0.03127461926549928\n"
     ]
    }
   ],
   "source": [
    "annotate_ling.add_ling_annotation(wdir = \"/home/jose/cligs/ne/\",  \n",
    "    input_dir = \"partialy_annotated/\",\n",
    "    temp_dir = \"temp/\",\n",
    "    output_dir = \"annotated/\",\n",
    "    file = \"ne0334.xml\", # use \"*.xml\" for the entire corpus\n",
    "    xml_unit = \"s\")"
   ]
  },
  {
   "cell_type": "markdown",
   "metadata": {},
   "source": [
    "# Validation"
   ]
  },
  {
   "cell_type": "code",
   "execution_count": 4,
   "metadata": {},
   "outputs": [],
   "source": [
    "from reading_robot import validate_tei"
   ]
  },
  {
   "cell_type": "code",
   "execution_count": 6,
   "metadata": {},
   "outputs": [
    {
     "name": "stdout",
     "output_type": "stream",
     "text": [
      "number of problematics file:  0\n"
     ]
    }
   ],
   "source": [
    "validate_tei.wellform_xml(\"/home/jose/Dropbox/Doktorarbeit/novelasespanolas/annotated_lexnames/ne0334.xml\")"
   ]
  },
  {
   "cell_type": "code",
   "execution_count": null,
   "metadata": {},
   "outputs": [
    {
     "name": "stdout",
     "output_type": "stream",
     "text": [
      "ne0334.xml\n"
     ]
    }
   ],
   "source": [
    "validate_tei.main(\"/home/jose/Dropbox/Doktorarbeit/novelasespanolas/annotated_lexnames/ne0334.xml\", \"/home/jose/Dropbox/Doktorarbeit/novelasespanolas/new_format/cligs.rng\")"
   ]
  },
  {
   "cell_type": "markdown",
   "metadata": {},
   "source": [
    "# 4.1.4. Grammatical Annotation"
   ]
  },
  {
   "cell_type": "code",
   "execution_count": 4,
   "metadata": {},
   "outputs": [],
   "source": [
    "root_document = etree.parse(\"/home/jose/Dropbox/Doktorarbeit/novelasespanolas/annotated/ne0334.xml\").getroot()\n"
   ]
  },
  {
   "cell_type": "code",
   "execution_count": 5,
   "metadata": {},
   "outputs": [],
   "source": [
    "specific_namespaces = {'tei':'http://www.tei-c.org/ns/1.0','xi':'http://www.w3.org/2001/XInclude', 'cligs': 'https://cligs.hypotheses.org/ns/cligs'}\n"
   ]
  },
  {
   "cell_type": "code",
   "execution_count": 14,
   "metadata": {},
   "outputs": [
    {
     "name": "stdout",
     "output_type": "stream",
     "text": [
      "['@case', '@ctag', '@degree', '@form', '@gen', '@lemma', '@mariax', '@mood', '@n', '@nec', '@neclass', '@num', '@ord_ent', '@person', '@pos', '@possessornum', '@possessorpers', '@punctenclose', '@tag', '@tense', '@type', '@wn', '@wnlex']\n"
     ]
    }
   ],
   "source": [
    "print(sorted([\"@\"+element for element in list(set([attr for w in root_document.xpath('.//tei:w', namespaces=specific_namespaces) for attr in w.attrib]))]))\n",
    "\n"
   ]
  },
  {
   "cell_type": "markdown",
   "metadata": {},
   "source": [
    "# 4.1.6. Semantic Annotation"
   ]
  },
  {
   "cell_type": "code",
   "execution_count": 6,
   "metadata": {},
   "outputs": [],
   "source": [
    "mariax_connsa = pd.read_parquet(\"/home/jose/Dropbox/MTB/investigacion/mytoolbox/mariaX/resulting-data/catalogues_shared-CoNSSA_only-tokens_df.parquet\")"
   ]
  },
  {
   "cell_type": "code",
   "execution_count": 7,
   "metadata": {},
   "outputs": [
    {
     "data": {
      "text/plain": [
       "(1788, 33000)"
      ]
     },
     "execution_count": 7,
     "metadata": {},
     "output_type": "execute_result"
    }
   ],
   "source": [
    "mariax_connsa.shape"
   ]
  },
  {
   "cell_type": "code",
   "execution_count": 8,
   "metadata": {},
   "outputs": [
    {
     "data": {
      "text/html": [
       "<div>\n",
       "<style scoped>\n",
       "    .dataframe tbody tr th:only-of-type {\n",
       "        vertical-align: middle;\n",
       "    }\n",
       "\n",
       "    .dataframe tbody tr th {\n",
       "        vertical-align: top;\n",
       "    }\n",
       "\n",
       "    .dataframe thead th {\n",
       "        text-align: right;\n",
       "    }\n",
       "</style>\n",
       "<table border=\"1\" class=\"dataframe\">\n",
       "  <thead>\n",
       "    <tr style=\"text-align: right;\">\n",
       "      <th></th>\n",
       "      <th>a</th>\n",
       "      <th>ab</th>\n",
       "      <th>aba</th>\n",
       "      <th>abacería</th>\n",
       "      <th>abacá</th>\n",
       "      <th>abad</th>\n",
       "      <th>abada</th>\n",
       "      <th>abadejo</th>\n",
       "      <th>abadesa</th>\n",
       "      <th>abadía</th>\n",
       "      <th>...</th>\n",
       "      <th>óxido</th>\n",
       "      <th>úlcera</th>\n",
       "      <th>última</th>\n",
       "      <th>últimas</th>\n",
       "      <th>último</th>\n",
       "      <th>únicamente</th>\n",
       "      <th>único</th>\n",
       "      <th>úrico</th>\n",
       "      <th>útero</th>\n",
       "      <th>útil</th>\n",
       "    </tr>\n",
       "    <tr>\n",
       "      <th>sublema</th>\n",
       "      <th></th>\n",
       "      <th></th>\n",
       "      <th></th>\n",
       "      <th></th>\n",
       "      <th></th>\n",
       "      <th></th>\n",
       "      <th></th>\n",
       "      <th></th>\n",
       "      <th></th>\n",
       "      <th></th>\n",
       "      <th></th>\n",
       "      <th></th>\n",
       "      <th></th>\n",
       "      <th></th>\n",
       "      <th></th>\n",
       "      <th></th>\n",
       "      <th></th>\n",
       "      <th></th>\n",
       "      <th></th>\n",
       "      <th></th>\n",
       "      <th></th>\n",
       "    </tr>\n",
       "  </thead>\n",
       "  <tbody>\n",
       "    <tr>\n",
       "      <th>abandonar</th>\n",
       "      <td>0</td>\n",
       "      <td>0</td>\n",
       "      <td>0</td>\n",
       "      <td>0</td>\n",
       "      <td>0</td>\n",
       "      <td>0</td>\n",
       "      <td>0</td>\n",
       "      <td>0</td>\n",
       "      <td>0</td>\n",
       "      <td>0</td>\n",
       "      <td>...</td>\n",
       "      <td>0</td>\n",
       "      <td>0</td>\n",
       "      <td>0</td>\n",
       "      <td>0</td>\n",
       "      <td>0</td>\n",
       "      <td>0</td>\n",
       "      <td>0</td>\n",
       "      <td>0</td>\n",
       "      <td>0</td>\n",
       "      <td>0</td>\n",
       "    </tr>\n",
       "    <tr>\n",
       "      <th>abatir</th>\n",
       "      <td>0</td>\n",
       "      <td>0</td>\n",
       "      <td>0</td>\n",
       "      <td>0</td>\n",
       "      <td>0</td>\n",
       "      <td>0</td>\n",
       "      <td>0</td>\n",
       "      <td>0</td>\n",
       "      <td>0</td>\n",
       "      <td>0</td>\n",
       "      <td>...</td>\n",
       "      <td>0</td>\n",
       "      <td>0</td>\n",
       "      <td>0</td>\n",
       "      <td>0</td>\n",
       "      <td>0</td>\n",
       "      <td>0</td>\n",
       "      <td>0</td>\n",
       "      <td>0</td>\n",
       "      <td>0</td>\n",
       "      <td>0</td>\n",
       "    </tr>\n",
       "    <tr>\n",
       "      <th>abeja</th>\n",
       "      <td>0</td>\n",
       "      <td>0</td>\n",
       "      <td>0</td>\n",
       "      <td>0</td>\n",
       "      <td>0</td>\n",
       "      <td>0</td>\n",
       "      <td>0</td>\n",
       "      <td>0</td>\n",
       "      <td>0</td>\n",
       "      <td>0</td>\n",
       "      <td>...</td>\n",
       "      <td>0</td>\n",
       "      <td>0</td>\n",
       "      <td>0</td>\n",
       "      <td>0</td>\n",
       "      <td>0</td>\n",
       "      <td>0</td>\n",
       "      <td>0</td>\n",
       "      <td>0</td>\n",
       "      <td>0</td>\n",
       "      <td>0</td>\n",
       "    </tr>\n",
       "    <tr>\n",
       "      <th>abertura</th>\n",
       "      <td>0</td>\n",
       "      <td>0</td>\n",
       "      <td>0</td>\n",
       "      <td>0</td>\n",
       "      <td>0</td>\n",
       "      <td>0</td>\n",
       "      <td>0</td>\n",
       "      <td>0</td>\n",
       "      <td>0</td>\n",
       "      <td>0</td>\n",
       "      <td>...</td>\n",
       "      <td>0</td>\n",
       "      <td>0</td>\n",
       "      <td>0</td>\n",
       "      <td>0</td>\n",
       "      <td>0</td>\n",
       "      <td>0</td>\n",
       "      <td>0</td>\n",
       "      <td>0</td>\n",
       "      <td>0</td>\n",
       "      <td>0</td>\n",
       "    </tr>\n",
       "    <tr>\n",
       "      <th>abiertamente</th>\n",
       "      <td>0</td>\n",
       "      <td>0</td>\n",
       "      <td>0</td>\n",
       "      <td>0</td>\n",
       "      <td>0</td>\n",
       "      <td>0</td>\n",
       "      <td>0</td>\n",
       "      <td>0</td>\n",
       "      <td>0</td>\n",
       "      <td>0</td>\n",
       "      <td>...</td>\n",
       "      <td>0</td>\n",
       "      <td>0</td>\n",
       "      <td>0</td>\n",
       "      <td>0</td>\n",
       "      <td>0</td>\n",
       "      <td>0</td>\n",
       "      <td>0</td>\n",
       "      <td>0</td>\n",
       "      <td>0</td>\n",
       "      <td>0</td>\n",
       "    </tr>\n",
       "  </tbody>\n",
       "</table>\n",
       "<p>5 rows × 33000 columns</p>\n",
       "</div>"
      ],
      "text/plain": [
       "              a  ab  aba  abacería  abacá  abad  abada  abadejo  abadesa  \\\n",
       "sublema                                                                    \n",
       "abandonar     0   0    0         0      0     0      0        0        0   \n",
       "abatir        0   0    0         0      0     0      0        0        0   \n",
       "abeja         0   0    0         0      0     0      0        0        0   \n",
       "abertura      0   0    0         0      0     0      0        0        0   \n",
       "abiertamente  0   0    0         0      0     0      0        0        0   \n",
       "\n",
       "              abadía  ...   óxido  úlcera  última  últimas  último  \\\n",
       "sublema               ...                                            \n",
       "abandonar          0  ...       0       0       0        0       0   \n",
       "abatir             0  ...       0       0       0        0       0   \n",
       "abeja              0  ...       0       0       0        0       0   \n",
       "abertura           0  ...       0       0       0        0       0   \n",
       "abiertamente       0  ...       0       0       0        0       0   \n",
       "\n",
       "              únicamente  único  úrico  útero  útil  \n",
       "sublema                                              \n",
       "abandonar              0      0      0      0     0  \n",
       "abatir                 0      0      0      0     0  \n",
       "abeja                  0      0      0      0     0  \n",
       "abertura               0      0      0      0     0  \n",
       "abiertamente           0      0      0      0     0  \n",
       "\n",
       "[5 rows x 33000 columns]"
      ]
     },
     "execution_count": 8,
     "metadata": {},
     "output_type": "execute_result"
    }
   ],
   "source": [
    "mariax_connsa.head()"
   ]
  },
  {
   "cell_type": "code",
   "execution_count": 11,
   "metadata": {},
   "outputs": [
    {
     "data": {
      "text/plain": [
       "sublema\n",
       "escribir       752\n",
       "tiempo         762\n",
       "caballería     774\n",
       "milicia        818\n",
       "música         844\n",
       "enfermedad     848\n",
       "tejer          918\n",
       "barco          920\n",
       "vestir        1194\n",
       "planta        1648\n",
       "dtype: int64"
      ]
     },
     "execution_count": 11,
     "metadata": {},
     "output_type": "execute_result"
    }
   ],
   "source": [
    "mariax_connsa.sum(axis=1).sort_values().tail(10)"
   ]
  },
  {
   "cell_type": "code",
   "execution_count": 23,
   "metadata": {},
   "outputs": [
    {
     "data": {
      "text/plain": [
       "sublema\n",
       "denigrar       15\n",
       "electrónica    21\n",
       "imán           21\n",
       "inminente      21\n",
       "cáncer         21\n",
       "desamparo      24\n",
       "rebajar        24\n",
       "comparación    24\n",
       "adjetivo       27\n",
       "adversativo    27\n",
       "dtype: int64"
      ]
     },
     "execution_count": 23,
     "metadata": {},
     "output_type": "execute_result"
    }
   ],
   "source": [
    "mariax_connsa.sum(axis=1).sort_values().head(10)"
   ]
  },
  {
   "cell_type": "code",
   "execution_count": 18,
   "metadata": {},
   "outputs": [],
   "source": [
    "mariax_connsa[\"_suma\"] = mariax_connsa.sum(axis=1)"
   ]
  },
  {
   "cell_type": "code",
   "execution_count": 24,
   "metadata": {},
   "outputs": [
    {
     "data": {
      "text/plain": [
       "0    64\n",
       "dtype: int64"
      ]
     },
     "execution_count": 24,
     "metadata": {},
     "output_type": "execute_result"
    }
   ],
   "source": [
    "mariax_connsa[\"_suma\"].mode()"
   ]
  },
  {
   "cell_type": "code",
   "execution_count": 29,
   "metadata": {},
   "outputs": [
    {
     "data": {
      "text/plain": [
       "0    64\n",
       "dtype: int64"
      ]
     },
     "execution_count": 29,
     "metadata": {},
     "output_type": "execute_result"
    }
   ],
   "source": [
    "mariax_connsa[\"_suma\"].mode()"
   ]
  },
  {
   "cell_type": "code",
   "execution_count": 25,
   "metadata": {},
   "outputs": [
    {
     "data": {
      "text/plain": [
       "60.0"
      ]
     },
     "execution_count": 25,
     "metadata": {},
     "output_type": "execute_result"
    }
   ],
   "source": [
    "mariax_connsa[\"_suma\"].quantile(0.25)"
   ]
  },
  {
   "cell_type": "code",
   "execution_count": 28,
   "metadata": {},
   "outputs": [
    {
     "data": {
      "text/plain": [
       "92.0"
      ]
     },
     "execution_count": 28,
     "metadata": {},
     "output_type": "execute_result"
    }
   ],
   "source": [
    "mariax_connsa[\"_suma\"].quantile(0.5)"
   ]
  },
  {
   "cell_type": "code",
   "execution_count": 26,
   "metadata": {},
   "outputs": [
    {
     "data": {
      "text/plain": [
       "154.0"
      ]
     },
     "execution_count": 26,
     "metadata": {},
     "output_type": "execute_result"
    }
   ],
   "source": [
    "mariax_connsa[\"_suma\"].quantile(0.75)"
   ]
  },
  {
   "cell_type": "code",
   "execution_count": 27,
   "metadata": {},
   "outputs": [
    {
     "data": {
      "text/plain": [
       "94.0"
      ]
     },
     "execution_count": 27,
     "metadata": {},
     "output_type": "execute_result"
    }
   ],
   "source": [
    "mariax_connsa[\"_suma\"].quantile(0.75) - mariax_connsa[\"_suma\"].quantile(0.25)"
   ]
  },
  {
   "cell_type": "code",
   "execution_count": 32,
   "metadata": {},
   "outputs": [
    {
     "data": {
      "text/plain": [
       "<matplotlib.axes._subplots.AxesSubplot at 0x7f63918f5fd0>"
      ]
     },
     "execution_count": 32,
     "metadata": {},
     "output_type": "execute_result"
    },
    {
     "data": {
      "image/png": "[encoded data removed]",
      "text/plain": [
       "<matplotlib.figure.Figure at 0x7f6391a43d68>"
      ]
     },
     "metadata": {},
     "output_type": "display_data"
    }
   ],
   "source": [
    "mariax_connsa.sum(axis=1).sort_values().plot.hist(bins=200)"
   ]
  }
 ],
 "metadata": {
  "kernelspec": {
   "display_name": "Python 3",
   "language": "python",
   "name": "python3"
  },
  "language_info": {
   "codemirror_mode": {
    "name": "ipython",
    "version": 3
   },
   "file_extension": ".py",
   "mimetype": "text/x-python",
   "name": "python",
   "nbconvert_exporter": "python",
   "pygments_lexer": "ipython3",
   "version": "3.6.9"
  }
 },
 "nbformat": 4,
 "nbformat_minor": 2
}
