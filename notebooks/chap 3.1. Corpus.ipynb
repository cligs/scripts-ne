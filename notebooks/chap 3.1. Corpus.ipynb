{
 "cells": [
  {
   "cell_type": "markdown",
   "metadata": {},
   "source": [
    "# Chapter 3.1. Corpus of Novels of the Spanish Silver Age: CoNSSA and CoNSSA-canon"
   ]
  },
  {
   "cell_type": "code",
   "execution_count": 1,
   "metadata": {},
   "outputs": [],
   "source": [
    "import sys\n",
    "import os\n",
    "sys.path.append(os.path.abspath(\"/home/jose/Dropbox/Doktorarbeit/\"))\n",
    "from collections import Counter\n",
    "import matplotlib.pyplot as plt\n",
    "%matplotlib inline\n",
    "from reading_robot import load_data, describe_data, get_metadata\n",
    "import pandas as pd"
   ]
  },
  {
   "cell_type": "code",
   "execution_count": 2,
   "metadata": {},
   "outputs": [],
   "source": [
    "\n",
    "#get_metadata.from_TEIP5(\"/home/jose/cligs/ne/\",\"master/*.xml\",\"metadata\",\"beta-opt-obl-structure\")\n"
   ]
  },
  {
   "cell_type": "code",
   "execution_count": 3,
   "metadata": {},
   "outputs": [
    {
     "data": {
      "text/plain": [
       "'/home/jose/Dropbox/Doktorarbeit/ne_data/chap3_1/population_authors.csv'"
      ]
     },
     "execution_count": 3,
     "metadata": {},
     "output_type": "execute_result"
    }
   ],
   "source": [
    "from shutil import copyfile\n",
    "copyfile(\"/home/jose/Dropbox/Doktorarbeit/novelasespanolas/metadata_beta-opt-obl-structure.csv\", \"/home/jose/Dropbox/Doktorarbeit/ne_data/chap3_1/metadata_beta-opt-obl-structure.csv\")\n",
    "copyfile(\"/home/jose/Dropbox/Doktorarbeit/novelasespanolas/population.csv\", \"/home/jose/Dropbox/Doktorarbeit/ne_data/chap3_1/population.csv\")\n",
    "copyfile(\"/home/jose/Dropbox/Doktorarbeit/novelasespanolas/population_authors.csv\", \"/home/jose/Dropbox/Doktorarbeit/ne_data/chap3_1/population_authors.csv\")"
   ]
  },
  {
   "cell_type": "markdown",
   "metadata": {},
   "source": [
    "# 3.1.3. Statistical Population of Authors"
   ]
  },
  {
   "cell_type": "code",
   "execution_count": 16,
   "metadata": {},
   "outputs": [
    {
     "name": "stdout",
     "output_type": "stream",
     "text": [
      "metadata and class shape: \t (138, 72)\n"
     ]
    }
   ],
   "source": [
    "authors = load_data.load_metadata(wdir =\"/home/jose/Dropbox/Doktorarbeit/ne_data/chap3_1/\", metadata_table = \"population_authors.csv\", sep = \"\\t\")\n",
    "authors = authors.fillna(0)"
   ]
  },
  {
   "cell_type": "code",
   "execution_count": 17,
   "metadata": {},
   "outputs": [
    {
     "data": {
      "text/plain": [
       "Index(['Revisado en manual de la literatura',\n",
       "       'Revisado en Internet (Gutenberg, BNE, epub libre, Archive, CV, Wiki)',\n",
       "       'author-full-name', 'surname', 'author-name', 'author_viaf',\n",
       "       'author_bne', 'Mejores resultados encontrados en', 'Comentario',\n",
       "       'Obras completas?', 'Completado', 'birth', 'death', 'madurity',\n",
       "       'decade-birth', 'decade-madurity', 'decade-death', 'Volumen de Manual',\n",
       "       'author-gender', 'Range', 'Page start', 'Page end', 'pages-in-MdLE',\n",
       "       'Year of change', 'Source of year of change', 'novels', 'works', 'TEI',\n",
       "       'nov-TEI', 'nov-paper', 'percentage', 'Porcentaje por conseguir',\n",
       "       'Porcentaje que falta', 'Porcentajes negativos', 'lower than 0.1',\n",
       "       'Cantidad x convertir', 'Cantidad redondeada x convertir',\n",
       "       'Cantidad por comprar', 'author-movement', 'author-submovement',\n",
       "       'non-novel-genre', 'Comprar', 'BNE', 'Gutenberg', 'epub libre',\n",
       "       'Archive', 'CV', 'Wikisource', 'Google Books', 'Unnamed: 50',\n",
       "       'Unnamed: 51', 'Unnamed: 52', 'Por comprar', 'Free', 'Años de vida',\n",
       "       'Unnamed: 56', 'simp range', 'bool range', 'Gutenberg bool',\n",
       "       'BNE has text', 'epublibre bool', 'archive bool', 'cv boolean',\n",
       "       'wikisource bool', 'google bool',\n",
       "       'sumatorio de proyectos que han digitalizado al autor', 'sum html',\n",
       "       'sum pdf', 'ranges digitalizacion', 'to_scan_temp',\n",
       "       'Porcentaje por conseguir0', 'Porcentaje que falta0'],\n",
       "      dtype='object')"
      ]
     },
     "execution_count": 17,
     "metadata": {},
     "output_type": "execute_result"
    }
   ],
   "source": [
    "authors.columns"
   ]
  },
  {
   "cell_type": "code",
   "execution_count": 18,
   "metadata": {},
   "outputs": [
    {
     "name": "stdout",
     "output_type": "stream",
     "text": [
      "Amount prose authors 138\n"
     ]
    }
   ],
   "source": [
    "print(\"Amount prose authors\", authors.shape[0])"
   ]
  },
  {
   "cell_type": "code",
   "execution_count": 19,
   "metadata": {},
   "outputs": [
    {
     "name": "stdout",
     "output_type": "stream",
     "text": [
      "Amount novel authors 107\n"
     ]
    },
    {
     "name": "stderr",
     "output_type": "stream",
     "text": [
      "/usr/lib/python3/dist-packages/ipykernel_launcher.py:2: SettingWithCopyWarning: \n",
      "A value is trying to be set on a copy of a slice from a DataFrame.\n",
      "Try using .loc[row_indexer,col_indexer] = value instead\n",
      "\n",
      "See the caveats in the documentation: http://pandas.pydata.org/pandas-docs/stable/indexing.html#indexing-view-versus-copy\n",
      "  \n",
      "/usr/lib/python3/dist-packages/ipykernel_launcher.py:3: SettingWithCopyWarning: \n",
      "A value is trying to be set on a copy of a slice from a DataFrame.\n",
      "Try using .loc[row_indexer,col_indexer] = value instead\n",
      "\n",
      "See the caveats in the documentation: http://pandas.pydata.org/pandas-docs/stable/indexing.html#indexing-view-versus-copy\n",
      "  This is separate from the ipykernel package so we can avoid doing imports until\n"
     ]
    }
   ],
   "source": [
    "novel_authors = authors.loc[((authors['novels'] > 0))]\n",
    "novel_authors[\"decade-birth\"] = novel_authors[\"decade-birth\"].astype(int)\n",
    "novel_authors[\"decade-death\"] = novel_authors[\"decade-death\"].astype(int)\n",
    "print(\"Amount novel authors\", novel_authors.shape[0])"
   ]
  },
  {
   "cell_type": "code",
   "execution_count": 20,
   "metadata": {},
   "outputs": [
    {
     "data": {
      "text/html": [
       "<div>\n",
       "<style scoped>\n",
       "    .dataframe tbody tr th:only-of-type {\n",
       "        vertical-align: middle;\n",
       "    }\n",
       "\n",
       "    .dataframe tbody tr th {\n",
       "        vertical-align: top;\n",
       "    }\n",
       "\n",
       "    .dataframe thead th {\n",
       "        text-align: right;\n",
       "    }\n",
       "</style>\n",
       "<table border=\"1\" class=\"dataframe\">\n",
       "  <thead>\n",
       "    <tr style=\"text-align: right;\">\n",
       "      <th></th>\n",
       "      <th>Revisado en manual de la literatura</th>\n",
       "      <th>Revisado en Internet (Gutenberg, BNE, epub libre, Archive, CV, Wiki)</th>\n",
       "      <th>author-full-name</th>\n",
       "      <th>surname</th>\n",
       "      <th>author-name</th>\n",
       "      <th>author_viaf</th>\n",
       "      <th>author_bne</th>\n",
       "      <th>Mejores resultados encontrados en</th>\n",
       "      <th>Comentario</th>\n",
       "      <th>Obras completas?</th>\n",
       "      <th>...</th>\n",
       "      <th>cv boolean</th>\n",
       "      <th>wikisource bool</th>\n",
       "      <th>google bool</th>\n",
       "      <th>sumatorio de proyectos que han digitalizado al autor</th>\n",
       "      <th>sum html</th>\n",
       "      <th>sum pdf</th>\n",
       "      <th>ranges digitalizacion</th>\n",
       "      <th>to_scan_temp</th>\n",
       "      <th>Porcentaje por conseguir0</th>\n",
       "      <th>Porcentaje que falta0</th>\n",
       "    </tr>\n",
       "    <tr>\n",
       "      <th>orden</th>\n",
       "      <th></th>\n",
       "      <th></th>\n",
       "      <th></th>\n",
       "      <th></th>\n",
       "      <th></th>\n",
       "      <th></th>\n",
       "      <th></th>\n",
       "      <th></th>\n",
       "      <th></th>\n",
       "      <th></th>\n",
       "      <th></th>\n",
       "      <th></th>\n",
       "      <th></th>\n",
       "      <th></th>\n",
       "      <th></th>\n",
       "      <th></th>\n",
       "      <th></th>\n",
       "      <th></th>\n",
       "      <th></th>\n",
       "      <th></th>\n",
       "      <th></th>\n",
       "    </tr>\n",
       "  </thead>\n",
       "  <tbody>\n",
       "    <tr>\n",
       "      <th>59.0</th>\n",
       "      <td>1.0</td>\n",
       "      <td>1.0</td>\n",
       "      <td>José María de Acosta</td>\n",
       "      <td>Acosta</td>\n",
       "      <td>Acosta</td>\n",
       "      <td>46583137.0</td>\n",
       "      <td>0</td>\n",
       "      <td>0</td>\n",
       "      <td>0</td>\n",
       "      <td>0.0</td>\n",
       "      <td>...</td>\n",
       "      <td>0.0</td>\n",
       "      <td>0.0</td>\n",
       "      <td>0.0</td>\n",
       "      <td>0.0</td>\n",
       "      <td>0.0</td>\n",
       "      <td>0.0</td>\n",
       "      <td>1.0</td>\n",
       "      <td>0.0</td>\n",
       "      <td>1.0</td>\n",
       "      <td>-1.0</td>\n",
       "    </tr>\n",
       "    <tr>\n",
       "      <th>72.0</th>\n",
       "      <td>1.0</td>\n",
       "      <td>1.0</td>\n",
       "      <td>Antonio Espina</td>\n",
       "      <td>Espina</td>\n",
       "      <td>AEspina</td>\n",
       "      <td>24724313.0</td>\n",
       "      <td>XX828940</td>\n",
       "      <td>0</td>\n",
       "      <td>0</td>\n",
       "      <td>0.0</td>\n",
       "      <td>...</td>\n",
       "      <td>1.0</td>\n",
       "      <td>0.0</td>\n",
       "      <td>0.0</td>\n",
       "      <td>1.0</td>\n",
       "      <td>1.0</td>\n",
       "      <td>0.0</td>\n",
       "      <td>1.0</td>\n",
       "      <td>0.0</td>\n",
       "      <td>0.2</td>\n",
       "      <td>0.8</td>\n",
       "    </tr>\n",
       "    <tr>\n",
       "      <th>13.0</th>\n",
       "      <td>1.0</td>\n",
       "      <td>1.0</td>\n",
       "      <td>Pedro Antonio Alarcón</td>\n",
       "      <td>Alarcón</td>\n",
       "      <td>Alarcon</td>\n",
       "      <td>44294383.0</td>\n",
       "      <td>XX920308</td>\n",
       "      <td>https://www.epublibre.org/autor/index/116</td>\n",
       "      <td>0</td>\n",
       "      <td>0.0</td>\n",
       "      <td>...</td>\n",
       "      <td>1.0</td>\n",
       "      <td>1.0</td>\n",
       "      <td>1.0</td>\n",
       "      <td>7.0</td>\n",
       "      <td>4.0</td>\n",
       "      <td>3.0</td>\n",
       "      <td>3.0</td>\n",
       "      <td>0.0</td>\n",
       "      <td>0.2</td>\n",
       "      <td>0.8</td>\n",
       "    </tr>\n",
       "    <tr>\n",
       "      <th>43.0</th>\n",
       "      <td>1.0</td>\n",
       "      <td>1.0</td>\n",
       "      <td>Rafael Altamira</td>\n",
       "      <td>Altamira</td>\n",
       "      <td>Altamira</td>\n",
       "      <td>0.0</td>\n",
       "      <td>0</td>\n",
       "      <td>0</td>\n",
       "      <td>0</td>\n",
       "      <td>0.0</td>\n",
       "      <td>...</td>\n",
       "      <td>1.0</td>\n",
       "      <td>0.0</td>\n",
       "      <td>0.0</td>\n",
       "      <td>4.0</td>\n",
       "      <td>2.0</td>\n",
       "      <td>2.0</td>\n",
       "      <td>2.0</td>\n",
       "      <td>0.0</td>\n",
       "      <td>0.5</td>\n",
       "      <td>-0.5</td>\n",
       "    </tr>\n",
       "    <tr>\n",
       "      <th>105.0</th>\n",
       "      <td>1.0</td>\n",
       "      <td>1.0</td>\n",
       "      <td>Antonio Machado</td>\n",
       "      <td>Machado</td>\n",
       "      <td>AMachado</td>\n",
       "      <td>7385547.0</td>\n",
       "      <td>XX991518</td>\n",
       "      <td>0</td>\n",
       "      <td>0</td>\n",
       "      <td>0.0</td>\n",
       "      <td>...</td>\n",
       "      <td>0.0</td>\n",
       "      <td>0.0</td>\n",
       "      <td>0.0</td>\n",
       "      <td>2.0</td>\n",
       "      <td>2.0</td>\n",
       "      <td>0.0</td>\n",
       "      <td>2.0</td>\n",
       "      <td>0.0</td>\n",
       "      <td>0.2</td>\n",
       "      <td>0.8</td>\n",
       "    </tr>\n",
       "  </tbody>\n",
       "</table>\n",
       "<p>5 rows × 72 columns</p>\n",
       "</div>"
      ],
      "text/plain": [
       "       Revisado en manual de la literatura  \\\n",
       "orden                                        \n",
       "59.0                                   1.0   \n",
       "72.0                                   1.0   \n",
       "13.0                                   1.0   \n",
       "43.0                                   1.0   \n",
       "105.0                                  1.0   \n",
       "\n",
       "       Revisado en Internet (Gutenberg, BNE, epub libre, Archive, CV, Wiki)  \\\n",
       "orden                                                                         \n",
       "59.0                                                 1.0                      \n",
       "72.0                                                 1.0                      \n",
       "13.0                                                 1.0                      \n",
       "43.0                                                 1.0                      \n",
       "105.0                                                1.0                      \n",
       "\n",
       "            author-full-name   surname author-name  author_viaf author_bne  \\\n",
       "orden                                                                        \n",
       "59.0    José María de Acosta    Acosta      Acosta   46583137.0          0   \n",
       "72.0          Antonio Espina    Espina     AEspina   24724313.0   XX828940   \n",
       "13.0   Pedro Antonio Alarcón   Alarcón     Alarcon   44294383.0   XX920308   \n",
       "43.0         Rafael Altamira  Altamira    Altamira          0.0          0   \n",
       "105.0        Antonio Machado   Machado    AMachado    7385547.0   XX991518   \n",
       "\n",
       "               Mejores resultados encontrados en Comentario  Obras completas?  \\\n",
       "orden                                                                           \n",
       "59.0                                           0          0               0.0   \n",
       "72.0                                           0          0               0.0   \n",
       "13.0   https://www.epublibre.org/autor/index/116          0               0.0   \n",
       "43.0                                           0          0               0.0   \n",
       "105.0                                          0          0               0.0   \n",
       "\n",
       "               ...            cv boolean  wikisource bool  google bool  \\\n",
       "orden          ...                                                       \n",
       "59.0           ...                   0.0              0.0          0.0   \n",
       "72.0           ...                   1.0              0.0          0.0   \n",
       "13.0           ...                   1.0              1.0          1.0   \n",
       "43.0           ...                   1.0              0.0          0.0   \n",
       "105.0          ...                   0.0              0.0          0.0   \n",
       "\n",
       "       sumatorio de proyectos que han digitalizado al autor  sum html  \\\n",
       "orden                                                                   \n",
       "59.0                                                 0.0          0.0   \n",
       "72.0                                                 1.0          1.0   \n",
       "13.0                                                 7.0          4.0   \n",
       "43.0                                                 4.0          2.0   \n",
       "105.0                                                2.0          2.0   \n",
       "\n",
       "       sum pdf  ranges digitalizacion  to_scan_temp Porcentaje por conseguir0  \\\n",
       "orden                                                                           \n",
       "59.0       0.0                    1.0           0.0                       1.0   \n",
       "72.0       0.0                    1.0           0.0                       0.2   \n",
       "13.0       3.0                    3.0           0.0                       0.2   \n",
       "43.0       2.0                    2.0           0.0                       0.5   \n",
       "105.0      0.0                    2.0           0.0                       0.2   \n",
       "\n",
       "       Porcentaje que falta0  \n",
       "orden                         \n",
       "59.0                    -1.0  \n",
       "72.0                     0.8  \n",
       "13.0                     0.8  \n",
       "43.0                    -0.5  \n",
       "105.0                    0.8  \n",
       "\n",
       "[5 rows x 72 columns]"
      ]
     },
     "execution_count": 20,
     "metadata": {},
     "output_type": "execute_result"
    }
   ],
   "source": [
    "novel_authors.head()"
   ]
  },
  {
   "cell_type": "code",
   "execution_count": 21,
   "metadata": {},
   "outputs": [],
   "source": [
    "dataset = \"population of authors\"\n",
    "wdir =\"/home/jose/Dropbox/Doktorarbeit/ne_data/chap3_1/\"\n"
   ]
  },
  {
   "cell_type": "code",
   "execution_count": 22,
   "metadata": {},
   "outputs": [
    {
     "data": {
      "image/png": "[encoded data removed]",
      "text/plain": [
       "<Figure size 864x432 with 1 Axes>"
      ]
     },
     "metadata": {},
     "output_type": "display_data"
    }
   ],
   "source": [
    "describe_data.grouped_bars(wdir = wdir, metadata = novel_authors, class_ = \"decade-birth\", dataset = dataset)\n"
   ]
  },
  {
   "cell_type": "code",
   "execution_count": 23,
   "metadata": {},
   "outputs": [
    {
     "data": {
      "text/plain": [
       "0    1880\n",
       "dtype: int64"
      ]
     },
     "execution_count": 23,
     "metadata": {},
     "output_type": "execute_result"
    }
   ],
   "source": [
    "novel_authors.loc[((novel_authors['novels'] > 0))][\"decade-birth\"].mode()"
   ]
  },
  {
   "cell_type": "code",
   "execution_count": 24,
   "metadata": {},
   "outputs": [
    {
     "name": "stdout",
     "output_type": "stream",
     "text": [
      "1881.0 1867.0 1895.0 28.0 1909 1853\n"
     ]
    }
   ],
   "source": [
    "print(novel_authors.loc[((novel_authors['novels'] > 0))][\"birth\"].median(),\n",
    "      novel_authors.loc[((novel_authors['novels'] > 0))][\"birth\"].quantile(0.25),\n",
    "      novel_authors.loc[((novel_authors['novels'] > 0))][\"birth\"].quantile(0.75),\n",
    "      novel_authors.loc[((novel_authors['novels'] > 0))][\"birth\"].quantile(0.75) - authors.loc[((authors['novels'] > 0))][\"birth\"].quantile(0.25),\n",
    "      1881+28,\n",
    "      1881-28)\n",
    "      "
   ]
  },
  {
   "cell_type": "code",
   "execution_count": 25,
   "metadata": {},
   "outputs": [
    {
     "data": {
      "image/png": "[encoded data removed]",
      "text/plain": [
       "<Figure size 864x432 with 1 Axes>"
      ]
     },
     "metadata": {},
     "output_type": "display_data"
    }
   ],
   "source": [
    "describe_data.grouped_bars(wdir = wdir, metadata = novel_authors, class_ = \"decade-death\", dataset = dataset)\n"
   ]
  },
  {
   "cell_type": "code",
   "execution_count": 26,
   "metadata": {},
   "outputs": [
    {
     "name": "stdout",
     "output_type": "stream",
     "text": [
      "1945.0 1932.5 1964.0 31.5 1976.5 1913.5\n"
     ]
    }
   ],
   "source": [
    "median_death = novel_authors.loc[((novel_authors['novels'] > 0))][\"death\"].median()\n",
    "q1_death = novel_authors.loc[((novel_authors['novels'] > 0))][\"death\"].quantile(0.25)\n",
    "q3_death = novel_authors.loc[((novel_authors['novels'] > 0))][\"death\"].quantile(0.75)\n",
    "iqr_death = q3_death - q1_death\n",
    "print(median_death , q1_death, q3_death, iqr_death, median_death + iqr_death, median_death - iqr_death)\n"
   ]
  },
  {
   "cell_type": "markdown",
   "metadata": {},
   "source": [
    "# 3.1.4. Statistical Population of Prose"
   ]
  },
  {
   "cell_type": "code",
   "execution_count": 27,
   "metadata": {},
   "outputs": [
    {
     "name": "stdout",
     "output_type": "stream",
     "text": [
      "metadata and class shape: \t (1674, 66)\n",
      "(1426, 66)\n"
     ]
    }
   ],
   "source": [
    "population_prose = load_data.load_metadata(wdir =\"/home/jose/Dropbox/Doktorarbeit/ne_data/chap3_1/\", metadata_table = \"population.csv\", sep = \"\\t\")\n",
    "population_prose = population_prose.loc[(population_prose['MdLE'] == 1)].copy()\n",
    "print(population_prose.shape)\n",
    "dataset = \"population of prose\""
   ]
  },
  {
   "cell_type": "code",
   "execution_count": 28,
   "metadata": {},
   "outputs": [
    {
     "data": {
      "text/plain": [
       "Index(['estudiable', 'MdLE', 'HdLE5-solo novelas', 'HdLE6-solo novelas',\n",
       "       'HdLE7-solo novelas', 'HdLE-solo novelas', 'Criteria', 'CoNSSA-canon',\n",
       "       'CoNSSA', 'author-name', 'full-title', 'quality', 'public', 'brow',\n",
       "       'title', 'year', 'genre', 'genre_orig', 'subgenre', 'HdLE5-7 subgenre',\n",
       "       'Genre-topic', 'Author-period', 'text-movement', 'text-movement-2',\n",
       "       'goal', 'source-full', 'source', 'format', 'status', 'cert_date',\n",
       "       'cert_genre', 'Source-link', 'Source-link2', 'Comments',\n",
       "       'text-TOC-range', 'Order', 'text-histlit-pages-MdLE', 'rand-freq-order',\n",
       "       'text-histlit-paragraph-novels-MdLE', 'author-volume-MdLE',\n",
       "       'author-pages', 'century', 'decade', 'Start-pag', 'End-page',\n",
       "       'author-start-page', 'Textbox 1', 'Textbox 2', 'Corpus 201512',\n",
       "       'Corpus1-3romances', 'Corpus2 – 3short stories',\n",
       "       'Corpus3 – romances vs short stories same author', 'Corpus-Delta',\n",
       "       'Date of downloading', 'Control', 'Link second hand', 'Source',\n",
       "       'Comprar', 'Año muerte autor', 'author-gender', 'Author finished',\n",
       "       'Texto en dominio público', 'Corpus easy authorship',\n",
       "       '1 text per author', 'random parametros delta', 'Antes cuento'],\n",
       "      dtype='object')"
      ]
     },
     "execution_count": 28,
     "metadata": {},
     "output_type": "execute_result"
    }
   ],
   "source": [
    "population_prose.columns"
   ]
  },
  {
   "cell_type": "code",
   "execution_count": 29,
   "metadata": {},
   "outputs": [
    {
     "name": "stdout",
     "output_type": "stream",
     "text": [
      "Prose works in MdLE\n"
     ]
    },
    {
     "data": {
      "text/plain": [
       "(1426, 66)"
      ]
     },
     "execution_count": 29,
     "metadata": {},
     "output_type": "execute_result"
    }
   ],
   "source": [
    "print(\"Prose works in MdLE\")\n",
    "population_prose.shape"
   ]
  },
  {
   "cell_type": "code",
   "execution_count": 30,
   "metadata": {},
   "outputs": [
    {
     "data": {
      "text/plain": [
       "(62, 66)"
      ]
     },
     "execution_count": 30,
     "metadata": {},
     "output_type": "execute_result"
    }
   ],
   "source": [
    "population_prose.loc[(population_prose['genre'] == \"?\")].shape"
   ]
  },
  {
   "cell_type": "code",
   "execution_count": 31,
   "metadata": {},
   "outputs": [
    {
     "data": {
      "text/plain": [
       "19"
      ]
     },
     "execution_count": 31,
     "metadata": {},
     "output_type": "execute_result"
    }
   ],
   "source": [
    "len(set(Counter(population_prose[\"genre\"]).most_common()))"
   ]
  },
  {
   "cell_type": "code",
   "execution_count": 32,
   "metadata": {},
   "outputs": [
    {
     "name": "stdout",
     "output_type": "stream",
     "text": [
      "novela 727 51.0\n",
      "ensayo 210 15.0\n",
      "cuentos 149 10.0\n",
      "novela corta 87 6.0\n",
      "? 62 4.0\n",
      "biografía 34 2.0\n",
      "cuento 32 2.0\n",
      "novelas cortas 28 2.0\n",
      "libro de viaje 20 1.0\n",
      "crónica 13 1.0\n",
      "autobiografía 12 1.0\n",
      "prosa lírica 11 1.0\n",
      "estampas 10 1.0\n",
      "greguerías 9 1.0\n",
      "diálogo 9 1.0\n",
      "memorias 6 0.0\n",
      "libro infantil 3 0.0\n",
      "diario 2 0.0\n",
      "aforismos 2 0.0\n"
     ]
    }
   ],
   "source": [
    "for genre in Counter(population_prose[\"genre\"]).most_common():\n",
    "        print(genre[0], genre[1], round(genre[1]/population_prose.shape[0],2)*100)"
   ]
  },
  {
   "cell_type": "code",
   "execution_count": 33,
   "metadata": {},
   "outputs": [
    {
     "data": {
      "image/png": "[encoded data removed]",
      "text/plain": [
       "<Figure size 432x864 with 1 Axes>"
      ]
     },
     "metadata": {},
     "output_type": "display_data"
    }
   ],
   "source": [
    "describe_data.grouped_bars(wdir = wdir, metadata = population_prose, class_ = \"genre\", dataset = dataset, horizontal =True)\n"
   ]
  },
  {
   "cell_type": "code",
   "execution_count": 34,
   "metadata": {},
   "outputs": [
    {
     "name": "stderr",
     "output_type": "stream",
     "text": [
      "/usr/local/lib/python3.6/dist-packages/matplotlib/figure.py:445: UserWarning: Matplotlib is currently using module://ipykernel.pylab.backend_inline, which is a non-GUI backend, so cannot show the figure.\n",
      "  % get_backend())\n"
     ]
    },
    {
     "data": {
      "image/png": "[encoded data removed]",
      "text/plain": [
       "<Figure size 864x432 with 1 Axes>"
      ]
     },
     "metadata": {},
     "output_type": "display_data"
    }
   ],
   "source": [
    "describe_data.describe_corpus_stackedbars(wdir = wdir, metadata = population_prose, class_1 = \"decade\", class_2 = \"genre\", dataset = dataset, cmap=\"tab10\")"
   ]
  },
  {
   "cell_type": "code",
   "execution_count": 35,
   "metadata": {},
   "outputs": [
    {
     "name": "stderr",
     "output_type": "stream",
     "text": [
      "/usr/local/lib/python3.6/dist-packages/matplotlib/figure.py:445: UserWarning: Matplotlib is currently using module://ipykernel.pylab.backend_inline, which is a non-GUI backend, so cannot show the figure.\n",
      "  % get_backend())\n"
     ]
    },
    {
     "data": {
      "image/png": "[encoded data removed]",
      "text/plain": [
       "<Figure size 864x432 with 1 Axes>"
      ]
     },
     "metadata": {},
     "output_type": "display_data"
    }
   ],
   "source": [
    "describe_data.describe_corpus_stackedbars(wdir = wdir, metadata = novel_authors, class_1 = \"decade-birth\", class_2 = \"non-novel-genre\", dataset = dataset, loc_legend =\"upper right\")\n"
   ]
  },
  {
   "cell_type": "markdown",
   "metadata": {},
   "source": [
    "# 3.1.5. Statistical Population of Novels"
   ]
  },
  {
   "cell_type": "code",
   "execution_count": 36,
   "metadata": {},
   "outputs": [
    {
     "name": "stdout",
     "output_type": "stream",
     "text": [
      "metadata and class shape: \t (1674, 66)\n"
     ]
    },
    {
     "data": {
      "text/plain": [
       "(789, 66)"
      ]
     },
     "execution_count": 36,
     "metadata": {},
     "output_type": "execute_result"
    }
   ],
   "source": [
    "population_prose = load_data.load_metadata(wdir =\"/home/jose/Dropbox/Doktorarbeit/ne_data/chap3_1/\", metadata_table = \"population.csv\", sep = \"\\t\")\n",
    "\n",
    "population_prose = population_prose.loc[(population_prose['MdLE'] == 1)].copy()\n",
    "population_novels_and_doubts = population_prose.loc[population_prose[\"genre\"].isin([\"?\", \"novela\"])].copy()\n",
    "population_novels_and_doubts.shape\n"
   ]
  },
  {
   "cell_type": "code",
   "execution_count": 37,
   "metadata": {},
   "outputs": [
    {
     "data": {
      "text/plain": [
       "Counter({'?': 54,\n",
       "         'autobiografía': 2,\n",
       "         'biografía': 2,\n",
       "         'cartas de opinión': 1,\n",
       "         'ensayo': 1,\n",
       "         'novela': 727,\n",
       "         'poemas en prosa': 1,\n",
       "         'prosa lírica': 1})"
      ]
     },
     "execution_count": 37,
     "metadata": {},
     "output_type": "execute_result"
    }
   ],
   "source": [
    "Counter(population_novels_and_doubts[\"genre_orig\"].fillna(\"?\"))"
   ]
  },
  {
   "cell_type": "code",
   "execution_count": 38,
   "metadata": {},
   "outputs": [],
   "source": [
    "population_novels = population_prose.loc[(population_prose['genre'] == \"novela\")].copy()\n",
    "dataset= \"population of novels\""
   ]
  },
  {
   "cell_type": "code",
   "execution_count": 39,
   "metadata": {},
   "outputs": [
    {
     "data": {
      "text/plain": [
       "Index(['estudiable', 'MdLE', 'HdLE5-solo novelas', 'HdLE6-solo novelas',\n",
       "       'HdLE7-solo novelas', 'HdLE-solo novelas', 'Criteria', 'CoNSSA-canon',\n",
       "       'CoNSSA', 'author-name', 'full-title', 'quality', 'public', 'brow',\n",
       "       'title', 'year', 'genre', 'genre_orig', 'subgenre', 'HdLE5-7 subgenre',\n",
       "       'Genre-topic', 'Author-period', 'text-movement', 'text-movement-2',\n",
       "       'goal', 'source-full', 'source', 'format', 'status', 'cert_date',\n",
       "       'cert_genre', 'Source-link', 'Source-link2', 'Comments',\n",
       "       'text-TOC-range', 'Order', 'text-histlit-pages-MdLE', 'rand-freq-order',\n",
       "       'text-histlit-paragraph-novels-MdLE', 'author-volume-MdLE',\n",
       "       'author-pages', 'century', 'decade', 'Start-pag', 'End-page',\n",
       "       'author-start-page', 'Textbox 1', 'Textbox 2', 'Corpus 201512',\n",
       "       'Corpus1-3romances', 'Corpus2 – 3short stories',\n",
       "       'Corpus3 – romances vs short stories same author', 'Corpus-Delta',\n",
       "       'Date of downloading', 'Control', 'Link second hand', 'Source',\n",
       "       'Comprar', 'Año muerte autor', 'author-gender', 'Author finished',\n",
       "       'Texto en dominio público', 'Corpus easy authorship',\n",
       "       '1 text per author', 'random parametros delta', 'Antes cuento'],\n",
       "      dtype='object')"
      ]
     },
     "execution_count": 39,
     "metadata": {},
     "output_type": "execute_result"
    }
   ],
   "source": [
    "population_novels.columns"
   ]
  },
  {
   "cell_type": "code",
   "execution_count": 40,
   "metadata": {},
   "outputs": [
    {
     "data": {
      "image/png": "[encoded data removed]",
      "text/plain": [
       "<Figure size 864x432 with 1 Axes>"
      ]
     },
     "metadata": {},
     "output_type": "display_data"
    }
   ],
   "source": [
    "describe_data.grouped_bars(wdir = wdir, metadata = population_novels, class_ = \"decade\", dataset = dataset)\n"
   ]
  },
  {
   "cell_type": "code",
   "execution_count": 41,
   "metadata": {},
   "outputs": [
    {
     "name": "stderr",
     "output_type": "stream",
     "text": [
      "/usr/local/lib/python3.6/dist-packages/matplotlib/figure.py:445: UserWarning: Matplotlib is currently using module://ipykernel.pylab.backend_inline, which is a non-GUI backend, so cannot show the figure.\n",
      "  % get_backend())\n"
     ]
    },
    {
     "data": {
      "image/png": "[encoded data removed]",
      "text/plain": [
       "<Figure size 864x432 with 1 Axes>"
      ]
     },
     "metadata": {},
     "output_type": "display_data"
    }
   ],
   "source": [
    "describe_data.describe_corpus_stackedbars(wdir = wdir, metadata = population_novels, class_1 = \"decade\", class_2 = \"author-gender\", dataset = dataset, cmap=\"viridis\", loc_legend =\"upper right\")"
   ]
  },
  {
   "cell_type": "code",
   "execution_count": 42,
   "metadata": {},
   "outputs": [
    {
     "name": "stdout",
     "output_type": "stream",
     "text": [
      "amount of novels in MdLE (727, 66)\n"
     ]
    }
   ],
   "source": [
    "print(\"amount of novels in MdLE\",\n",
    "    population_novels.loc[(population_novels['genre'] == \"novela\" )].shape)"
   ]
  },
  {
   "cell_type": "code",
   "execution_count": 43,
   "metadata": {},
   "outputs": [
    {
     "name": "stdout",
     "output_type": "stream",
     "text": [
      "amount of others in MdLE (62, 66)\n"
     ]
    }
   ],
   "source": [
    "print(\"amount of others in MdLE\",\n",
    "    population_novels_and_doubts.loc[(population_novels_and_doubts['genre'] == \"?\" )].shape)"
   ]
  },
  {
   "cell_type": "code",
   "execution_count": 44,
   "metadata": {},
   "outputs": [
    {
     "data": {
      "text/plain": [
       "727"
      ]
     },
     "execution_count": 44,
     "metadata": {},
     "output_type": "execute_result"
    }
   ],
   "source": [
    "population_novels.loc[(population_novels['genre'] == \"novela\" )].shape[0] + population_novels.loc[(population_novels['genre'] == \"?\" )].shape[0]\n"
   ]
  },
  {
   "cell_type": "code",
   "execution_count": 45,
   "metadata": {},
   "outputs": [
    {
     "data": {
      "image/png": "[encoded data removed]",
      "text/plain": [
       "<Figure size 864x432 with 1 Axes>"
      ]
     },
     "metadata": {},
     "output_type": "display_data"
    }
   ],
   "source": [
    "describe_data.grouped_bars(wdir = wdir, metadata = population_novels, class_ = \"year\", dataset = dataset, rot = 90)"
   ]
  },
  {
   "cell_type": "code",
   "execution_count": 46,
   "metadata": {},
   "outputs": [
    {
     "data": {
      "text/plain": [
       "(349, 66)"
      ]
     },
     "execution_count": 46,
     "metadata": {},
     "output_type": "execute_result"
    }
   ],
   "source": [
    "population_novels.loc[population_novels[\"subgenre\"].notnull()].shape"
   ]
  },
  {
   "cell_type": "code",
   "execution_count": 47,
   "metadata": {},
   "outputs": [
    {
     "data": {
      "text/plain": [
       "89"
      ]
     },
     "execution_count": 47,
     "metadata": {},
     "output_type": "execute_result"
    }
   ],
   "source": [
    "len(set(population_novels[\"subgenre\"]))"
   ]
  },
  {
   "cell_type": "code",
   "execution_count": 48,
   "metadata": {},
   "outputs": [
    {
     "name": "stdout",
     "output_type": "stream",
     "text": [
      "nan 378 52.0\n",
      "novela erótica 38 5.0\n",
      "episodio nacional 30 4.0\n",
      "novela histórica 28 4.0\n",
      "novela naturalista 23 3.0\n",
      "novela social 18 2.0\n",
      "novela realista 12 2.0\n",
      "novela de aventuras 8 1.0\n",
      "novela humorística 8 1.0\n",
      "novelas de la carne 8 1.0\n",
      "novelas de la vida 7 1.0\n",
      "novelas sevillanas 6 1.0\n",
      "novela sentimental 5 1.0\n",
      "novela valenciana 5 1.0\n",
      "novelas cortas 5 1.0\n",
      "novela lírica 5 1.0\n",
      "novelas de transición 5 1.0\n",
      "novela provinciana 5 1.0\n",
      "novela de tesis 4 1.0\n",
      "novela regional 4 1.0\n",
      "novela de crítica social 4 1.0\n",
      "novela de guerra 4 1.0\n",
      "novelas del alma 4 1.0\n",
      "novelas de crítica social 4 1.0\n",
      "género intermedio (novela y ensayo) 3 0.0\n",
      "novela fantástica 3 0.0\n",
      "novela dialogada 3 0.0\n",
      "novela impresionista 3 0.0\n",
      "novelas de la montaña 3 0.0\n",
      "novelas de la guerra 3 0.0\n",
      "novela autobiográfica 3 0.0\n",
      "novela dramática 3 0.0\n",
      "novela simbólica 3 0.0\n",
      "novela americana 3 0.0\n",
      "novela vanguardista 3 0.0\n",
      "novela toledada 3 0.0\n",
      "novelas de la mujer 3 0.0\n",
      "novelas alucinantes 3 0.0\n",
      "novela expresionista 3 0.0\n",
      "novela 2 0.0\n",
      "novela corta 2 0.0\n",
      "novela policíaca 2 0.0\n",
      "novela de costumbres cortesanas 2 0.0\n",
      "novela costumbrista 2 0.0\n",
      "novelas de aventuras 2 0.0\n",
      "novela navarra 2 0.0\n",
      "novela normativa 2 0.0\n",
      "novelas de acción 2 0.0\n",
      "novelas del campo andaluz 2 0.0\n",
      "novelas docentes 2 0.0\n",
      "novelas de vanguardia 2 0.0\n",
      "novela alegórica 2 0.0\n",
      "novela combativa 2 0.0\n",
      "novela contemporánea 1 0.0\n",
      "novela zolesca 1 0.0\n",
      "ensayo de novela 1 0.0\n",
      "escenas 1 0.0\n",
      "apuntes 1 0.0\n",
      "figura 1 0.0\n",
      "novela de acción 1 0.0\n",
      "novela modernista 1 0.0\n",
      "Novela-ensayo 1 0.0\n",
      "novela seudohistórica 1 0.0\n",
      "novela de evocación 1 0.0\n",
      "novela naturalista? 1 0.0\n",
      "novela regeneracionista 1 0.0\n",
      "novela ensayo 1 0.0\n",
      "ensayo novelado 1 0.0\n",
      "novela alegórico-realista 1 0.0\n",
      "novela sicológica 1 0.0\n",
      "novela taurina 1 0.0\n",
      "novela breve 1 0.0\n",
      "novela multitudinaria 1 0.0\n",
      "novela de la nebulosa 1 0.0\n",
      "novela picaresca 1 0.0\n",
      "pseudobiografía 1 0.0\n",
      "relato histórico 1 0.0\n",
      "novela epistolar 1 0.0\n",
      "novela anticlerical 1 0.0\n",
      "novela galante 1 0.0\n",
      "novela política 1 0.0\n",
      "novela rosa 1 0.0\n",
      "novela cosmopolita 1 0.0\n",
      "Novelas de Castilla 1 0.0\n",
      "novela exótica 1 0.0\n",
      "novela de acción y aventuras 1 0.0\n",
      "novela madrieñas 1 0.0\n",
      "novela folletinesca 1 0.0\n",
      "novela de tesis feminista 1 0.0\n"
     ]
    }
   ],
   "source": [
    "for genre in Counter(population_novels[\"subgenre\"]).most_common():\n",
    "        print(genre[0], genre[1], round(genre[1]/population_novels.shape[0],2)*100)"
   ]
  },
  {
   "cell_type": "code",
   "execution_count": 49,
   "metadata": {},
   "outputs": [
    {
     "data": {
      "image/png": "[encoded data removed]",
      "text/plain": [
       "<Figure size 432x864 with 1 Axes>"
      ]
     },
     "metadata": {},
     "output_type": "display_data"
    }
   ],
   "source": [
    "describe_data.grouped_bars(wdir = wdir, metadata = population_novels.loc[population_novels[\"subgenre\"].notnull()], class_ = \"subgenre\", dataset = dataset, horizontal =True)"
   ]
  },
  {
   "cell_type": "code",
   "execution_count": 50,
   "metadata": {},
   "outputs": [
    {
     "data": {
      "text/plain": [
       "[(nan, 378),\n",
       " ('novela erótica', 38),\n",
       " ('episodio nacional', 30),\n",
       " ('novela histórica', 28),\n",
       " ('novela naturalista', 23),\n",
       " ('novela social', 18),\n",
       " ('novela realista', 12),\n",
       " ('novela de aventuras', 8),\n",
       " ('novela humorística', 8),\n",
       " ('novelas de la carne', 8),\n",
       " ('novelas de la vida', 7),\n",
       " ('novelas sevillanas', 6),\n",
       " ('novela sentimental', 5),\n",
       " ('novela valenciana', 5),\n",
       " ('novelas cortas', 5),\n",
       " ('novela lírica', 5),\n",
       " ('novelas de transición', 5),\n",
       " ('novela provinciana', 5),\n",
       " ('novela de tesis', 4),\n",
       " ('novela regional', 4)]"
      ]
     },
     "execution_count": 50,
     "metadata": {},
     "output_type": "execute_result"
    }
   ],
   "source": [
    "Counter(population_novels[\"subgenre\"]).most_common(20)"
   ]
  },
  {
   "cell_type": "code",
   "execution_count": 51,
   "metadata": {},
   "outputs": [
    {
     "data": {
      "image/png": "[encoded data removed]",
      "text/plain": [
       "<Figure size 432x288 with 1 Axes>"
      ]
     },
     "metadata": {},
     "output_type": "display_data"
    }
   ],
   "source": [
    "class_counter = Counter(population_novels[\"subgenre\"])\n",
    "describe_data.histogram_counter(wdir = wdir, class_counter = class_counter, class_ = \"subgenre\", dataset = dataset, bins = 37)"
   ]
  },
  {
   "cell_type": "code",
   "execution_count": 52,
   "metadata": {},
   "outputs": [
    {
     "data": {
      "text/plain": [
       "36"
      ]
     },
     "execution_count": 52,
     "metadata": {},
     "output_type": "execute_result"
    }
   ],
   "source": [
    "len([value for key,value in class_counter.items() if value == 1])"
   ]
  },
  {
   "cell_type": "code",
   "execution_count": 53,
   "metadata": {},
   "outputs": [
    {
     "data": {
      "text/plain": [
       "65"
      ]
     },
     "execution_count": 53,
     "metadata": {},
     "output_type": "execute_result"
    }
   ],
   "source": [
    "len([value for key,value in class_counter.items() if value <= 3])"
   ]
  },
  {
   "cell_type": "code",
   "execution_count": 54,
   "metadata": {},
   "outputs": [
    {
     "data": {
      "text/plain": [
       "'/home/jose/Dropbox/Doktorarbeit/ne_data/chap3_1/'"
      ]
     },
     "execution_count": 54,
     "metadata": {},
     "output_type": "execute_result"
    }
   ],
   "source": [
    "wdir"
   ]
  },
  {
   "cell_type": "code",
   "execution_count": null,
   "metadata": {},
   "outputs": [],
   "source": []
  },
  {
   "cell_type": "code",
   "execution_count": 55,
   "metadata": {},
   "outputs": [
    {
     "name": "stdout",
     "output_type": "stream",
     "text": [
      "(8, 6)\n"
     ]
    },
    {
     "data": {
      "image/png": "[encoded data removed]",
      "text/plain": [
       "<Figure size 432x288 with 1 Axes>"
      ]
     },
     "metadata": {},
     "output_type": "display_data"
    }
   ],
   "source": [
    "describe_data.chronological_heatmap(wdir = wdir, dataset = dataset, metadata = population_novels.loc[population_novels[\"subgenre\"].isin([\"novela naturalista\",\"episodio nacional\",\"novela realista\",\"novela erótica\",\"novela histórica\",\"novela social\",\"novela de aventuras\",\"novela humorística\"])], class_1 = \"decade\", class_2 = \"subgenre\")"
   ]
  },
  {
   "cell_type": "code",
   "execution_count": 56,
   "metadata": {},
   "outputs": [
    {
     "data": {
      "text/plain": [
       "('Galdos', 56)"
      ]
     },
     "execution_count": 56,
     "metadata": {},
     "output_type": "execute_result"
    }
   ],
   "source": [
    "Counter(population_novels[\"author-name\"]).most_common(20)[0]"
   ]
  },
  {
   "cell_type": "code",
   "execution_count": 57,
   "metadata": {},
   "outputs": [
    {
     "name": "stdout",
     "output_type": "stream",
     "text": [
      "(21, 5)\n",
      "(3.5, 11.5)\n"
     ]
    },
    {
     "data": {
      "image/png": "[encoded data removed]",
      "text/plain": [
       "<Figure size 432x504 with 1 Axes>"
      ]
     },
     "metadata": {},
     "output_type": "display_data"
    }
   ],
   "source": [
    "describe_data.chronological_heatmap(wdir = wdir, dataset = dataset, metadata = population_novels.loc[ population_novels[\"subgenre\"].isin([\"novela naturalista\",\"episodio nacional\",\"novela erótica\",\"novela histórica\",\"novela de aventuras\"])], class_1 = \"subgenre\", class_2 = \"author-name\")"
   ]
  },
  {
   "cell_type": "markdown",
   "metadata": {},
   "source": [
    "# 3.1.6. Definition of the Corpora: CoNSSA and CoNSSA-canon"
   ]
  },
  {
   "cell_type": "code",
   "execution_count": 58,
   "metadata": {},
   "outputs": [
    {
     "data": {
      "text/plain": [
       "'/home/jose/Dropbox/Doktorarbeit/ne_data/chap3_1/'"
      ]
     },
     "execution_count": 58,
     "metadata": {},
     "output_type": "execute_result"
    }
   ],
   "source": [
    "wdir"
   ]
  },
  {
   "cell_type": "code",
   "execution_count": 59,
   "metadata": {},
   "outputs": [
    {
     "name": "stdout",
     "output_type": "stream",
     "text": [
      "metadata and class shape: \t (1674, 66)\n"
     ]
    },
    {
     "data": {
      "text/plain": [
       "(1426, 66)"
      ]
     },
     "execution_count": 59,
     "metadata": {},
     "output_type": "execute_result"
    }
   ],
   "source": [
    "population_prose = load_data.load_metadata(wdir = wdir, metadata_table = \"population.csv\", sep = \"\\t\")\n",
    "\n",
    "population_prose = population_prose.loc[(population_prose['MdLE'] == 1)].copy()\n",
    "population_prose.shape\n"
   ]
  },
  {
   "cell_type": "code",
   "execution_count": 60,
   "metadata": {},
   "outputs": [
    {
     "data": {
      "text/plain": [
       "(138, 66)"
      ]
     },
     "execution_count": 60,
     "metadata": {},
     "output_type": "execute_result"
    }
   ],
   "source": [
    "population_prose.loc[population_prose[\"CoNSSA-canon\"] == 1].shape"
   ]
  },
  {
   "cell_type": "code",
   "execution_count": 61,
   "metadata": {},
   "outputs": [
    {
     "data": {
      "text/plain": [
       "(1068, 66)"
      ]
     },
     "execution_count": 61,
     "metadata": {},
     "output_type": "execute_result"
    }
   ],
   "source": [
    "population_prose.loc[population_prose[\"CoNSSA\"] == 0].shape"
   ]
  },
  {
   "cell_type": "code",
   "execution_count": 62,
   "metadata": {},
   "outputs": [
    {
     "data": {
      "text/plain": [
       "(358, 66)"
      ]
     },
     "execution_count": 62,
     "metadata": {},
     "output_type": "execute_result"
    }
   ],
   "source": [
    "population_prose.loc[population_prose[\"CoNSSA\"] == 1].shape"
   ]
  },
  {
   "cell_type": "code",
   "execution_count": 63,
   "metadata": {},
   "outputs": [
    {
     "data": {
      "text/plain": [
       "(138, 66)"
      ]
     },
     "execution_count": 63,
     "metadata": {},
     "output_type": "execute_result"
    }
   ],
   "source": [
    "population_prose.loc[population_prose[\"CoNSSA-canon\"] == 1].shape"
   ]
  },
  {
   "cell_type": "code",
   "execution_count": 64,
   "metadata": {},
   "outputs": [
    {
     "data": {
      "text/plain": [
       "(220, 66)"
      ]
     },
     "execution_count": 64,
     "metadata": {},
     "output_type": "execute_result"
    }
   ],
   "source": [
    "population_prose.loc[ (population_prose[\"CoNSSA\"] == 1) & (population_prose[\"CoNSSA-canon\"] == 0)].shape"
   ]
  },
  {
   "cell_type": "code",
   "execution_count": 65,
   "metadata": {},
   "outputs": [
    {
     "data": {
      "text/plain": [
       "Counter({'?': 12, 'greguerías': 2, 'novela': 206})"
      ]
     },
     "execution_count": 65,
     "metadata": {},
     "output_type": "execute_result"
    }
   ],
   "source": [
    "Counter(population_prose.loc[ (population_prose[\"CoNSSA\"] == 1) & (population_prose[\"CoNSSA-canon\"] == 0)][\"genre\"])"
   ]
  },
  {
   "cell_type": "code",
   "execution_count": 66,
   "metadata": {},
   "outputs": [
    {
     "data": {
      "text/plain": [
       "Counter({'novela': 138})"
      ]
     },
     "execution_count": 66,
     "metadata": {},
     "output_type": "execute_result"
    }
   ],
   "source": [
    "Counter(population_prose.loc[ (population_prose[\"CoNSSA\"] == 1) & (population_prose[\"CoNSSA-canon\"] == 1)][\"genre\"])"
   ]
  },
  {
   "cell_type": "code",
   "execution_count": 67,
   "metadata": {},
   "outputs": [
    {
     "data": {
      "text/plain": [
       "220"
      ]
     },
     "execution_count": 67,
     "metadata": {},
     "output_type": "execute_result"
    }
   ],
   "source": [
    "206+12+2"
   ]
  },
  {
   "cell_type": "code",
   "execution_count": 68,
   "metadata": {},
   "outputs": [
    {
     "data": {
      "text/plain": [
       "344"
      ]
     },
     "execution_count": 68,
     "metadata": {},
     "output_type": "execute_result"
    }
   ],
   "source": [
    "208+136"
   ]
  },
  {
   "cell_type": "code",
   "execution_count": 69,
   "metadata": {},
   "outputs": [
    {
     "data": {
      "text/plain": [
       "358"
      ]
     },
     "execution_count": 69,
     "metadata": {},
     "output_type": "execute_result"
    }
   ],
   "source": [
    "138+220\n"
   ]
  },
  {
   "cell_type": "code",
   "execution_count": 70,
   "metadata": {},
   "outputs": [
    {
     "data": {
      "text/plain": [
       "0.4731774415405777"
      ]
     },
     "execution_count": 70,
     "metadata": {},
     "output_type": "execute_result"
    }
   ],
   "source": [
    "(136+208) / population_prose.loc[population_prose[\"genre\"] == \"novela\"].shape[0]"
   ]
  },
  {
   "cell_type": "code",
   "execution_count": 73,
   "metadata": {},
   "outputs": [
    {
     "name": "stdout",
     "output_type": "stream",
     "text": [
      "metadata and class shape: \t (358, 177)\n",
      "['idno', 'author.name', 'title', 'year', 'supergenre', 'genre', 'subgenre.cligs.important', 'author.country', 'author.viaf', 'author.bne', 'author.gender', 'title.main', 'title.viaf', 'title.bne', 'author.name.full', 'subtitle', 'availability', 'subgenre.cligs', 'genre.analyzed', 'genre.analyzed.cert', 'date.file', 'digital.source', 'digital.source.format', 'genre.subtitle', 'narrator', 'protagonist.gender', 'setting.type', 'form', 'publication', 'digital.source.idno', 'author.continent', 'authorText.group', 'authorText.subgroup', 'protagonist.name', 'protagonist.age', 'protagonist.socLevel', 'protagonist.profession', 'representation', 'setting.continent', 'setting.country', 'setting.settlement', 'setting.territory', 'text.movement', 'time.period', 'time.span', 'authorText.relation', 'end', 'time.year', 'keywords.cert', 'author.movement', 'author.submovement', 'author.date.birth', 'author.date.death', 'litHist.literaryQuality', 'litHist.brow', 'litHist.audience', 'author.litHist.pages', 'author.nonNovelGenre', 'litHist.pages', 'author.year.change', 'setting.settlement.represented.exist', 'setting.represented', 'MdLE', 'CoNSSA', 'CoNSSA.canon', 'HdLE', 'subgenre.lithist.MdLE', 'subgenre.lithist.HdLE', 'subgenre.edit.epublibre', 'subgenre.edit.amazon', 'subgenre.edit.wikidata', 'subgenre.edit.esdbpedia', 'subgenre.subtitle.bne', 'subgenre.subtitle.first.edition', 'subgenre.cluster', 'am.tokens', 'am.chars', 'am.divs', 'am.verses', 'am.sps', 'am.paragraphs', 'am.pds', 'am.numerals', 'am.puncts', 'am.blocks', 'am.chapters', 'am.shortStories', 'am.parts', 'am.sections', 'am.divisions', 'am.lg.poems', 'am.lg.stanzas', 'am.saids', 'am.narrative.ps', 'am.punctual.ss', 'len.abstract', 'am.fts', 'len.chapters.mean', 'len.chapters.std', 'len.chapters.median', 'len.chapters.iqr', 'am.conjunctions', 'am.determiners', 'am.nouns', 'am.verbs', 'am.adverbs', 'am.adjectives', 'am.adpositions', 'am.punctuations', 'am.pronouns', 'am.dates', 'am.numbers', 'am.interjections', 'am.ne.persons', 'am.ne.organizations', 'am.ne.locations', 'am.ne.others', 'am.ss', 'len.ss.mean', 'len.ss.std', 'len.ss.median', 'len.ss.iqr', 'am.ss.active.verbs.mean', 'am.ss.active.verbs.std', 'am.ss.active.verbs.median', 'am.ss.active.verbs.iqr', 'am.ws', 'am.ws.num.mean', 'am.ws.num.std', 'am.ws.num.median', 'am.ws.num.iqr', 'am.wnlex.noun.plants', 'am.wnlex.verb.communications', 'am.wnlex.noun.foods', 'am.wnlex.verb.possessions', 'am.wnlex.verb.cognitions', 'am.wnlex.noun.communications', 'am.wnlex.noun.states', 'am.wnlex.verb.statives', 'am.wnlex.noun.cognitions', 'am.wnlex.noun.times', 'am.wnlex.verb.bodys', 'am.wnlex.noun.persons', 'am.wnlex.adj.alls', 'am.wnlex.noun.quantitys', 'am.wnlex.noun.phenomenons', 'am.wnlex.verb.creations', 'am.wnlex.adj.perts', 'am.wnlex.adv.alls', 'am.wnlex.noun.processs', 'am.wnlex.noun.artifacts', 'am.wnlex.verb.perceptions', 'am.wnlex.noun.feelings', 'am.wnlex.verb.weathers', 'am.wnlex.noun.substances', 'am.wnlex.noun.shapes', 'am.wnlex.verb.competitions', 'am.wnlex.verb.motions', 'am.wnlex.noun.animals', 'am.wnlex.noun.acts', 'am.wnlex.noun.bodys', 'am.wnlex.noun.objects', 'am.wnlex.noun.motives', 'am.wnlex.verb.socials', 'am.wnlex.noun.groups', 'am.wnlex.verb.consumptions', 'am.wnlex.noun.possessions', 'am.wnlex.noun.Topss', 'am.wnlex.noun.relations', 'am.wnlex.noun.attributes', 'am.wnlex.verb.emotions', 'am.wnlex.noun.locations', 'am.wnlex.noun.events', 'am.wnlex.verb.contacts', 'am.wnlex.xxxs', 'am.wnlex.verb.changes', 'decade'] (358, 177)\n"
     ]
    },
    {
     "data": {
      "image/png": "[encoded data removed]",
      "text/plain": [
       "<Figure size 432x288 with 1 Axes>"
      ]
     },
     "metadata": {},
     "output_type": "display_data"
    }
   ],
   "source": [
    "corpus = load_data.load_metadata(wdir = wdir, metadata_table = \"metadata_beta-opt-obl-structure.csv\", sep = \",\")\n",
    "print( corpus.columns.tolist(), end=\" \")\n",
    "print(corpus.shape)\n",
    "\n",
    "populations_number_texts = population_novels.loc[population_novels[\"genre\"] == \"novela\"].groupby([\"decade\"])[\"full-title\"].count()\n",
    "\n",
    "conssa_number_texts = corpus.loc[corpus[\"CoNSSA\"] == True].groupby([\"decade\"])[\"title\"].count() \n",
    "\n",
    "conssa_number_texts.index= conssa_number_texts.index.astype(str)\n",
    "\n",
    "conssa_canon_number_texts =  corpus.loc[corpus[\"CoNSSA.canon\"] == True].groupby([\"decade\"])[\"title\"].count()\n",
    "\n",
    "conssa_canon_number_texts.index = conssa_canon_number_texts.index.astype(str)\n",
    "\n",
    "comparition = pd.DataFrame([conssa_number_texts,conssa_canon_number_texts,populations_number_texts], index=[\"CoNSSA\",\"CoNSSA-canon\",\"population (novels)\"]).T.fillna(0)\n",
    "\n",
    "fig = comparition.plot.bar(cmap = \"viridis\")\n",
    "\n",
    "plt.xticks(rotation=45)\n",
    "\n",
    "plt.ylabel(\"Number of texts\")\n",
    "plt.title(\"Comparison of Population, CoNSSA and CoNSSA-canon over decades\")\n",
    "\n",
    "plt.savefig(wdir + \"/visualisations/compare_population_connsa.png\", dpi=300)\n",
    "\n",
    "\n",
    "plt.show(fig)"
   ]
  },
  {
   "cell_type": "markdown",
   "metadata": {},
   "source": [
    "# 3.1.9. Description of the Corpus"
   ]
  },
  {
   "cell_type": "code",
   "execution_count": 74,
   "metadata": {},
   "outputs": [
    {
     "name": "stdout",
     "output_type": "stream",
     "text": [
      "metadata and class shape: \t (358, 177)\n"
     ]
    },
    {
     "data": {
      "text/plain": [
       "(358, 177)"
      ]
     },
     "execution_count": 74,
     "metadata": {},
     "output_type": "execute_result"
    }
   ],
   "source": [
    "metadata = load_data.load_metadata(wdir = wdir, metadata_table = \"metadata_beta-opt-obl-structure.csv\", sep = \",\")\n",
    "dataset = \"CoNSSA\"\n",
    "metadata.shape"
   ]
  },
  {
   "cell_type": "code",
   "execution_count": 75,
   "metadata": {},
   "outputs": [
    {
     "data": {
      "text/plain": [
       "['idno',\n",
       " 'author.name',\n",
       " 'title',\n",
       " 'year',\n",
       " 'supergenre',\n",
       " 'genre',\n",
       " 'subgenre.cligs.important',\n",
       " 'author.country',\n",
       " 'author.viaf',\n",
       " 'author.bne',\n",
       " 'author.gender',\n",
       " 'title.main',\n",
       " 'title.viaf',\n",
       " 'title.bne',\n",
       " 'author.name.full',\n",
       " 'subtitle',\n",
       " 'availability',\n",
       " 'subgenre.cligs',\n",
       " 'genre.analyzed',\n",
       " 'genre.analyzed.cert',\n",
       " 'date.file',\n",
       " 'digital.source',\n",
       " 'digital.source.format',\n",
       " 'genre.subtitle',\n",
       " 'narrator',\n",
       " 'protagonist.gender',\n",
       " 'setting.type',\n",
       " 'form',\n",
       " 'publication',\n",
       " 'digital.source.idno',\n",
       " 'author.continent',\n",
       " 'authorText.group',\n",
       " 'authorText.subgroup',\n",
       " 'protagonist.name',\n",
       " 'protagonist.age',\n",
       " 'protagonist.socLevel',\n",
       " 'protagonist.profession',\n",
       " 'representation',\n",
       " 'setting.continent',\n",
       " 'setting.country',\n",
       " 'setting.settlement',\n",
       " 'setting.territory',\n",
       " 'text.movement',\n",
       " 'time.period',\n",
       " 'time.span',\n",
       " 'authorText.relation',\n",
       " 'end',\n",
       " 'time.year',\n",
       " 'keywords.cert',\n",
       " 'author.movement',\n",
       " 'author.submovement',\n",
       " 'author.date.birth',\n",
       " 'author.date.death',\n",
       " 'litHist.literaryQuality',\n",
       " 'litHist.brow',\n",
       " 'litHist.audience',\n",
       " 'author.litHist.pages',\n",
       " 'author.nonNovelGenre',\n",
       " 'litHist.pages',\n",
       " 'author.year.change',\n",
       " 'setting.settlement.represented.exist',\n",
       " 'setting.represented',\n",
       " 'MdLE',\n",
       " 'CoNSSA',\n",
       " 'CoNSSA.canon',\n",
       " 'HdLE',\n",
       " 'subgenre.lithist.MdLE',\n",
       " 'subgenre.lithist.HdLE',\n",
       " 'subgenre.edit.epublibre',\n",
       " 'subgenre.edit.amazon',\n",
       " 'subgenre.edit.wikidata',\n",
       " 'subgenre.edit.esdbpedia',\n",
       " 'subgenre.subtitle.bne',\n",
       " 'subgenre.subtitle.first.edition',\n",
       " 'subgenre.cluster',\n",
       " 'am.tokens',\n",
       " 'am.chars',\n",
       " 'am.divs',\n",
       " 'am.verses',\n",
       " 'am.sps',\n",
       " 'am.paragraphs',\n",
       " 'am.pds',\n",
       " 'am.numerals',\n",
       " 'am.puncts',\n",
       " 'am.blocks',\n",
       " 'am.chapters',\n",
       " 'am.shortStories',\n",
       " 'am.parts',\n",
       " 'am.sections',\n",
       " 'am.divisions',\n",
       " 'am.lg.poems',\n",
       " 'am.lg.stanzas',\n",
       " 'am.saids',\n",
       " 'am.narrative.ps',\n",
       " 'am.punctual.ss',\n",
       " 'len.abstract',\n",
       " 'am.fts',\n",
       " 'len.chapters.mean',\n",
       " 'len.chapters.std',\n",
       " 'len.chapters.median',\n",
       " 'len.chapters.iqr',\n",
       " 'am.conjunctions',\n",
       " 'am.determiners',\n",
       " 'am.nouns',\n",
       " 'am.verbs',\n",
       " 'am.adverbs',\n",
       " 'am.adjectives',\n",
       " 'am.adpositions',\n",
       " 'am.punctuations',\n",
       " 'am.pronouns',\n",
       " 'am.dates',\n",
       " 'am.numbers',\n",
       " 'am.interjections',\n",
       " 'am.ne.persons',\n",
       " 'am.ne.organizations',\n",
       " 'am.ne.locations',\n",
       " 'am.ne.others',\n",
       " 'am.ss',\n",
       " 'len.ss.mean',\n",
       " 'len.ss.std',\n",
       " 'len.ss.median',\n",
       " 'len.ss.iqr',\n",
       " 'am.ss.active.verbs.mean',\n",
       " 'am.ss.active.verbs.std',\n",
       " 'am.ss.active.verbs.median',\n",
       " 'am.ss.active.verbs.iqr',\n",
       " 'am.ws',\n",
       " 'am.ws.num.mean',\n",
       " 'am.ws.num.std',\n",
       " 'am.ws.num.median',\n",
       " 'am.ws.num.iqr',\n",
       " 'am.wnlex.noun.plants',\n",
       " 'am.wnlex.verb.communications',\n",
       " 'am.wnlex.noun.foods',\n",
       " 'am.wnlex.verb.possessions',\n",
       " 'am.wnlex.verb.cognitions',\n",
       " 'am.wnlex.noun.communications',\n",
       " 'am.wnlex.noun.states',\n",
       " 'am.wnlex.verb.statives',\n",
       " 'am.wnlex.noun.cognitions',\n",
       " 'am.wnlex.noun.times',\n",
       " 'am.wnlex.verb.bodys',\n",
       " 'am.wnlex.noun.persons',\n",
       " 'am.wnlex.adj.alls',\n",
       " 'am.wnlex.noun.quantitys',\n",
       " 'am.wnlex.noun.phenomenons',\n",
       " 'am.wnlex.verb.creations',\n",
       " 'am.wnlex.adj.perts',\n",
       " 'am.wnlex.adv.alls',\n",
       " 'am.wnlex.noun.processs',\n",
       " 'am.wnlex.noun.artifacts',\n",
       " 'am.wnlex.verb.perceptions',\n",
       " 'am.wnlex.noun.feelings',\n",
       " 'am.wnlex.verb.weathers',\n",
       " 'am.wnlex.noun.substances',\n",
       " 'am.wnlex.noun.shapes',\n",
       " 'am.wnlex.verb.competitions',\n",
       " 'am.wnlex.verb.motions',\n",
       " 'am.wnlex.noun.animals',\n",
       " 'am.wnlex.noun.acts',\n",
       " 'am.wnlex.noun.bodys',\n",
       " 'am.wnlex.noun.objects',\n",
       " 'am.wnlex.noun.motives',\n",
       " 'am.wnlex.verb.socials',\n",
       " 'am.wnlex.noun.groups',\n",
       " 'am.wnlex.verb.consumptions',\n",
       " 'am.wnlex.noun.possessions',\n",
       " 'am.wnlex.noun.Topss',\n",
       " 'am.wnlex.noun.relations',\n",
       " 'am.wnlex.noun.attributes',\n",
       " 'am.wnlex.verb.emotions',\n",
       " 'am.wnlex.noun.locations',\n",
       " 'am.wnlex.noun.events',\n",
       " 'am.wnlex.verb.contacts',\n",
       " 'am.wnlex.xxxs',\n",
       " 'am.wnlex.verb.changes',\n",
       " 'decade']"
      ]
     },
     "execution_count": 75,
     "metadata": {},
     "output_type": "execute_result"
    }
   ],
   "source": [
    "metadata.columns.tolist()"
   ]
  },
  {
   "cell_type": "code",
   "execution_count": 76,
   "metadata": {},
   "outputs": [
    {
     "data": {
      "text/plain": [
       "(344, 177)"
      ]
     },
     "execution_count": 76,
     "metadata": {},
     "output_type": "execute_result"
    }
   ],
   "source": [
    "metadata.loc[metadata[\"genre\"] == \"novela\"].shape"
   ]
  },
  {
   "cell_type": "code",
   "execution_count": 77,
   "metadata": {},
   "outputs": [
    {
     "data": {
      "text/plain": [
       "0.4731774415405777"
      ]
     },
     "execution_count": 77,
     "metadata": {},
     "output_type": "execute_result"
    }
   ],
   "source": [
    "metadata.loc[metadata[\"genre\"] == \"novela\"].shape[0] / population_novels.shape[0]\n"
   ]
  },
  {
   "cell_type": "code",
   "execution_count": 78,
   "metadata": {},
   "outputs": [
    {
     "data": {
      "text/plain": [
       "22566863"
      ]
     },
     "execution_count": 78,
     "metadata": {},
     "output_type": "execute_result"
    }
   ],
   "source": [
    "metadata[\"am.tokens\"].sum() "
   ]
  },
  {
   "cell_type": "code",
   "execution_count": 79,
   "metadata": {},
   "outputs": [
    {
     "data": {
      "text/plain": [
       "4146429"
      ]
     },
     "execution_count": 79,
     "metadata": {},
     "output_type": "execute_result"
    }
   ],
   "source": [
    "metadata[\"am.punctuations\"].sum()"
   ]
  },
  {
   "cell_type": "code",
   "execution_count": 80,
   "metadata": {},
   "outputs": [
    {
     "data": {
      "text/plain": [
       "26713292"
      ]
     },
     "execution_count": 80,
     "metadata": {},
     "output_type": "execute_result"
    }
   ],
   "source": [
    "metadata[\"am.tokens\"].sum() + metadata[\"am.punctuations\"].sum()"
   ]
  },
  {
   "cell_type": "code",
   "execution_count": 81,
   "metadata": {},
   "outputs": [],
   "source": [
    "metadata_canon = metadata.loc[metadata[\"CoNSSA.canon\"] == True]"
   ]
  },
  {
   "cell_type": "code",
   "execution_count": 82,
   "metadata": {},
   "outputs": [
    {
     "data": {
      "text/plain": [
       "(138, 177)"
      ]
     },
     "execution_count": 82,
     "metadata": {},
     "output_type": "execute_result"
    }
   ],
   "source": [
    "metadata.loc[metadata[\"CoNSSA.canon\"] == True].shape"
   ]
  },
  {
   "cell_type": "code",
   "execution_count": 83,
   "metadata": {},
   "outputs": [
    {
     "data": {
      "text/plain": [
       "0.18982118294360384"
      ]
     },
     "execution_count": 83,
     "metadata": {},
     "output_type": "execute_result"
    }
   ],
   "source": [
    "metadata.loc[metadata[\"CoNSSA.canon\"] == True].shape[0] / population_novels.shape[0]\n"
   ]
  },
  {
   "cell_type": "code",
   "execution_count": 84,
   "metadata": {},
   "outputs": [
    {
     "data": {
      "text/plain": [
       "1868494"
      ]
     },
     "execution_count": 84,
     "metadata": {},
     "output_type": "execute_result"
    }
   ],
   "source": [
    "metadata_canon[\"am.punctuations\"].sum()"
   ]
  },
  {
   "cell_type": "code",
   "execution_count": 85,
   "metadata": {},
   "outputs": [
    {
     "data": {
      "text/plain": [
       "11591722"
      ]
     },
     "execution_count": 85,
     "metadata": {},
     "output_type": "execute_result"
    }
   ],
   "source": [
    "metadata_canon[\"am.tokens\"].sum() + metadata_canon[\"am.punctuations\"].sum()"
   ]
  },
  {
   "cell_type": "code",
   "execution_count": 86,
   "metadata": {},
   "outputs": [],
   "source": [
    "novel_authors.index = novel_authors[\"author-name\"]"
   ]
  },
  {
   "cell_type": "code",
   "execution_count": 87,
   "metadata": {},
   "outputs": [
    {
     "data": {
      "text/html": [
       "<div>\n",
       "<style scoped>\n",
       "    .dataframe tbody tr th:only-of-type {\n",
       "        vertical-align: middle;\n",
       "    }\n",
       "\n",
       "    .dataframe tbody tr th {\n",
       "        vertical-align: top;\n",
       "    }\n",
       "\n",
       "    .dataframe thead th {\n",
       "        text-align: right;\n",
       "    }\n",
       "</style>\n",
       "<table border=\"1\" class=\"dataframe\">\n",
       "  <thead>\n",
       "    <tr style=\"text-align: right;\">\n",
       "      <th></th>\n",
       "      <th>pages-in-MdLE</th>\n",
       "      <th>percentage</th>\n",
       "    </tr>\n",
       "    <tr>\n",
       "      <th>author-name</th>\n",
       "      <th></th>\n",
       "      <th></th>\n",
       "    </tr>\n",
       "  </thead>\n",
       "  <tbody>\n",
       "    <tr>\n",
       "      <th>Galdos</th>\n",
       "      <td>181.0</td>\n",
       "      <td>0.58</td>\n",
       "    </tr>\n",
       "    <tr>\n",
       "      <th>Unamuno</th>\n",
       "      <td>167.0</td>\n",
       "      <td>0.86</td>\n",
       "    </tr>\n",
       "    <tr>\n",
       "      <th>Valle</th>\n",
       "      <td>162.0</td>\n",
       "      <td>1.00</td>\n",
       "    </tr>\n",
       "    <tr>\n",
       "      <th>RamonJimenez</th>\n",
       "      <td>153.0</td>\n",
       "      <td>1.00</td>\n",
       "    </tr>\n",
       "    <tr>\n",
       "      <th>Baroja</th>\n",
       "      <td>117.0</td>\n",
       "      <td>0.65</td>\n",
       "    </tr>\n",
       "    <tr>\n",
       "      <th>Azorin</th>\n",
       "      <td>107.0</td>\n",
       "      <td>0.89</td>\n",
       "    </tr>\n",
       "    <tr>\n",
       "      <th>AMachado</th>\n",
       "      <td>103.0</td>\n",
       "      <td>1.00</td>\n",
       "    </tr>\n",
       "    <tr>\n",
       "      <th>Lorca</th>\n",
       "      <td>95.0</td>\n",
       "      <td>1.00</td>\n",
       "    </tr>\n",
       "    <tr>\n",
       "      <th>Hernandez</th>\n",
       "      <td>66.0</td>\n",
       "      <td>1.00</td>\n",
       "    </tr>\n",
       "    <tr>\n",
       "      <th>Clarin</th>\n",
       "      <td>66.0</td>\n",
       "      <td>1.00</td>\n",
       "    </tr>\n",
       "    <tr>\n",
       "      <th>Valera</th>\n",
       "      <td>63.0</td>\n",
       "      <td>1.00</td>\n",
       "    </tr>\n",
       "    <tr>\n",
       "      <th>Pereda</th>\n",
       "      <td>55.0</td>\n",
       "      <td>1.00</td>\n",
       "    </tr>\n",
       "    <tr>\n",
       "      <th>Alarcon</th>\n",
       "      <td>54.0</td>\n",
       "      <td>1.00</td>\n",
       "    </tr>\n",
       "    <tr>\n",
       "      <th>Dario</th>\n",
       "      <td>50.0</td>\n",
       "      <td>1.00</td>\n",
       "    </tr>\n",
       "    <tr>\n",
       "      <th>Aub</th>\n",
       "      <td>50.0</td>\n",
       "      <td>1.00</td>\n",
       "    </tr>\n",
       "    <tr>\n",
       "      <th>Poncela</th>\n",
       "      <td>49.0</td>\n",
       "      <td>1.00</td>\n",
       "    </tr>\n",
       "    <tr>\n",
       "      <th>Bazan</th>\n",
       "      <td>45.0</td>\n",
       "      <td>0.95</td>\n",
       "    </tr>\n",
       "    <tr>\n",
       "      <th>RPAyala</th>\n",
       "      <td>41.0</td>\n",
       "      <td>1.00</td>\n",
       "    </tr>\n",
       "    <tr>\n",
       "      <th>WFFlorez</th>\n",
       "      <td>40.0</td>\n",
       "      <td>0.56</td>\n",
       "    </tr>\n",
       "    <tr>\n",
       "      <th>Benavente</th>\n",
       "      <td>38.0</td>\n",
       "      <td>1.00</td>\n",
       "    </tr>\n",
       "    <tr>\n",
       "      <th>Serna</th>\n",
       "      <td>38.0</td>\n",
       "      <td>1.00</td>\n",
       "    </tr>\n",
       "    <tr>\n",
       "      <th>Valdes</th>\n",
       "      <td>34.0</td>\n",
       "      <td>0.85</td>\n",
       "    </tr>\n",
       "    <tr>\n",
       "      <th>Miro</th>\n",
       "      <td>33.0</td>\n",
       "      <td>1.00</td>\n",
       "    </tr>\n",
       "    <tr>\n",
       "      <th>Sender</th>\n",
       "      <td>30.0</td>\n",
       "      <td>0.60</td>\n",
       "    </tr>\n",
       "    <tr>\n",
       "      <th>Madariaga</th>\n",
       "      <td>25.0</td>\n",
       "      <td>0.67</td>\n",
       "    </tr>\n",
       "    <tr>\n",
       "      <th>FAyala</th>\n",
       "      <td>24.0</td>\n",
       "      <td>1.00</td>\n",
       "    </tr>\n",
       "    <tr>\n",
       "      <th>BlascoIbanez</th>\n",
       "      <td>23.0</td>\n",
       "      <td>0.81</td>\n",
       "    </tr>\n",
       "    <tr>\n",
       "      <th>Ganivet</th>\n",
       "      <td>22.0</td>\n",
       "      <td>1.00</td>\n",
       "    </tr>\n",
       "    <tr>\n",
       "      <th>Rueda</th>\n",
       "      <td>22.0</td>\n",
       "      <td>0.57</td>\n",
       "    </tr>\n",
       "    <tr>\n",
       "      <th>Maeztu</th>\n",
       "      <td>21.0</td>\n",
       "      <td>1.00</td>\n",
       "    </tr>\n",
       "    <tr>\n",
       "      <th>...</th>\n",
       "      <td>...</td>\n",
       "      <td>...</td>\n",
       "    </tr>\n",
       "    <tr>\n",
       "      <th>Burgos</th>\n",
       "      <td>2.0</td>\n",
       "      <td>0.33</td>\n",
       "    </tr>\n",
       "    <tr>\n",
       "      <th>Pinillos</th>\n",
       "      <td>2.0</td>\n",
       "      <td>0.00</td>\n",
       "    </tr>\n",
       "    <tr>\n",
       "      <th>Borras</th>\n",
       "      <td>2.0</td>\n",
       "      <td>0.00</td>\n",
       "    </tr>\n",
       "    <tr>\n",
       "      <th>Villalonga</th>\n",
       "      <td>2.0</td>\n",
       "      <td>1.00</td>\n",
       "    </tr>\n",
       "    <tr>\n",
       "      <th>Bueno</th>\n",
       "      <td>1.0</td>\n",
       "      <td>0.00</td>\n",
       "    </tr>\n",
       "    <tr>\n",
       "      <th>Selgas</th>\n",
       "      <td>1.0</td>\n",
       "      <td>0.20</td>\n",
       "    </tr>\n",
       "    <tr>\n",
       "      <th>Camin</th>\n",
       "      <td>1.0</td>\n",
       "      <td>0.00</td>\n",
       "    </tr>\n",
       "    <tr>\n",
       "      <th>Benavides</th>\n",
       "      <td>1.0</td>\n",
       "      <td>0.00</td>\n",
       "    </tr>\n",
       "    <tr>\n",
       "      <th>Balbontin</th>\n",
       "      <td>1.0</td>\n",
       "      <td>0.00</td>\n",
       "    </tr>\n",
       "    <tr>\n",
       "      <th>Cossio</th>\n",
       "      <td>1.0</td>\n",
       "      <td>0.00</td>\n",
       "    </tr>\n",
       "    <tr>\n",
       "      <th>Altamira</th>\n",
       "      <td>1.0</td>\n",
       "      <td>0.00</td>\n",
       "    </tr>\n",
       "    <tr>\n",
       "      <th>Escrich</th>\n",
       "      <td>1.0</td>\n",
       "      <td>0.00</td>\n",
       "    </tr>\n",
       "    <tr>\n",
       "      <th>Acosta</th>\n",
       "      <td>1.0</td>\n",
       "      <td>0.00</td>\n",
       "    </tr>\n",
       "    <tr>\n",
       "      <th>Nogales</th>\n",
       "      <td>1.0</td>\n",
       "      <td>0.00</td>\n",
       "    </tr>\n",
       "    <tr>\n",
       "      <th>Ros</th>\n",
       "      <td>1.0</td>\n",
       "      <td>0.00</td>\n",
       "    </tr>\n",
       "    <tr>\n",
       "      <th>Ossa</th>\n",
       "      <td>1.0</td>\n",
       "      <td>0.00</td>\n",
       "    </tr>\n",
       "    <tr>\n",
       "      <th>Mata</th>\n",
       "      <td>1.0</td>\n",
       "      <td>0.00</td>\n",
       "    </tr>\n",
       "    <tr>\n",
       "      <th>Mas</th>\n",
       "      <td>1.0</td>\n",
       "      <td>0.00</td>\n",
       "    </tr>\n",
       "    <tr>\n",
       "      <th>Ledesma</th>\n",
       "      <td>1.0</td>\n",
       "      <td>0.00</td>\n",
       "    </tr>\n",
       "    <tr>\n",
       "      <th>Laffon</th>\n",
       "      <td>1.0</td>\n",
       "      <td>0.00</td>\n",
       "    </tr>\n",
       "    <tr>\n",
       "      <th>Insua</th>\n",
       "      <td>1.0</td>\n",
       "      <td>0.00</td>\n",
       "    </tr>\n",
       "    <tr>\n",
       "      <th>Haro</th>\n",
       "      <td>1.0</td>\n",
       "      <td>0.00</td>\n",
       "    </tr>\n",
       "    <tr>\n",
       "      <th>Gonzalez</th>\n",
       "      <td>1.0</td>\n",
       "      <td>0.00</td>\n",
       "    </tr>\n",
       "    <tr>\n",
       "      <th>Santullano</th>\n",
       "      <td>0.0</td>\n",
       "      <td>0.00</td>\n",
       "    </tr>\n",
       "    <tr>\n",
       "      <th>Juarros</th>\n",
       "      <td>0.0</td>\n",
       "      <td>0.00</td>\n",
       "    </tr>\n",
       "    <tr>\n",
       "      <th>Tenreiro</th>\n",
       "      <td>0.0</td>\n",
       "      <td>0.00</td>\n",
       "    </tr>\n",
       "    <tr>\n",
       "      <th>Collantes</th>\n",
       "      <td>0.0</td>\n",
       "      <td>0.00</td>\n",
       "    </tr>\n",
       "    <tr>\n",
       "      <th>Sinues</th>\n",
       "      <td>0.0</td>\n",
       "      <td>0.00</td>\n",
       "    </tr>\n",
       "    <tr>\n",
       "      <th>Obregon</th>\n",
       "      <td>0.0</td>\n",
       "      <td>0.00</td>\n",
       "    </tr>\n",
       "    <tr>\n",
       "      <th>FCamba</th>\n",
       "      <td>0.0</td>\n",
       "      <td>0.00</td>\n",
       "    </tr>\n",
       "  </tbody>\n",
       "</table>\n",
       "<p>107 rows × 2 columns</p>\n",
       "</div>"
      ],
      "text/plain": [
       "              pages-in-MdLE  percentage\n",
       "author-name                            \n",
       "Galdos                181.0        0.58\n",
       "Unamuno               167.0        0.86\n",
       "Valle                 162.0        1.00\n",
       "RamonJimenez          153.0        1.00\n",
       "Baroja                117.0        0.65\n",
       "Azorin                107.0        0.89\n",
       "AMachado              103.0        1.00\n",
       "Lorca                  95.0        1.00\n",
       "Hernandez              66.0        1.00\n",
       "Clarin                 66.0        1.00\n",
       "Valera                 63.0        1.00\n",
       "Pereda                 55.0        1.00\n",
       "Alarcon                54.0        1.00\n",
       "Dario                  50.0        1.00\n",
       "Aub                    50.0        1.00\n",
       "Poncela                49.0        1.00\n",
       "Bazan                  45.0        0.95\n",
       "RPAyala                41.0        1.00\n",
       "WFFlorez               40.0        0.56\n",
       "Benavente              38.0        1.00\n",
       "Serna                  38.0        1.00\n",
       "Valdes                 34.0        0.85\n",
       "Miro                   33.0        1.00\n",
       "Sender                 30.0        0.60\n",
       "Madariaga              25.0        0.67\n",
       "FAyala                 24.0        1.00\n",
       "BlascoIbanez           23.0        0.81\n",
       "Ganivet                22.0        1.00\n",
       "Rueda                  22.0        0.57\n",
       "Maeztu                 21.0        1.00\n",
       "...                     ...         ...\n",
       "Burgos                  2.0        0.33\n",
       "Pinillos                2.0        0.00\n",
       "Borras                  2.0        0.00\n",
       "Villalonga              2.0        1.00\n",
       "Bueno                   1.0        0.00\n",
       "Selgas                  1.0        0.20\n",
       "Camin                   1.0        0.00\n",
       "Benavides               1.0        0.00\n",
       "Balbontin               1.0        0.00\n",
       "Cossio                  1.0        0.00\n",
       "Altamira                1.0        0.00\n",
       "Escrich                 1.0        0.00\n",
       "Acosta                  1.0        0.00\n",
       "Nogales                 1.0        0.00\n",
       "Ros                     1.0        0.00\n",
       "Ossa                    1.0        0.00\n",
       "Mata                    1.0        0.00\n",
       "Mas                     1.0        0.00\n",
       "Ledesma                 1.0        0.00\n",
       "Laffon                  1.0        0.00\n",
       "Insua                   1.0        0.00\n",
       "Haro                    1.0        0.00\n",
       "Gonzalez                1.0        0.00\n",
       "Santullano              0.0        0.00\n",
       "Juarros                 0.0        0.00\n",
       "Tenreiro                0.0        0.00\n",
       "Collantes               0.0        0.00\n",
       "Sinues                  0.0        0.00\n",
       "Obregon                 0.0        0.00\n",
       "FCamba                  0.0        0.00\n",
       "\n",
       "[107 rows x 2 columns]"
      ]
     },
     "execution_count": 87,
     "metadata": {},
     "output_type": "execute_result"
    }
   ],
   "source": [
    "novel_authors.sort_values(by=\"pages-in-MdLE\", ascending=False)[[\"pages-in-MdLE\",\"percentage\"]]"
   ]
  },
  {
   "cell_type": "code",
   "execution_count": 88,
   "metadata": {},
   "outputs": [
    {
     "data": {
      "image/png": "[encoded data removed]",
      "text/plain": [
       "<Figure size 360x360 with 1 Axes>"
      ]
     },
     "metadata": {},
     "output_type": "display_data"
    },
    {
     "data": {
      "text/plain": [
       "<seaborn.axisgrid.FacetGrid at 0x7f26850baf28>"
      ]
     },
     "execution_count": 88,
     "metadata": {},
     "output_type": "execute_result"
    }
   ],
   "source": [
    "describe_data.describe_corpus_scatter(metadata = novel_authors, class_1 = \"pages-in-MdLE\", class_2 = \"percentage\", wdir = wdir, dataset = dataset, fit_reg=False, annotation_lt=[\"Galdos\",\"Unamuno\",\"Valle\",\"Baroja\",\"Azorin\",\"Bazan\",\"WFFlorez\",\"Miro\",\"Madariaga\",\"Lorca\",\"Burgos\"])\n"
   ]
  },
  {
   "cell_type": "code",
   "execution_count": null,
   "metadata": {},
   "outputs": [],
   "source": []
  },
  {
   "cell_type": "code",
   "execution_count": 89,
   "metadata": {},
   "outputs": [
    {
     "data": {
      "text/plain": [
       "0.86"
      ]
     },
     "execution_count": 89,
     "metadata": {},
     "output_type": "execute_result"
    }
   ],
   "source": [
    "novel_authors.loc[novel_authors[\"nov-TEI\"] > 0][\"percentage\"].median()"
   ]
  },
  {
   "cell_type": "code",
   "execution_count": 90,
   "metadata": {},
   "outputs": [],
   "source": [
    "import scipy.stats as stats"
   ]
  },
  {
   "cell_type": "code",
   "execution_count": 91,
   "metadata": {},
   "outputs": [
    {
     "data": {
      "text/plain": [
       "0.6"
      ]
     },
     "execution_count": 91,
     "metadata": {},
     "output_type": "execute_result"
    }
   ],
   "source": [
    "stats.iqr(authors.loc[authors[\"nov-TEI\"] > 0][\"percentage\"])"
   ]
  },
  {
   "cell_type": "code",
   "execution_count": 92,
   "metadata": {},
   "outputs": [
    {
     "data": {
      "text/plain": [
       "29"
      ]
     },
     "execution_count": 92,
     "metadata": {},
     "output_type": "execute_result"
    }
   ],
   "source": [
    "metadata.loc[metadata[\"author.gender\"] == \"female\"].shape[0]"
   ]
  },
  {
   "cell_type": "code",
   "execution_count": 93,
   "metadata": {},
   "outputs": [
    {
     "data": {
      "text/plain": [
       "(329, 177)"
      ]
     },
     "execution_count": 93,
     "metadata": {},
     "output_type": "execute_result"
    }
   ],
   "source": [
    "metadata.loc[metadata[\"author.gender\"] == \"male\"].shape"
   ]
  },
  {
   "cell_type": "code",
   "execution_count": 94,
   "metadata": {},
   "outputs": [
    {
     "data": {
      "text/plain": [
       "8.100558659217876"
      ]
     },
     "execution_count": 94,
     "metadata": {},
     "output_type": "execute_result"
    }
   ],
   "source": [
    "(metadata.loc[metadata[\"author.gender\"] == \"female\"].shape[0] / metadata.shape[0] )* 100"
   ]
  },
  {
   "cell_type": "code",
   "execution_count": 95,
   "metadata": {},
   "outputs": [
    {
     "data": {
      "text/plain": [
       "2.0"
      ]
     },
     "execution_count": 95,
     "metadata": {},
     "output_type": "execute_result"
    }
   ],
   "source": [
    "authors.loc[authors[\"nov-TEI\"] > 0][\"nov-TEI\"].median()"
   ]
  },
  {
   "cell_type": "code",
   "execution_count": 96,
   "metadata": {},
   "outputs": [
    {
     "data": {
      "text/plain": [
       "4.0"
      ]
     },
     "execution_count": 96,
     "metadata": {},
     "output_type": "execute_result"
    }
   ],
   "source": [
    "stats.iqr(authors.loc[authors[\"nov-TEI\"] > 0][\"nov-TEI\"])"
   ]
  },
  {
   "cell_type": "code",
   "execution_count": 97,
   "metadata": {},
   "outputs": [
    {
     "name": "stdout",
     "output_type": "stream",
     "text": [
      "14\n"
     ]
    },
    {
     "data": {
      "text/plain": [
       "['Azorin',\n",
       " 'Baroja',\n",
       " 'Bazan',\n",
       " 'BlascoIbanez',\n",
       " 'CEspina',\n",
       " 'Galdos',\n",
       " 'Lanza',\n",
       " 'Miro',\n",
       " 'Pereda',\n",
       " 'RPAyala',\n",
       " 'Serna',\n",
       " 'Valdes',\n",
       " 'Valle',\n",
       " 'WFFlorez']"
      ]
     },
     "execution_count": 97,
     "metadata": {},
     "output_type": "execute_result"
    }
   ],
   "source": [
    "print(len(authors.loc[authors[\"nov-TEI\"] > 6][\"author-name\"].tolist()))\n",
    "authors.loc[authors[\"nov-TEI\"] > 6][\"author-name\"].tolist()"
   ]
  },
  {
   "cell_type": "code",
   "execution_count": 98,
   "metadata": {},
   "outputs": [
    {
     "data": {
      "text/plain": [
       "0    1.0\n",
       "dtype: float64"
      ]
     },
     "execution_count": 98,
     "metadata": {},
     "output_type": "execute_result"
    }
   ],
   "source": [
    "authors.loc[authors[\"nov-TEI\"] > 0][\"nov-TEI\"].mode()"
   ]
  },
  {
   "cell_type": "code",
   "execution_count": 99,
   "metadata": {},
   "outputs": [
    {
     "data": {
      "text/plain": [
       "['idno',\n",
       " 'author.name',\n",
       " 'title',\n",
       " 'year',\n",
       " 'supergenre',\n",
       " 'genre',\n",
       " 'subgenre.cligs.important',\n",
       " 'author.country',\n",
       " 'author.viaf',\n",
       " 'author.bne',\n",
       " 'author.gender',\n",
       " 'title.main',\n",
       " 'title.viaf',\n",
       " 'title.bne',\n",
       " 'author.name.full',\n",
       " 'subtitle',\n",
       " 'availability',\n",
       " 'subgenre.cligs',\n",
       " 'genre.analyzed',\n",
       " 'genre.analyzed.cert',\n",
       " 'date.file',\n",
       " 'digital.source',\n",
       " 'digital.source.format',\n",
       " 'genre.subtitle',\n",
       " 'narrator',\n",
       " 'protagonist.gender',\n",
       " 'setting.type',\n",
       " 'form',\n",
       " 'publication',\n",
       " 'digital.source.idno',\n",
       " 'author.continent',\n",
       " 'authorText.group',\n",
       " 'authorText.subgroup',\n",
       " 'protagonist.name',\n",
       " 'protagonist.age',\n",
       " 'protagonist.socLevel',\n",
       " 'protagonist.profession',\n",
       " 'representation',\n",
       " 'setting.continent',\n",
       " 'setting.country',\n",
       " 'setting.settlement',\n",
       " 'setting.territory',\n",
       " 'text.movement',\n",
       " 'time.period',\n",
       " 'time.span',\n",
       " 'authorText.relation',\n",
       " 'end',\n",
       " 'time.year',\n",
       " 'keywords.cert',\n",
       " 'author.movement',\n",
       " 'author.submovement',\n",
       " 'author.date.birth',\n",
       " 'author.date.death',\n",
       " 'litHist.literaryQuality',\n",
       " 'litHist.brow',\n",
       " 'litHist.audience',\n",
       " 'author.litHist.pages',\n",
       " 'author.nonNovelGenre',\n",
       " 'litHist.pages',\n",
       " 'author.year.change',\n",
       " 'setting.settlement.represented.exist',\n",
       " 'setting.represented',\n",
       " 'MdLE',\n",
       " 'CoNSSA',\n",
       " 'CoNSSA.canon',\n",
       " 'HdLE',\n",
       " 'subgenre.lithist.MdLE',\n",
       " 'subgenre.lithist.HdLE',\n",
       " 'subgenre.edit.epublibre',\n",
       " 'subgenre.edit.amazon',\n",
       " 'subgenre.edit.wikidata',\n",
       " 'subgenre.edit.esdbpedia',\n",
       " 'subgenre.subtitle.bne',\n",
       " 'subgenre.subtitle.first.edition',\n",
       " 'subgenre.cluster',\n",
       " 'am.tokens',\n",
       " 'am.chars',\n",
       " 'am.divs',\n",
       " 'am.verses',\n",
       " 'am.sps',\n",
       " 'am.paragraphs',\n",
       " 'am.pds',\n",
       " 'am.numerals',\n",
       " 'am.puncts',\n",
       " 'am.blocks',\n",
       " 'am.chapters',\n",
       " 'am.shortStories',\n",
       " 'am.parts',\n",
       " 'am.sections',\n",
       " 'am.divisions',\n",
       " 'am.lg.poems',\n",
       " 'am.lg.stanzas',\n",
       " 'am.saids',\n",
       " 'am.narrative.ps',\n",
       " 'am.punctual.ss',\n",
       " 'len.abstract',\n",
       " 'am.fts',\n",
       " 'len.chapters.mean',\n",
       " 'len.chapters.std',\n",
       " 'len.chapters.median',\n",
       " 'len.chapters.iqr',\n",
       " 'am.conjunctions',\n",
       " 'am.determiners',\n",
       " 'am.nouns',\n",
       " 'am.verbs',\n",
       " 'am.adverbs',\n",
       " 'am.adjectives',\n",
       " 'am.adpositions',\n",
       " 'am.punctuations',\n",
       " 'am.pronouns',\n",
       " 'am.dates',\n",
       " 'am.numbers',\n",
       " 'am.interjections',\n",
       " 'am.ne.persons',\n",
       " 'am.ne.organizations',\n",
       " 'am.ne.locations',\n",
       " 'am.ne.others',\n",
       " 'am.ss',\n",
       " 'len.ss.mean',\n",
       " 'len.ss.std',\n",
       " 'len.ss.median',\n",
       " 'len.ss.iqr',\n",
       " 'am.ss.active.verbs.mean',\n",
       " 'am.ss.active.verbs.std',\n",
       " 'am.ss.active.verbs.median',\n",
       " 'am.ss.active.verbs.iqr',\n",
       " 'am.ws',\n",
       " 'am.ws.num.mean',\n",
       " 'am.ws.num.std',\n",
       " 'am.ws.num.median',\n",
       " 'am.ws.num.iqr',\n",
       " 'am.wnlex.noun.plants',\n",
       " 'am.wnlex.verb.communications',\n",
       " 'am.wnlex.noun.foods',\n",
       " 'am.wnlex.verb.possessions',\n",
       " 'am.wnlex.verb.cognitions',\n",
       " 'am.wnlex.noun.communications',\n",
       " 'am.wnlex.noun.states',\n",
       " 'am.wnlex.verb.statives',\n",
       " 'am.wnlex.noun.cognitions',\n",
       " 'am.wnlex.noun.times',\n",
       " 'am.wnlex.verb.bodys',\n",
       " 'am.wnlex.noun.persons',\n",
       " 'am.wnlex.adj.alls',\n",
       " 'am.wnlex.noun.quantitys',\n",
       " 'am.wnlex.noun.phenomenons',\n",
       " 'am.wnlex.verb.creations',\n",
       " 'am.wnlex.adj.perts',\n",
       " 'am.wnlex.adv.alls',\n",
       " 'am.wnlex.noun.processs',\n",
       " 'am.wnlex.noun.artifacts',\n",
       " 'am.wnlex.verb.perceptions',\n",
       " 'am.wnlex.noun.feelings',\n",
       " 'am.wnlex.verb.weathers',\n",
       " 'am.wnlex.noun.substances',\n",
       " 'am.wnlex.noun.shapes',\n",
       " 'am.wnlex.verb.competitions',\n",
       " 'am.wnlex.verb.motions',\n",
       " 'am.wnlex.noun.animals',\n",
       " 'am.wnlex.noun.acts',\n",
       " 'am.wnlex.noun.bodys',\n",
       " 'am.wnlex.noun.objects',\n",
       " 'am.wnlex.noun.motives',\n",
       " 'am.wnlex.verb.socials',\n",
       " 'am.wnlex.noun.groups',\n",
       " 'am.wnlex.verb.consumptions',\n",
       " 'am.wnlex.noun.possessions',\n",
       " 'am.wnlex.noun.Topss',\n",
       " 'am.wnlex.noun.relations',\n",
       " 'am.wnlex.noun.attributes',\n",
       " 'am.wnlex.verb.emotions',\n",
       " 'am.wnlex.noun.locations',\n",
       " 'am.wnlex.noun.events',\n",
       " 'am.wnlex.verb.contacts',\n",
       " 'am.wnlex.xxxs',\n",
       " 'am.wnlex.verb.changes',\n",
       " 'decade']"
      ]
     },
     "execution_count": 99,
     "metadata": {},
     "output_type": "execute_result"
    }
   ],
   "source": [
    "metadata.columns.tolist()"
   ]
  },
  {
   "cell_type": "code",
   "execution_count": 100,
   "metadata": {},
   "outputs": [
    {
     "name": "stdout",
     "output_type": "stream",
     "text": [
      "{'#gutenberg', '#wikisource', '#archive', '#other', '#bne', '#abbyy', '#epublibre', '#bvmc'}"
     ]
    }
   ],
   "source": [
    "print(set(metadata[\"digital.source\"]), end=\"\")"
   ]
  },
  {
   "cell_type": "code",
   "execution_count": 101,
   "metadata": {},
   "outputs": [
    {
     "data": {
      "text/plain": [
       "ne0001    #epublibre\n",
       "ne0002         #bvmc\n",
       "ne0003         #bvmc\n",
       "ne0004         #bvmc\n",
       "ne0005         #bvmc\n",
       "Name: digital.source, dtype: object"
      ]
     },
     "execution_count": 101,
     "metadata": {},
     "output_type": "execute_result"
    }
   ],
   "source": [
    "metadata[\"digital.source\"].head()"
   ]
  },
  {
   "cell_type": "code",
   "execution_count": 102,
   "metadata": {},
   "outputs": [
    {
     "name": "stderr",
     "output_type": "stream",
     "text": [
      "/usr/local/lib/python3.6/dist-packages/matplotlib/figure.py:445: UserWarning: Matplotlib is currently using module://ipykernel.pylab.backend_inline, which is a non-GUI backend, so cannot show the figure.\n",
      "  % get_backend())\n"
     ]
    },
    {
     "data": {
      "image/png": "[encoded data removed]",
      "text/plain": [
       "<Figure size 864x432 with 1 Axes>"
      ]
     },
     "metadata": {},
     "output_type": "display_data"
    }
   ],
   "source": [
    "dict_values = {'#abbyy': \"Abbyy\", '#bne' : \"BNE\", '#gutenberg' : \"Gutenberg\", '#other': \"other\", '#archive': \"Archive.org\", '#wikisource' : \"Wikisource\", '#epublibre': \"ePubLibre\", '#bvmc': \"Cervantes Virtual\"}\n",
    "metadata[\"digital.source\"] = metadata[\"digital.source\"].map(dict_values)\n",
    "\n",
    "describe_data.describe_corpus_stackedbars(wdir = wdir, metadata = metadata, class_1 = \"decade\", class_2 = \"digital.source\", dataset = dataset, loc_legend=\"upper left\")"
   ]
  },
  {
   "cell_type": "code",
   "execution_count": 103,
   "metadata": {},
   "outputs": [
    {
     "name": "stdout",
     "output_type": "stream",
     "text": [
      "(8, 6)\n"
     ]
    },
    {
     "data": {
      "image/png": "[encoded data removed]",
      "text/plain": [
       "<Figure size 432x288 with 1 Axes>"
      ]
     },
     "metadata": {},
     "output_type": "display_data"
    }
   ],
   "source": [
    "describe_data.chronological_heatmap(wdir = wdir, dataset = dataset, metadata = metadata, class_1 = \"decade\", class_2 = \"digital.source\")\n"
   ]
  },
  {
   "cell_type": "code",
   "execution_count": 104,
   "metadata": {},
   "outputs": [
    {
     "data": {
      "text/plain": [
       "Counter({'Abbyy': 35,\n",
       "         'Archive.org': 3,\n",
       "         'BNE': 1,\n",
       "         'Cervantes Virtual': 5,\n",
       "         'Gutenberg': 2,\n",
       "         'ePubLibre': 24,\n",
       "         'other': 1})"
      ]
     },
     "execution_count": 104,
     "metadata": {},
     "output_type": "execute_result"
    }
   ],
   "source": [
    "Counter(metadata.loc[metadata[\"decade\"] == 1920][\"digital.source\"])"
   ]
  },
  {
   "cell_type": "code",
   "execution_count": 105,
   "metadata": {},
   "outputs": [
    {
     "name": "stdout",
     "output_type": "stream",
     "text": [
      "metadata and class shape: \t (10, 4)\n",
      "                 corpora  lexical_tokens encoding    cert\n",
      "id                                                       \n",
      "1                 CoNSSA        22566933      TEI    high\n",
      "2           CoNSSA-canon         9673413      TEI    high\n",
      "3                   ADSO          355000      TEI  medium\n",
      "4                  DISCO          286090      TEI  medium\n",
      "5   IMPACT ES Diachronic         8000000      TEI  medium\n"
     ]
    }
   ],
   "source": [
    "other_corpora = load_data.load_metadata(wdir = \"/home/jose/Dropbox/Doktorarbeit/ne_data/\", metadata_table = \"other_corpora.csv\" , sep = \"\\t\")\n",
    "print(other_corpora.head())\n"
   ]
  },
  {
   "cell_type": "code",
   "execution_count": 106,
   "metadata": {},
   "outputs": [
    {
     "data": {
      "image/png": "[encoded data removed]",
      "text/plain": [
       "<Figure size 432x288 with 1 Axes>"
      ]
     },
     "metadata": {},
     "output_type": "display_data"
    },
    {
     "data": {
      "image/png": "[encoded data removed]",
      "text/plain": [
       "<Figure size 360x360 with 1 Axes>"
      ]
     },
     "metadata": {},
     "output_type": "display_data"
    }
   ],
   "source": [
    "other_corpora[\"tokens\"] = other_corpora[\"lexical_tokens\"] / 1000000\n",
    "results = describe_data.simple_grouped_bars(metadata = other_corpora,  class_numerical = \"tokens\", class_categorical =\"corpora\", wdir = wdir , dataset = \"corpora\", class_color = \"encoding\",  figsize = (5,5),  colors_values = {'TEI':'#440154','markup':'#31688e', \"plaintext\":\"#fde725\"})\n"
   ]
  },
  {
   "cell_type": "code",
   "execution_count": 107,
   "metadata": {},
   "outputs": [
    {
     "data": {
      "image/png": "[encoded data removed]",
      "text/plain": [
       "<Figure size 432x288 with 1 Axes>"
      ]
     },
     "metadata": {},
     "output_type": "display_data"
    }
   ],
   "source": [
    "describe_data.histogram(metadata = metadata, class_ =\"am.tokens\", kind = \"normal\", wdir = wdir, dataset = dataset, bins = 20)"
   ]
  },
  {
   "cell_type": "code",
   "execution_count": 108,
   "metadata": {},
   "outputs": [
    {
     "data": {
      "text/plain": [
       "59629.0"
      ]
     },
     "execution_count": 108,
     "metadata": {},
     "output_type": "execute_result"
    }
   ],
   "source": [
    "metadata[\"am.tokens\"].median()"
   ]
  },
  {
   "cell_type": "code",
   "execution_count": 109,
   "metadata": {},
   "outputs": [
    {
     "data": {
      "text/plain": [
       "46841.25"
      ]
     },
     "execution_count": 109,
     "metadata": {},
     "output_type": "execute_result"
    }
   ],
   "source": [
    "stats.iqr(metadata[\"am.tokens\"])"
   ]
  },
  {
   "cell_type": "code",
   "execution_count": 110,
   "metadata": {},
   "outputs": [
    {
     "data": {
      "text/html": [
       "<div>\n",
       "<style scoped>\n",
       "    .dataframe tbody tr th:only-of-type {\n",
       "        vertical-align: middle;\n",
       "    }\n",
       "\n",
       "    .dataframe tbody tr th {\n",
       "        vertical-align: top;\n",
       "    }\n",
       "\n",
       "    .dataframe thead th {\n",
       "        text-align: right;\n",
       "    }\n",
       "</style>\n",
       "<table border=\"1\" class=\"dataframe\">\n",
       "  <thead>\n",
       "    <tr style=\"text-align: right;\">\n",
       "      <th></th>\n",
       "      <th>title</th>\n",
       "      <th>am.tokens</th>\n",
       "    </tr>\n",
       "  </thead>\n",
       "  <tbody>\n",
       "    <tr>\n",
       "      <th>ne0363</th>\n",
       "      <td>Nardo</td>\n",
       "      <td>55938</td>\n",
       "    </tr>\n",
       "    <tr>\n",
       "      <th>ne0131</th>\n",
       "      <td>Espirituados</td>\n",
       "      <td>56015</td>\n",
       "    </tr>\n",
       "    <tr>\n",
       "      <th>ne0239</th>\n",
       "      <td>Romanticos</td>\n",
       "      <td>56082</td>\n",
       "    </tr>\n",
       "    <tr>\n",
       "      <th>ne0220</th>\n",
       "      <td>Barrio</td>\n",
       "      <td>56754</td>\n",
       "    </tr>\n",
       "    <tr>\n",
       "      <th>ne0177</th>\n",
       "      <td>Mairena</td>\n",
       "      <td>57234</td>\n",
       "    </tr>\n",
       "    <tr>\n",
       "      <th>ne0169</th>\n",
       "      <td>Viuda</td>\n",
       "      <td>57286</td>\n",
       "    </tr>\n",
       "    <tr>\n",
       "      <th>ne0081</th>\n",
       "      <td>Solteron</td>\n",
       "      <td>57817</td>\n",
       "    </tr>\n",
       "    <tr>\n",
       "      <th>ne0306</th>\n",
       "      <td>CapitanRibot</td>\n",
       "      <td>57980</td>\n",
       "    </tr>\n",
       "    <tr>\n",
       "      <th>ne0331</th>\n",
       "      <td>HombreEspiritu</td>\n",
       "      <td>58750</td>\n",
       "    </tr>\n",
       "    <tr>\n",
       "      <th>ne0121</th>\n",
       "      <td>Voluntad</td>\n",
       "      <td>58942</td>\n",
       "    </tr>\n",
       "    <tr>\n",
       "      <th>ne0090</th>\n",
       "      <td>VivianaMerlin</td>\n",
       "      <td>59186</td>\n",
       "    </tr>\n",
       "    <tr>\n",
       "      <th>ne0303</th>\n",
       "      <td>CiudadNiebla</td>\n",
       "      <td>59501</td>\n",
       "    </tr>\n",
       "    <tr>\n",
       "      <th>ne0392</th>\n",
       "      <td>LunaHiel</td>\n",
       "      <td>59757</td>\n",
       "    </tr>\n",
       "    <tr>\n",
       "      <th>ne0240</th>\n",
       "      <td>Tragedias</td>\n",
       "      <td>59833</td>\n",
       "    </tr>\n",
       "    <tr>\n",
       "      <th>ne0102</th>\n",
       "      <td>Brujas</td>\n",
       "      <td>60014</td>\n",
       "    </tr>\n",
       "    <tr>\n",
       "      <th>ne0073</th>\n",
       "      <td>Niebla</td>\n",
       "      <td>60097</td>\n",
       "    </tr>\n",
       "    <tr>\n",
       "      <th>ne0116</th>\n",
       "      <td>Camino</td>\n",
       "      <td>60401</td>\n",
       "    </tr>\n",
       "    <tr>\n",
       "      <th>ne0188</th>\n",
       "      <td>Boy</td>\n",
       "      <td>61585</td>\n",
       "    </tr>\n",
       "    <tr>\n",
       "      <th>ne0008</th>\n",
       "      <td>Enferma</td>\n",
       "      <td>61667</td>\n",
       "    </tr>\n",
       "    <tr>\n",
       "      <th>ne0237</th>\n",
       "      <td>Estrella</td>\n",
       "      <td>62300</td>\n",
       "    </tr>\n",
       "    <tr>\n",
       "      <th>ne0063</th>\n",
       "      <td>Busca</td>\n",
       "      <td>62355</td>\n",
       "    </tr>\n",
       "    <tr>\n",
       "      <th>ne0360</th>\n",
       "      <td>Rebeca</td>\n",
       "      <td>62398</td>\n",
       "    </tr>\n",
       "    <tr>\n",
       "      <th>ne0133</th>\n",
       "      <td>Rampa</td>\n",
       "      <td>62539</td>\n",
       "    </tr>\n",
       "    <tr>\n",
       "      <th>ne0059</th>\n",
       "      <td>SanDaniel</td>\n",
       "      <td>62685</td>\n",
       "    </tr>\n",
       "    <tr>\n",
       "      <th>ne0104</th>\n",
       "      <td>MovimientoVP</td>\n",
       "      <td>62727</td>\n",
       "    </tr>\n",
       "    <tr>\n",
       "      <th>ne0168</th>\n",
       "      <td>Doctor</td>\n",
       "      <td>62850</td>\n",
       "    </tr>\n",
       "    <tr>\n",
       "      <th>ne0068</th>\n",
       "      <td>ArbolCiencia</td>\n",
       "      <td>63017</td>\n",
       "    </tr>\n",
       "    <tr>\n",
       "      <th>ne0176</th>\n",
       "      <td>Prodiga</td>\n",
       "      <td>63248</td>\n",
       "    </tr>\n",
       "    <tr>\n",
       "      <th>ne0098</th>\n",
       "      <td>MadridOviedo</td>\n",
       "      <td>63596</td>\n",
       "    </tr>\n",
       "    <tr>\n",
       "      <th>ne0233</th>\n",
       "      <td>Pilotos</td>\n",
       "      <td>63615</td>\n",
       "    </tr>\n",
       "    <tr>\n",
       "      <th>...</th>\n",
       "      <td>...</td>\n",
       "      <td>...</td>\n",
       "    </tr>\n",
       "    <tr>\n",
       "      <th>ne0107</th>\n",
       "      <td>Misterio</td>\n",
       "      <td>107339</td>\n",
       "    </tr>\n",
       "    <tr>\n",
       "      <th>ne0393</th>\n",
       "      <td>Troteras</td>\n",
       "      <td>108085</td>\n",
       "    </tr>\n",
       "    <tr>\n",
       "      <th>ne0352</th>\n",
       "      <td>TunicaNeso</td>\n",
       "      <td>109969</td>\n",
       "    </tr>\n",
       "    <tr>\n",
       "      <th>ne0144</th>\n",
       "      <td>Pedro</td>\n",
       "      <td>110075</td>\n",
       "    </tr>\n",
       "    <tr>\n",
       "      <th>ne0159</th>\n",
       "      <td>Jarrapellejos</td>\n",
       "      <td>110476</td>\n",
       "    </tr>\n",
       "    <tr>\n",
       "      <th>ne0260</th>\n",
       "      <td>Sangre</td>\n",
       "      <td>111378</td>\n",
       "    </tr>\n",
       "    <tr>\n",
       "      <th>ne0024</th>\n",
       "      <td>Centeno</td>\n",
       "      <td>113466</td>\n",
       "    </tr>\n",
       "    <tr>\n",
       "      <th>ne0310</th>\n",
       "      <td>Hermana</td>\n",
       "      <td>117165</td>\n",
       "    </tr>\n",
       "    <tr>\n",
       "      <th>ne0146</th>\n",
       "      <td>Sotileza</td>\n",
       "      <td>117347</td>\n",
       "    </tr>\n",
       "    <tr>\n",
       "      <th>ne0297</th>\n",
       "      <td>NubesEstio</td>\n",
       "      <td>121710</td>\n",
       "    </tr>\n",
       "    <tr>\n",
       "      <th>ne0191</th>\n",
       "      <td>Paganismo</td>\n",
       "      <td>123489</td>\n",
       "    </tr>\n",
       "    <tr>\n",
       "      <th>ne0312</th>\n",
       "      <td>Espuma</td>\n",
       "      <td>124830</td>\n",
       "    </tr>\n",
       "    <tr>\n",
       "      <th>ne0269</th>\n",
       "      <td>BuscaKan</td>\n",
       "      <td>125631</td>\n",
       "    </tr>\n",
       "    <tr>\n",
       "      <th>ne0296</th>\n",
       "      <td>Puchera</td>\n",
       "      <td>125827</td>\n",
       "    </tr>\n",
       "    <tr>\n",
       "      <th>ne0165</th>\n",
       "      <td>Apocalipsis</td>\n",
       "      <td>131341</td>\n",
       "    </tr>\n",
       "    <tr>\n",
       "      <th>ne0145</th>\n",
       "      <td>Penas</td>\n",
       "      <td>134891</td>\n",
       "    </tr>\n",
       "    <tr>\n",
       "      <th>ne0009</th>\n",
       "      <td>Desheredada</td>\n",
       "      <td>140959</td>\n",
       "    </tr>\n",
       "    <tr>\n",
       "      <th>ne0157</th>\n",
       "      <td>Pequeneces</td>\n",
       "      <td>141785</td>\n",
       "    </tr>\n",
       "    <tr>\n",
       "      <th>ne0264</th>\n",
       "      <td>MareNostrum</td>\n",
       "      <td>144816</td>\n",
       "    </tr>\n",
       "    <tr>\n",
       "      <th>ne0325</th>\n",
       "      <td>Regenta1</td>\n",
       "      <td>145669</td>\n",
       "    </tr>\n",
       "    <tr>\n",
       "      <th>ne0387</th>\n",
       "      <td>Jeromin</td>\n",
       "      <td>147697</td>\n",
       "    </tr>\n",
       "    <tr>\n",
       "      <th>ne0265</th>\n",
       "      <td>EnemigosMujer</td>\n",
       "      <td>151748</td>\n",
       "    </tr>\n",
       "    <tr>\n",
       "      <th>ne0134</th>\n",
       "      <td>Trabajos</td>\n",
       "      <td>158492</td>\n",
       "    </tr>\n",
       "    <tr>\n",
       "      <th>ne0029</th>\n",
       "      <td>Prohibido</td>\n",
       "      <td>158514</td>\n",
       "    </tr>\n",
       "    <tr>\n",
       "      <th>ne0326</th>\n",
       "      <td>Regenta2</td>\n",
       "      <td>162622</td>\n",
       "    </tr>\n",
       "    <tr>\n",
       "      <th>ne0095</th>\n",
       "      <td>GuerraTransvaal</td>\n",
       "      <td>185653</td>\n",
       "    </tr>\n",
       "    <tr>\n",
       "      <th>ne0262</th>\n",
       "      <td>Argonautas</td>\n",
       "      <td>204915</td>\n",
       "    </tr>\n",
       "    <tr>\n",
       "      <th>ne0006</th>\n",
       "      <td>Angel</td>\n",
       "      <td>248565</td>\n",
       "    </tr>\n",
       "    <tr>\n",
       "      <th>ne0327</th>\n",
       "      <td>AranaNegra1</td>\n",
       "      <td>252371</td>\n",
       "    </tr>\n",
       "    <tr>\n",
       "      <th>ne0328</th>\n",
       "      <td>AranaNegra2</td>\n",
       "      <td>254444</td>\n",
       "    </tr>\n",
       "  </tbody>\n",
       "</table>\n",
       "<p>191 rows × 2 columns</p>\n",
       "</div>"
      ],
      "text/plain": [
       "                  title  am.tokens\n",
       "ne0363            Nardo      55938\n",
       "ne0131     Espirituados      56015\n",
       "ne0239       Romanticos      56082\n",
       "ne0220           Barrio      56754\n",
       "ne0177          Mairena      57234\n",
       "ne0169            Viuda      57286\n",
       "ne0081         Solteron      57817\n",
       "ne0306     CapitanRibot      57980\n",
       "ne0331   HombreEspiritu      58750\n",
       "ne0121         Voluntad      58942\n",
       "ne0090    VivianaMerlin      59186\n",
       "ne0303     CiudadNiebla      59501\n",
       "ne0392         LunaHiel      59757\n",
       "ne0240        Tragedias      59833\n",
       "ne0102           Brujas      60014\n",
       "ne0073           Niebla      60097\n",
       "ne0116           Camino      60401\n",
       "ne0188              Boy      61585\n",
       "ne0008          Enferma      61667\n",
       "ne0237         Estrella      62300\n",
       "ne0063            Busca      62355\n",
       "ne0360           Rebeca      62398\n",
       "ne0133            Rampa      62539\n",
       "ne0059        SanDaniel      62685\n",
       "ne0104     MovimientoVP      62727\n",
       "ne0168           Doctor      62850\n",
       "ne0068     ArbolCiencia      63017\n",
       "ne0176          Prodiga      63248\n",
       "ne0098     MadridOviedo      63596\n",
       "ne0233          Pilotos      63615\n",
       "...                 ...        ...\n",
       "ne0107         Misterio     107339\n",
       "ne0393         Troteras     108085\n",
       "ne0352       TunicaNeso     109969\n",
       "ne0144            Pedro     110075\n",
       "ne0159    Jarrapellejos     110476\n",
       "ne0260           Sangre     111378\n",
       "ne0024          Centeno     113466\n",
       "ne0310          Hermana     117165\n",
       "ne0146         Sotileza     117347\n",
       "ne0297       NubesEstio     121710\n",
       "ne0191        Paganismo     123489\n",
       "ne0312           Espuma     124830\n",
       "ne0269         BuscaKan     125631\n",
       "ne0296          Puchera     125827\n",
       "ne0165      Apocalipsis     131341\n",
       "ne0145            Penas     134891\n",
       "ne0009      Desheredada     140959\n",
       "ne0157       Pequeneces     141785\n",
       "ne0264      MareNostrum     144816\n",
       "ne0325         Regenta1     145669\n",
       "ne0387          Jeromin     147697\n",
       "ne0265    EnemigosMujer     151748\n",
       "ne0134         Trabajos     158492\n",
       "ne0029        Prohibido     158514\n",
       "ne0326         Regenta2     162622\n",
       "ne0095  GuerraTransvaal     185653\n",
       "ne0262       Argonautas     204915\n",
       "ne0006            Angel     248565\n",
       "ne0327      AranaNegra1     252371\n",
       "ne0328      AranaNegra2     254444\n",
       "\n",
       "[191 rows x 2 columns]"
      ]
     },
     "execution_count": 110,
     "metadata": {},
     "output_type": "execute_result"
    }
   ],
   "source": [
    "metadata.loc[metadata[\"am.tokens\"] > 55629].sort_values(by =\"am.tokens\")[[\"title\",\"am.tokens\"]]"
   ]
  },
  {
   "cell_type": "code",
   "execution_count": 111,
   "metadata": {},
   "outputs": [
    {
     "data": {
      "text/html": [
       "<div>\n",
       "<style scoped>\n",
       "    .dataframe tbody tr th:only-of-type {\n",
       "        vertical-align: middle;\n",
       "    }\n",
       "\n",
       "    .dataframe tbody tr th {\n",
       "        vertical-align: top;\n",
       "    }\n",
       "\n",
       "    .dataframe thead th {\n",
       "        text-align: right;\n",
       "    }\n",
       "</style>\n",
       "<table border=\"1\" class=\"dataframe\">\n",
       "  <thead>\n",
       "    <tr style=\"text-align: right;\">\n",
       "      <th></th>\n",
       "      <th>title</th>\n",
       "      <th>am.tokens</th>\n",
       "      <th>decade</th>\n",
       "    </tr>\n",
       "  </thead>\n",
       "  <tbody>\n",
       "    <tr>\n",
       "      <th>ne0334</th>\n",
       "      <td>Erika</td>\n",
       "      <td>3787</td>\n",
       "      <td>1930</td>\n",
       "    </tr>\n",
       "    <tr>\n",
       "      <th>ne0320</th>\n",
       "      <td>Calisto</td>\n",
       "      <td>4595</td>\n",
       "      <td>1930</td>\n",
       "    </tr>\n",
       "    <tr>\n",
       "      <th>ne0198</th>\n",
       "      <td>HistoriaVulgar</td>\n",
       "      <td>6389</td>\n",
       "      <td>1910</td>\n",
       "    </tr>\n",
       "    <tr>\n",
       "      <th>ne0380</th>\n",
       "      <td>Crimen</td>\n",
       "      <td>7692</td>\n",
       "      <td>1930</td>\n",
       "    </tr>\n",
       "    <tr>\n",
       "      <th>ne0349</th>\n",
       "      <td>AmorSacrificio</td>\n",
       "      <td>8158</td>\n",
       "      <td>1920</td>\n",
       "    </tr>\n",
       "    <tr>\n",
       "      <th>ne0403</th>\n",
       "      <td>CartasMujeres</td>\n",
       "      <td>8893</td>\n",
       "      <td>1890</td>\n",
       "    </tr>\n",
       "    <tr>\n",
       "      <th>ne0333</th>\n",
       "      <td>Cazador</td>\n",
       "      <td>8898</td>\n",
       "      <td>1930</td>\n",
       "    </tr>\n",
       "    <tr>\n",
       "      <th>ne0050</th>\n",
       "      <td>Zapatos</td>\n",
       "      <td>10993</td>\n",
       "      <td>1910</td>\n",
       "    </tr>\n",
       "    <tr>\n",
       "      <th>ne0215</th>\n",
       "      <td>HombreOro</td>\n",
       "      <td>11108</td>\n",
       "      <td>1890</td>\n",
       "    </tr>\n",
       "    <tr>\n",
       "      <th>ne0319</th>\n",
       "      <td>FamiliaGomar</td>\n",
       "      <td>11236</td>\n",
       "      <td>1910</td>\n",
       "    </tr>\n",
       "    <tr>\n",
       "      <th>ne0364</th>\n",
       "      <td>EugenioPrimavera</td>\n",
       "      <td>11586</td>\n",
       "      <td>1930</td>\n",
       "    </tr>\n",
       "    <tr>\n",
       "      <th>ne0290</th>\n",
       "      <td>Gusanos</td>\n",
       "      <td>11805</td>\n",
       "      <td>1900</td>\n",
       "    </tr>\n",
       "    <tr>\n",
       "      <th>ne0200</th>\n",
       "      <td>FrayAntonio</td>\n",
       "      <td>11813</td>\n",
       "      <td>1910</td>\n",
       "    </tr>\n",
       "    <tr>\n",
       "      <th>ne0037</th>\n",
       "      <td>MediaNoche</td>\n",
       "      <td>12230</td>\n",
       "      <td>1910</td>\n",
       "    </tr>\n",
       "    <tr>\n",
       "      <th>ne0288</th>\n",
       "      <td>NiVida</td>\n",
       "      <td>12599</td>\n",
       "      <td>1890</td>\n",
       "    </tr>\n",
       "    <tr>\n",
       "      <th>ne0043</th>\n",
       "      <td>Nomada</td>\n",
       "      <td>12887</td>\n",
       "      <td>1900</td>\n",
       "    </tr>\n",
       "    <tr>\n",
       "      <th>ne0074</th>\n",
       "      <td>Manuel</td>\n",
       "      <td>13904</td>\n",
       "      <td>1930</td>\n",
       "    </tr>\n",
       "    <tr>\n",
       "      <th>ne0049</th>\n",
       "      <td>Gualba</td>\n",
       "      <td>13944</td>\n",
       "      <td>1930</td>\n",
       "    </tr>\n",
       "    <tr>\n",
       "      <th>ne0046</th>\n",
       "      <td>HijoSanto</td>\n",
       "      <td>14021</td>\n",
       "      <td>1900</td>\n",
       "    </tr>\n",
       "    <tr>\n",
       "      <th>ne0216</th>\n",
       "      <td>Mallorca</td>\n",
       "      <td>14315</td>\n",
       "      <td>1910</td>\n",
       "    </tr>\n",
       "    <tr>\n",
       "      <th>ne0047</th>\n",
       "      <td>AmoresAntonHernando</td>\n",
       "      <td>14627</td>\n",
       "      <td>1900</td>\n",
       "    </tr>\n",
       "    <tr>\n",
       "      <th>ne0045</th>\n",
       "      <td>PalmaRota</td>\n",
       "      <td>14738</td>\n",
       "      <td>1900</td>\n",
       "    </tr>\n",
       "    <tr>\n",
       "      <th>ne0106</th>\n",
       "      <td>Fada</td>\n",
       "      <td>14964</td>\n",
       "      <td>1910</td>\n",
       "    </tr>\n",
       "    <tr>\n",
       "      <th>ne0291</th>\n",
       "      <td>Tomas</td>\n",
       "      <td>15015</td>\n",
       "      <td>1910</td>\n",
       "    </tr>\n",
       "    <tr>\n",
       "      <th>ne0318</th>\n",
       "      <td>MediaNaranja</td>\n",
       "      <td>15202</td>\n",
       "      <td>1910</td>\n",
       "    </tr>\n",
       "    <tr>\n",
       "      <th>ne0217</th>\n",
       "      <td>Cancionero</td>\n",
       "      <td>15355</td>\n",
       "      <td>1930</td>\n",
       "    </tr>\n",
       "    <tr>\n",
       "      <th>ne0148</th>\n",
       "      <td>Luna</td>\n",
       "      <td>15662</td>\n",
       "      <td>1920</td>\n",
       "    </tr>\n",
       "    <tr>\n",
       "      <th>ne0379</th>\n",
       "      <td>DonJuan</td>\n",
       "      <td>16102</td>\n",
       "      <td>1920</td>\n",
       "    </tr>\n",
       "    <tr>\n",
       "      <th>ne0172</th>\n",
       "      <td>Greguerias</td>\n",
       "      <td>16495</td>\n",
       "      <td>1910</td>\n",
       "    </tr>\n",
       "    <tr>\n",
       "      <th>ne0261</th>\n",
       "      <td>Luna_n</td>\n",
       "      <td>16755</td>\n",
       "      <td>1900</td>\n",
       "    </tr>\n",
       "    <tr>\n",
       "      <th>...</th>\n",
       "      <td>...</td>\n",
       "      <td>...</td>\n",
       "      <td>...</td>\n",
       "    </tr>\n",
       "    <tr>\n",
       "      <th>ne0107</th>\n",
       "      <td>Misterio</td>\n",
       "      <td>107339</td>\n",
       "      <td>1900</td>\n",
       "    </tr>\n",
       "    <tr>\n",
       "      <th>ne0393</th>\n",
       "      <td>Troteras</td>\n",
       "      <td>108085</td>\n",
       "      <td>1910</td>\n",
       "    </tr>\n",
       "    <tr>\n",
       "      <th>ne0352</th>\n",
       "      <td>TunicaNeso</td>\n",
       "      <td>109969</td>\n",
       "      <td>1920</td>\n",
       "    </tr>\n",
       "    <tr>\n",
       "      <th>ne0144</th>\n",
       "      <td>Pedro</td>\n",
       "      <td>110075</td>\n",
       "      <td>1880</td>\n",
       "    </tr>\n",
       "    <tr>\n",
       "      <th>ne0159</th>\n",
       "      <td>Jarrapellejos</td>\n",
       "      <td>110476</td>\n",
       "      <td>1910</td>\n",
       "    </tr>\n",
       "    <tr>\n",
       "      <th>ne0260</th>\n",
       "      <td>Sangre</td>\n",
       "      <td>111378</td>\n",
       "      <td>1900</td>\n",
       "    </tr>\n",
       "    <tr>\n",
       "      <th>ne0024</th>\n",
       "      <td>Centeno</td>\n",
       "      <td>113466</td>\n",
       "      <td>1880</td>\n",
       "    </tr>\n",
       "    <tr>\n",
       "      <th>ne0310</th>\n",
       "      <td>Hermana</td>\n",
       "      <td>117165</td>\n",
       "      <td>1890</td>\n",
       "    </tr>\n",
       "    <tr>\n",
       "      <th>ne0146</th>\n",
       "      <td>Sotileza</td>\n",
       "      <td>117347</td>\n",
       "      <td>1880</td>\n",
       "    </tr>\n",
       "    <tr>\n",
       "      <th>ne0297</th>\n",
       "      <td>NubesEstio</td>\n",
       "      <td>121710</td>\n",
       "      <td>1890</td>\n",
       "    </tr>\n",
       "    <tr>\n",
       "      <th>ne0191</th>\n",
       "      <td>Paganismo</td>\n",
       "      <td>123489</td>\n",
       "      <td>1910</td>\n",
       "    </tr>\n",
       "    <tr>\n",
       "      <th>ne0312</th>\n",
       "      <td>Espuma</td>\n",
       "      <td>124830</td>\n",
       "      <td>1890</td>\n",
       "    </tr>\n",
       "    <tr>\n",
       "      <th>ne0269</th>\n",
       "      <td>BuscaKan</td>\n",
       "      <td>125631</td>\n",
       "      <td>1920</td>\n",
       "    </tr>\n",
       "    <tr>\n",
       "      <th>ne0296</th>\n",
       "      <td>Puchera</td>\n",
       "      <td>125827</td>\n",
       "      <td>1880</td>\n",
       "    </tr>\n",
       "    <tr>\n",
       "      <th>ne0165</th>\n",
       "      <td>Apocalipsis</td>\n",
       "      <td>131341</td>\n",
       "      <td>1910</td>\n",
       "    </tr>\n",
       "    <tr>\n",
       "      <th>ne0145</th>\n",
       "      <td>Penas</td>\n",
       "      <td>134891</td>\n",
       "      <td>1890</td>\n",
       "    </tr>\n",
       "    <tr>\n",
       "      <th>ne0009</th>\n",
       "      <td>Desheredada</td>\n",
       "      <td>140959</td>\n",
       "      <td>1880</td>\n",
       "    </tr>\n",
       "    <tr>\n",
       "      <th>ne0157</th>\n",
       "      <td>Pequeneces</td>\n",
       "      <td>141785</td>\n",
       "      <td>1890</td>\n",
       "    </tr>\n",
       "    <tr>\n",
       "      <th>ne0264</th>\n",
       "      <td>MareNostrum</td>\n",
       "      <td>144816</td>\n",
       "      <td>1910</td>\n",
       "    </tr>\n",
       "    <tr>\n",
       "      <th>ne0325</th>\n",
       "      <td>Regenta1</td>\n",
       "      <td>145669</td>\n",
       "      <td>1880</td>\n",
       "    </tr>\n",
       "    <tr>\n",
       "      <th>ne0387</th>\n",
       "      <td>Jeromin</td>\n",
       "      <td>147697</td>\n",
       "      <td>1900</td>\n",
       "    </tr>\n",
       "    <tr>\n",
       "      <th>ne0265</th>\n",
       "      <td>EnemigosMujer</td>\n",
       "      <td>151748</td>\n",
       "      <td>1910</td>\n",
       "    </tr>\n",
       "    <tr>\n",
       "      <th>ne0134</th>\n",
       "      <td>Trabajos</td>\n",
       "      <td>158492</td>\n",
       "      <td>1890</td>\n",
       "    </tr>\n",
       "    <tr>\n",
       "      <th>ne0029</th>\n",
       "      <td>Prohibido</td>\n",
       "      <td>158514</td>\n",
       "      <td>1880</td>\n",
       "    </tr>\n",
       "    <tr>\n",
       "      <th>ne0326</th>\n",
       "      <td>Regenta2</td>\n",
       "      <td>162622</td>\n",
       "      <td>1880</td>\n",
       "    </tr>\n",
       "    <tr>\n",
       "      <th>ne0095</th>\n",
       "      <td>GuerraTransvaal</td>\n",
       "      <td>185653</td>\n",
       "      <td>1900</td>\n",
       "    </tr>\n",
       "    <tr>\n",
       "      <th>ne0262</th>\n",
       "      <td>Argonautas</td>\n",
       "      <td>204915</td>\n",
       "      <td>1910</td>\n",
       "    </tr>\n",
       "    <tr>\n",
       "      <th>ne0006</th>\n",
       "      <td>Angel</td>\n",
       "      <td>248565</td>\n",
       "      <td>1890</td>\n",
       "    </tr>\n",
       "    <tr>\n",
       "      <th>ne0327</th>\n",
       "      <td>AranaNegra1</td>\n",
       "      <td>252371</td>\n",
       "      <td>1890</td>\n",
       "    </tr>\n",
       "    <tr>\n",
       "      <th>ne0328</th>\n",
       "      <td>AranaNegra2</td>\n",
       "      <td>254444</td>\n",
       "      <td>1890</td>\n",
       "    </tr>\n",
       "  </tbody>\n",
       "</table>\n",
       "<p>358 rows × 3 columns</p>\n",
       "</div>"
      ],
      "text/plain": [
       "                      title  am.tokens  decade\n",
       "ne0334                Erika       3787    1930\n",
       "ne0320              Calisto       4595    1930\n",
       "ne0198       HistoriaVulgar       6389    1910\n",
       "ne0380               Crimen       7692    1930\n",
       "ne0349       AmorSacrificio       8158    1920\n",
       "ne0403        CartasMujeres       8893    1890\n",
       "ne0333              Cazador       8898    1930\n",
       "ne0050              Zapatos      10993    1910\n",
       "ne0215            HombreOro      11108    1890\n",
       "ne0319         FamiliaGomar      11236    1910\n",
       "ne0364     EugenioPrimavera      11586    1930\n",
       "ne0290              Gusanos      11805    1900\n",
       "ne0200          FrayAntonio      11813    1910\n",
       "ne0037           MediaNoche      12230    1910\n",
       "ne0288               NiVida      12599    1890\n",
       "ne0043               Nomada      12887    1900\n",
       "ne0074               Manuel      13904    1930\n",
       "ne0049               Gualba      13944    1930\n",
       "ne0046            HijoSanto      14021    1900\n",
       "ne0216             Mallorca      14315    1910\n",
       "ne0047  AmoresAntonHernando      14627    1900\n",
       "ne0045            PalmaRota      14738    1900\n",
       "ne0106                 Fada      14964    1910\n",
       "ne0291                Tomas      15015    1910\n",
       "ne0318         MediaNaranja      15202    1910\n",
       "ne0217           Cancionero      15355    1930\n",
       "ne0148                 Luna      15662    1920\n",
       "ne0379              DonJuan      16102    1920\n",
       "ne0172           Greguerias      16495    1910\n",
       "ne0261               Luna_n      16755    1900\n",
       "...                     ...        ...     ...\n",
       "ne0107             Misterio     107339    1900\n",
       "ne0393             Troteras     108085    1910\n",
       "ne0352           TunicaNeso     109969    1920\n",
       "ne0144                Pedro     110075    1880\n",
       "ne0159        Jarrapellejos     110476    1910\n",
       "ne0260               Sangre     111378    1900\n",
       "ne0024              Centeno     113466    1880\n",
       "ne0310              Hermana     117165    1890\n",
       "ne0146             Sotileza     117347    1880\n",
       "ne0297           NubesEstio     121710    1890\n",
       "ne0191            Paganismo     123489    1910\n",
       "ne0312               Espuma     124830    1890\n",
       "ne0269             BuscaKan     125631    1920\n",
       "ne0296              Puchera     125827    1880\n",
       "ne0165          Apocalipsis     131341    1910\n",
       "ne0145                Penas     134891    1890\n",
       "ne0009          Desheredada     140959    1880\n",
       "ne0157           Pequeneces     141785    1890\n",
       "ne0264          MareNostrum     144816    1910\n",
       "ne0325             Regenta1     145669    1880\n",
       "ne0387              Jeromin     147697    1900\n",
       "ne0265        EnemigosMujer     151748    1910\n",
       "ne0134             Trabajos     158492    1890\n",
       "ne0029            Prohibido     158514    1880\n",
       "ne0326             Regenta2     162622    1880\n",
       "ne0095      GuerraTransvaal     185653    1900\n",
       "ne0262           Argonautas     204915    1910\n",
       "ne0006                Angel     248565    1890\n",
       "ne0327          AranaNegra1     252371    1890\n",
       "ne0328          AranaNegra2     254444    1890\n",
       "\n",
       "[358 rows x 3 columns]"
      ]
     },
     "execution_count": 111,
     "metadata": {},
     "output_type": "execute_result"
    }
   ],
   "source": [
    "metadata.sort_values(by =\"am.tokens\")[[\"title\",\"am.tokens\",\"decade\"]]"
   ]
  },
  {
   "cell_type": "code",
   "execution_count": 112,
   "metadata": {},
   "outputs": [
    {
     "data": {
      "image/png": "[encoded data removed]",
      "text/plain": [
       "<Figure size 360x360 with 1 Axes>"
      ]
     },
     "metadata": {},
     "output_type": "display_data"
    },
    {
     "data": {
      "text/plain": [
       "<seaborn.axisgrid.FacetGrid at 0x7f2685754240>"
      ]
     },
     "execution_count": 112,
     "metadata": {},
     "output_type": "execute_result"
    }
   ],
   "source": [
    "describe_data.describe_corpus_scatter(metadata = metadata, class_1 = \"year\", class_2 = \"am.tokens\", wdir = wdir, dataset = dataset)\n"
   ]
  },
  {
   "cell_type": "code",
   "execution_count": 113,
   "metadata": {},
   "outputs": [
    {
     "data": {
      "text/plain": [
       "LinregressResult(slope=-561.9572898100827, intercept=1136663.1809152607, rvalue=-0.24627848909920744, pvalue=2.4011144938311927e-06, stderr=117.21004545292426)"
      ]
     },
     "execution_count": 113,
     "metadata": {},
     "output_type": "execute_result"
    }
   ],
   "source": [
    "stats.linregress(metadata[\"year\"],metadata[\"am.tokens\"])"
   ]
  },
  {
   "cell_type": "code",
   "execution_count": 114,
   "metadata": {},
   "outputs": [
    {
     "data": {
      "text/html": [
       "<div>\n",
       "<style scoped>\n",
       "    .dataframe tbody tr th:only-of-type {\n",
       "        vertical-align: middle;\n",
       "    }\n",
       "\n",
       "    .dataframe tbody tr th {\n",
       "        vertical-align: top;\n",
       "    }\n",
       "\n",
       "    .dataframe thead th {\n",
       "        text-align: right;\n",
       "    }\n",
       "</style>\n",
       "<table border=\"1\" class=\"dataframe\">\n",
       "  <thead>\n",
       "    <tr style=\"text-align: right;\">\n",
       "      <th></th>\n",
       "      <th>idno</th>\n",
       "      <th>author.name</th>\n",
       "      <th>title</th>\n",
       "      <th>year</th>\n",
       "      <th>supergenre</th>\n",
       "      <th>genre</th>\n",
       "      <th>subgenre.cligs.important</th>\n",
       "      <th>author.country</th>\n",
       "      <th>author.viaf</th>\n",
       "      <th>author.bne</th>\n",
       "      <th>...</th>\n",
       "      <th>am.wnlex.noun.Topss</th>\n",
       "      <th>am.wnlex.noun.relations</th>\n",
       "      <th>am.wnlex.noun.attributes</th>\n",
       "      <th>am.wnlex.verb.emotions</th>\n",
       "      <th>am.wnlex.noun.locations</th>\n",
       "      <th>am.wnlex.noun.events</th>\n",
       "      <th>am.wnlex.verb.contacts</th>\n",
       "      <th>am.wnlex.xxxs</th>\n",
       "      <th>am.wnlex.verb.changes</th>\n",
       "      <th>decade</th>\n",
       "    </tr>\n",
       "  </thead>\n",
       "  <tbody>\n",
       "    <tr>\n",
       "      <th>ne0002</th>\n",
       "      <td>ne0002</td>\n",
       "      <td>Galdos</td>\n",
       "      <td>Misericordia</td>\n",
       "      <td>1889</td>\n",
       "      <td>narrative</td>\n",
       "      <td>novela</td>\n",
       "      <td>realist</td>\n",
       "      <td>Spain</td>\n",
       "      <td>71395987.0</td>\n",
       "      <td>XX1014802</td>\n",
       "      <td>...</td>\n",
       "      <td>239</td>\n",
       "      <td>39</td>\n",
       "      <td>821</td>\n",
       "      <td>314</td>\n",
       "      <td>336</td>\n",
       "      <td>355</td>\n",
       "      <td>684</td>\n",
       "      <td>70169</td>\n",
       "      <td>764</td>\n",
       "      <td>1880</td>\n",
       "    </tr>\n",
       "    <tr>\n",
       "      <th>ne0003</th>\n",
       "      <td>ne0003</td>\n",
       "      <td>Galdos</td>\n",
       "      <td>Nazarin</td>\n",
       "      <td>1895</td>\n",
       "      <td>narrative</td>\n",
       "      <td>novela</td>\n",
       "      <td>realist</td>\n",
       "      <td>Spain</td>\n",
       "      <td>71395987.0</td>\n",
       "      <td>XX1014802</td>\n",
       "      <td>...</td>\n",
       "      <td>253</td>\n",
       "      <td>17</td>\n",
       "      <td>725</td>\n",
       "      <td>396</td>\n",
       "      <td>301</td>\n",
       "      <td>327</td>\n",
       "      <td>498</td>\n",
       "      <td>54401</td>\n",
       "      <td>572</td>\n",
       "      <td>1890</td>\n",
       "    </tr>\n",
       "    <tr>\n",
       "      <th>ne0004</th>\n",
       "      <td>ne0004</td>\n",
       "      <td>Galdos</td>\n",
       "      <td>Halma</td>\n",
       "      <td>1895</td>\n",
       "      <td>narrative</td>\n",
       "      <td>novela</td>\n",
       "      <td>realist</td>\n",
       "      <td>Spain</td>\n",
       "      <td>71395987.0</td>\n",
       "      <td>XX1014802</td>\n",
       "      <td>...</td>\n",
       "      <td>288</td>\n",
       "      <td>24</td>\n",
       "      <td>1061</td>\n",
       "      <td>424</td>\n",
       "      <td>282</td>\n",
       "      <td>248</td>\n",
       "      <td>450</td>\n",
       "      <td>60648</td>\n",
       "      <td>553</td>\n",
       "      <td>1890</td>\n",
       "    </tr>\n",
       "    <tr>\n",
       "      <th>ne0006</th>\n",
       "      <td>ne0006</td>\n",
       "      <td>Galdos</td>\n",
       "      <td>Angel</td>\n",
       "      <td>1891</td>\n",
       "      <td>narrative</td>\n",
       "      <td>novela</td>\n",
       "      <td>bildungsroman</td>\n",
       "      <td>Spain</td>\n",
       "      <td>71395987.0</td>\n",
       "      <td>XX1014802</td>\n",
       "      <td>...</td>\n",
       "      <td>841</td>\n",
       "      <td>98</td>\n",
       "      <td>2867</td>\n",
       "      <td>1334</td>\n",
       "      <td>920</td>\n",
       "      <td>1237</td>\n",
       "      <td>1974</td>\n",
       "      <td>198080</td>\n",
       "      <td>2378</td>\n",
       "      <td>1890</td>\n",
       "    </tr>\n",
       "    <tr>\n",
       "      <th>ne0009</th>\n",
       "      <td>ne0009</td>\n",
       "      <td>Galdos</td>\n",
       "      <td>Desheredada</td>\n",
       "      <td>1881</td>\n",
       "      <td>narrative</td>\n",
       "      <td>novela</td>\n",
       "      <td>bildungsroman</td>\n",
       "      <td>Spain</td>\n",
       "      <td>71395987.0</td>\n",
       "      <td>XX1014802</td>\n",
       "      <td>...</td>\n",
       "      <td>494</td>\n",
       "      <td>43</td>\n",
       "      <td>1813</td>\n",
       "      <td>780</td>\n",
       "      <td>608</td>\n",
       "      <td>689</td>\n",
       "      <td>1169</td>\n",
       "      <td>114674</td>\n",
       "      <td>1331</td>\n",
       "      <td>1880</td>\n",
       "    </tr>\n",
       "    <tr>\n",
       "      <th>ne0011</th>\n",
       "      <td>ne0011</td>\n",
       "      <td>Galdos</td>\n",
       "      <td>Manso</td>\n",
       "      <td>1882</td>\n",
       "      <td>narrative</td>\n",
       "      <td>novela</td>\n",
       "      <td>philosophical</td>\n",
       "      <td>Spain</td>\n",
       "      <td>71395987.0</td>\n",
       "      <td>XX1014802</td>\n",
       "      <td>...</td>\n",
       "      <td>377</td>\n",
       "      <td>28</td>\n",
       "      <td>1232</td>\n",
       "      <td>516</td>\n",
       "      <td>326</td>\n",
       "      <td>407</td>\n",
       "      <td>656</td>\n",
       "      <td>72190</td>\n",
       "      <td>797</td>\n",
       "      <td>1880</td>\n",
       "    </tr>\n",
       "    <tr>\n",
       "      <th>ne0013</th>\n",
       "      <td>ne0013</td>\n",
       "      <td>Valle</td>\n",
       "      <td>SonataOtono</td>\n",
       "      <td>1902</td>\n",
       "      <td>narrative</td>\n",
       "      <td>novela</td>\n",
       "      <td>memoir</td>\n",
       "      <td>Spain</td>\n",
       "      <td>68936773.0</td>\n",
       "      <td>XX1055436</td>\n",
       "      <td>...</td>\n",
       "      <td>35</td>\n",
       "      <td>1</td>\n",
       "      <td>222</td>\n",
       "      <td>137</td>\n",
       "      <td>86</td>\n",
       "      <td>76</td>\n",
       "      <td>316</td>\n",
       "      <td>16888</td>\n",
       "      <td>292</td>\n",
       "      <td>1900</td>\n",
       "    </tr>\n",
       "    <tr>\n",
       "      <th>ne0014</th>\n",
       "      <td>ne0014</td>\n",
       "      <td>Valle</td>\n",
       "      <td>SonataEstio</td>\n",
       "      <td>1903</td>\n",
       "      <td>narrative</td>\n",
       "      <td>novela</td>\n",
       "      <td>memoir</td>\n",
       "      <td>Spain</td>\n",
       "      <td>68936773.0</td>\n",
       "      <td>XX1055436</td>\n",
       "      <td>...</td>\n",
       "      <td>41</td>\n",
       "      <td>4</td>\n",
       "      <td>261</td>\n",
       "      <td>121</td>\n",
       "      <td>103</td>\n",
       "      <td>85</td>\n",
       "      <td>276</td>\n",
       "      <td>17715</td>\n",
       "      <td>253</td>\n",
       "      <td>1900</td>\n",
       "    </tr>\n",
       "    <tr>\n",
       "      <th>ne0015</th>\n",
       "      <td>ne0015</td>\n",
       "      <td>Valle</td>\n",
       "      <td>SonataPrimavera</td>\n",
       "      <td>1904</td>\n",
       "      <td>narrative</td>\n",
       "      <td>novela</td>\n",
       "      <td>memoir</td>\n",
       "      <td>Spain</td>\n",
       "      <td>68936773.0</td>\n",
       "      <td>XX1055436</td>\n",
       "      <td>...</td>\n",
       "      <td>39</td>\n",
       "      <td>0</td>\n",
       "      <td>253</td>\n",
       "      <td>116</td>\n",
       "      <td>103</td>\n",
       "      <td>86</td>\n",
       "      <td>216</td>\n",
       "      <td>14854</td>\n",
       "      <td>266</td>\n",
       "      <td>1900</td>\n",
       "    </tr>\n",
       "    <tr>\n",
       "      <th>ne0016</th>\n",
       "      <td>ne0016</td>\n",
       "      <td>Valle</td>\n",
       "      <td>SonataInvierno</td>\n",
       "      <td>1905</td>\n",
       "      <td>narrative</td>\n",
       "      <td>novela</td>\n",
       "      <td>memoir</td>\n",
       "      <td>Spain</td>\n",
       "      <td>68936773.0</td>\n",
       "      <td>XX1055436</td>\n",
       "      <td>...</td>\n",
       "      <td>63</td>\n",
       "      <td>3</td>\n",
       "      <td>296</td>\n",
       "      <td>162</td>\n",
       "      <td>96</td>\n",
       "      <td>108</td>\n",
       "      <td>236</td>\n",
       "      <td>19339</td>\n",
       "      <td>283</td>\n",
       "      <td>1900</td>\n",
       "    </tr>\n",
       "    <tr>\n",
       "      <th>ne0017</th>\n",
       "      <td>ne0017</td>\n",
       "      <td>Valle</td>\n",
       "      <td>FlordeSantidad</td>\n",
       "      <td>1904</td>\n",
       "      <td>narrative</td>\n",
       "      <td>novela</td>\n",
       "      <td>social</td>\n",
       "      <td>Spain</td>\n",
       "      <td>68936773.0</td>\n",
       "      <td>XX1055436</td>\n",
       "      <td>...</td>\n",
       "      <td>33</td>\n",
       "      <td>0</td>\n",
       "      <td>180</td>\n",
       "      <td>56</td>\n",
       "      <td>145</td>\n",
       "      <td>83</td>\n",
       "      <td>272</td>\n",
       "      <td>15891</td>\n",
       "      <td>223</td>\n",
       "      <td>1900</td>\n",
       "    </tr>\n",
       "    <tr>\n",
       "      <th>ne0019</th>\n",
       "      <td>ne0019</td>\n",
       "      <td>BlascoIbanez</td>\n",
       "      <td>Bodega</td>\n",
       "      <td>1905</td>\n",
       "      <td>narrative</td>\n",
       "      <td>novela</td>\n",
       "      <td>realist</td>\n",
       "      <td>Spain</td>\n",
       "      <td>73848096.0</td>\n",
       "      <td>XX1028057</td>\n",
       "      <td>...</td>\n",
       "      <td>288</td>\n",
       "      <td>36</td>\n",
       "      <td>1263</td>\n",
       "      <td>720</td>\n",
       "      <td>591</td>\n",
       "      <td>514</td>\n",
       "      <td>840</td>\n",
       "      <td>80045</td>\n",
       "      <td>965</td>\n",
       "      <td>1900</td>\n",
       "    </tr>\n",
       "    <tr>\n",
       "      <th>ne0020</th>\n",
       "      <td>ne0020</td>\n",
       "      <td>Valle</td>\n",
       "      <td>CruzadosCausa</td>\n",
       "      <td>1908</td>\n",
       "      <td>narrative</td>\n",
       "      <td>novela</td>\n",
       "      <td>historical</td>\n",
       "      <td>Spain</td>\n",
       "      <td>68936773.0</td>\n",
       "      <td>XX1055436</td>\n",
       "      <td>...</td>\n",
       "      <td>35</td>\n",
       "      <td>2</td>\n",
       "      <td>204</td>\n",
       "      <td>79</td>\n",
       "      <td>94</td>\n",
       "      <td>75</td>\n",
       "      <td>321</td>\n",
       "      <td>18070</td>\n",
       "      <td>224</td>\n",
       "      <td>1900</td>\n",
       "    </tr>\n",
       "    <tr>\n",
       "      <th>ne0021</th>\n",
       "      <td>ne0021</td>\n",
       "      <td>Valle</td>\n",
       "      <td>ResplandorHoguera</td>\n",
       "      <td>1909</td>\n",
       "      <td>narrative</td>\n",
       "      <td>novela</td>\n",
       "      <td>historical</td>\n",
       "      <td>Spain</td>\n",
       "      <td>68936773.0</td>\n",
       "      <td>XX1055436</td>\n",
       "      <td>...</td>\n",
       "      <td>35</td>\n",
       "      <td>1</td>\n",
       "      <td>257</td>\n",
       "      <td>53</td>\n",
       "      <td>134</td>\n",
       "      <td>80</td>\n",
       "      <td>323</td>\n",
       "      <td>21476</td>\n",
       "      <td>301</td>\n",
       "      <td>1900</td>\n",
       "    </tr>\n",
       "    <tr>\n",
       "      <th>ne0024</th>\n",
       "      <td>ne0024</td>\n",
       "      <td>Galdos</td>\n",
       "      <td>Centeno</td>\n",
       "      <td>1883</td>\n",
       "      <td>narrative</td>\n",
       "      <td>novela</td>\n",
       "      <td>bildungsroman</td>\n",
       "      <td>Spain</td>\n",
       "      <td>71395987.0</td>\n",
       "      <td>XX1014802</td>\n",
       "      <td>...</td>\n",
       "      <td>341</td>\n",
       "      <td>32</td>\n",
       "      <td>1281</td>\n",
       "      <td>496</td>\n",
       "      <td>489</td>\n",
       "      <td>533</td>\n",
       "      <td>970</td>\n",
       "      <td>92121</td>\n",
       "      <td>1060</td>\n",
       "      <td>1880</td>\n",
       "    </tr>\n",
       "    <tr>\n",
       "      <th>ne0025</th>\n",
       "      <td>ne0025</td>\n",
       "      <td>Poncela</td>\n",
       "      <td>PeroMilVirgenes</td>\n",
       "      <td>1929</td>\n",
       "      <td>narrative</td>\n",
       "      <td>novela</td>\n",
       "      <td>comedy</td>\n",
       "      <td>Spain</td>\n",
       "      <td>76354919.0</td>\n",
       "      <td>XX1719708</td>\n",
       "      <td>...</td>\n",
       "      <td>156</td>\n",
       "      <td>24</td>\n",
       "      <td>717</td>\n",
       "      <td>450</td>\n",
       "      <td>303</td>\n",
       "      <td>417</td>\n",
       "      <td>753</td>\n",
       "      <td>71530</td>\n",
       "      <td>886</td>\n",
       "      <td>1920</td>\n",
       "    </tr>\n",
       "    <tr>\n",
       "      <th>ne0027</th>\n",
       "      <td>ne0027</td>\n",
       "      <td>Galdos</td>\n",
       "      <td>Bringas</td>\n",
       "      <td>1884</td>\n",
       "      <td>narrative</td>\n",
       "      <td>novela</td>\n",
       "      <td>realist</td>\n",
       "      <td>Spain</td>\n",
       "      <td>71395987.0</td>\n",
       "      <td>XX1014802</td>\n",
       "      <td>...</td>\n",
       "      <td>228</td>\n",
       "      <td>20</td>\n",
       "      <td>792</td>\n",
       "      <td>377</td>\n",
       "      <td>345</td>\n",
       "      <td>346</td>\n",
       "      <td>626</td>\n",
       "      <td>56640</td>\n",
       "      <td>688</td>\n",
       "      <td>1880</td>\n",
       "    </tr>\n",
       "    <tr>\n",
       "      <th>ne0028</th>\n",
       "      <td>ne0028</td>\n",
       "      <td>Galdos</td>\n",
       "      <td>Tormento</td>\n",
       "      <td>1884</td>\n",
       "      <td>narrative</td>\n",
       "      <td>novela</td>\n",
       "      <td>realist</td>\n",
       "      <td>Spain</td>\n",
       "      <td>71395987.0</td>\n",
       "      <td>XX1014802</td>\n",
       "      <td>...</td>\n",
       "      <td>306</td>\n",
       "      <td>31</td>\n",
       "      <td>1019</td>\n",
       "      <td>521</td>\n",
       "      <td>277</td>\n",
       "      <td>469</td>\n",
       "      <td>700</td>\n",
       "      <td>66990</td>\n",
       "      <td>779</td>\n",
       "      <td>1880</td>\n",
       "    </tr>\n",
       "    <tr>\n",
       "      <th>ne0029</th>\n",
       "      <td>ne0029</td>\n",
       "      <td>Galdos</td>\n",
       "      <td>Prohibido</td>\n",
       "      <td>1884</td>\n",
       "      <td>narrative</td>\n",
       "      <td>novela</td>\n",
       "      <td>sentimental</td>\n",
       "      <td>Spain</td>\n",
       "      <td>71395987.0</td>\n",
       "      <td>XX1014802</td>\n",
       "      <td>...</td>\n",
       "      <td>584</td>\n",
       "      <td>41</td>\n",
       "      <td>1950</td>\n",
       "      <td>1095</td>\n",
       "      <td>506</td>\n",
       "      <td>835</td>\n",
       "      <td>1317</td>\n",
       "      <td>126930</td>\n",
       "      <td>1459</td>\n",
       "      <td>1880</td>\n",
       "    </tr>\n",
       "    <tr>\n",
       "      <th>ne0030</th>\n",
       "      <td>ne0030</td>\n",
       "      <td>Valle</td>\n",
       "      <td>TiranoBanderas</td>\n",
       "      <td>1926</td>\n",
       "      <td>narrative</td>\n",
       "      <td>novela</td>\n",
       "      <td>historical</td>\n",
       "      <td>Spain</td>\n",
       "      <td>68936773.0</td>\n",
       "      <td>XX1055436</td>\n",
       "      <td>...</td>\n",
       "      <td>84</td>\n",
       "      <td>19</td>\n",
       "      <td>422</td>\n",
       "      <td>193</td>\n",
       "      <td>217</td>\n",
       "      <td>244</td>\n",
       "      <td>629</td>\n",
       "      <td>42050</td>\n",
       "      <td>468</td>\n",
       "      <td>1920</td>\n",
       "    </tr>\n",
       "    <tr>\n",
       "      <th>ne0031</th>\n",
       "      <td>ne0031</td>\n",
       "      <td>Galdos</td>\n",
       "      <td>Miau</td>\n",
       "      <td>1888</td>\n",
       "      <td>narrative</td>\n",
       "      <td>novela</td>\n",
       "      <td>realist</td>\n",
       "      <td>Spain</td>\n",
       "      <td>71395987.0</td>\n",
       "      <td>XX1014802</td>\n",
       "      <td>...</td>\n",
       "      <td>288</td>\n",
       "      <td>28</td>\n",
       "      <td>970</td>\n",
       "      <td>636</td>\n",
       "      <td>369</td>\n",
       "      <td>522</td>\n",
       "      <td>930</td>\n",
       "      <td>80686</td>\n",
       "      <td>964</td>\n",
       "      <td>1880</td>\n",
       "    </tr>\n",
       "    <tr>\n",
       "      <th>ne0032</th>\n",
       "      <td>ne0032</td>\n",
       "      <td>Galdos</td>\n",
       "      <td>Incognita</td>\n",
       "      <td>1889</td>\n",
       "      <td>narrative</td>\n",
       "      <td>novela</td>\n",
       "      <td>realist</td>\n",
       "      <td>Spain</td>\n",
       "      <td>71395987.0</td>\n",
       "      <td>XX1014802</td>\n",
       "      <td>...</td>\n",
       "      <td>294</td>\n",
       "      <td>22</td>\n",
       "      <td>966</td>\n",
       "      <td>520</td>\n",
       "      <td>295</td>\n",
       "      <td>351</td>\n",
       "      <td>539</td>\n",
       "      <td>59971</td>\n",
       "      <td>614</td>\n",
       "      <td>1880</td>\n",
       "    </tr>\n",
       "    <tr>\n",
       "      <th>ne0033</th>\n",
       "      <td>ne0033</td>\n",
       "      <td>Valle</td>\n",
       "      <td>Corte</td>\n",
       "      <td>1927</td>\n",
       "      <td>narrative</td>\n",
       "      <td>novela</td>\n",
       "      <td>historical</td>\n",
       "      <td>Spain</td>\n",
       "      <td>68936773.0</td>\n",
       "      <td>XX1055436</td>\n",
       "      <td>...</td>\n",
       "      <td>115</td>\n",
       "      <td>13</td>\n",
       "      <td>657</td>\n",
       "      <td>326</td>\n",
       "      <td>248</td>\n",
       "      <td>368</td>\n",
       "      <td>885</td>\n",
       "      <td>65848</td>\n",
       "      <td>744</td>\n",
       "      <td>1920</td>\n",
       "    </tr>\n",
       "    <tr>\n",
       "      <th>ne0035</th>\n",
       "      <td>ne0035</td>\n",
       "      <td>Valle</td>\n",
       "      <td>Viva</td>\n",
       "      <td>1928</td>\n",
       "      <td>narrative</td>\n",
       "      <td>novela</td>\n",
       "      <td>historical</td>\n",
       "      <td>Spain</td>\n",
       "      <td>68936773.0</td>\n",
       "      <td>XX1055436</td>\n",
       "      <td>...</td>\n",
       "      <td>142</td>\n",
       "      <td>9</td>\n",
       "      <td>774</td>\n",
       "      <td>319</td>\n",
       "      <td>351</td>\n",
       "      <td>461</td>\n",
       "      <td>925</td>\n",
       "      <td>75904</td>\n",
       "      <td>795</td>\n",
       "      <td>1920</td>\n",
       "    </tr>\n",
       "    <tr>\n",
       "      <th>ne0048</th>\n",
       "      <td>ne0048</td>\n",
       "      <td>Miro</td>\n",
       "      <td>Cerezas</td>\n",
       "      <td>1910</td>\n",
       "      <td>narrative</td>\n",
       "      <td>novela</td>\n",
       "      <td>sentimental</td>\n",
       "      <td>Spain</td>\n",
       "      <td>29542991.0</td>\n",
       "      <td>XX1720928</td>\n",
       "      <td>...</td>\n",
       "      <td>143</td>\n",
       "      <td>3</td>\n",
       "      <td>552</td>\n",
       "      <td>403</td>\n",
       "      <td>217</td>\n",
       "      <td>205</td>\n",
       "      <td>607</td>\n",
       "      <td>43759</td>\n",
       "      <td>568</td>\n",
       "      <td>1910</td>\n",
       "    </tr>\n",
       "    <tr>\n",
       "      <th>ne0050</th>\n",
       "      <td>ne0050</td>\n",
       "      <td>Miro</td>\n",
       "      <td>Zapatos</td>\n",
       "      <td>1912</td>\n",
       "      <td>narrative</td>\n",
       "      <td>novela</td>\n",
       "      <td>realist</td>\n",
       "      <td>Spain</td>\n",
       "      <td>29542991.0</td>\n",
       "      <td>XX1720928</td>\n",
       "      <td>...</td>\n",
       "      <td>19</td>\n",
       "      <td>2</td>\n",
       "      <td>102</td>\n",
       "      <td>53</td>\n",
       "      <td>47</td>\n",
       "      <td>52</td>\n",
       "      <td>118</td>\n",
       "      <td>8966</td>\n",
       "      <td>123</td>\n",
       "      <td>1910</td>\n",
       "    </tr>\n",
       "    <tr>\n",
       "      <th>ne0056</th>\n",
       "      <td>ne0056</td>\n",
       "      <td>Miro</td>\n",
       "      <td>LibroSiguenza</td>\n",
       "      <td>1917</td>\n",
       "      <td>narrative</td>\n",
       "      <td>novela</td>\n",
       "      <td>autobiographical</td>\n",
       "      <td>Spain</td>\n",
       "      <td>29542991.0</td>\n",
       "      <td>XX1720928</td>\n",
       "      <td>...</td>\n",
       "      <td>112</td>\n",
       "      <td>11</td>\n",
       "      <td>543</td>\n",
       "      <td>179</td>\n",
       "      <td>280</td>\n",
       "      <td>165</td>\n",
       "      <td>494</td>\n",
       "      <td>34990</td>\n",
       "      <td>574</td>\n",
       "      <td>1910</td>\n",
       "    </tr>\n",
       "    <tr>\n",
       "      <th>ne0059</th>\n",
       "      <td>ne0059</td>\n",
       "      <td>Miro</td>\n",
       "      <td>SanDaniel</td>\n",
       "      <td>1921</td>\n",
       "      <td>narrative</td>\n",
       "      <td>novela</td>\n",
       "      <td>realist</td>\n",
       "      <td>Spain</td>\n",
       "      <td>29542991.0</td>\n",
       "      <td>XX1720928</td>\n",
       "      <td>...</td>\n",
       "      <td>93</td>\n",
       "      <td>10</td>\n",
       "      <td>614</td>\n",
       "      <td>326</td>\n",
       "      <td>263</td>\n",
       "      <td>268</td>\n",
       "      <td>744</td>\n",
       "      <td>52687</td>\n",
       "      <td>613</td>\n",
       "      <td>1920</td>\n",
       "    </tr>\n",
       "    <tr>\n",
       "      <th>ne0061</th>\n",
       "      <td>ne0061</td>\n",
       "      <td>Miro</td>\n",
       "      <td>ObispoLeproso</td>\n",
       "      <td>1926</td>\n",
       "      <td>narrative</td>\n",
       "      <td>novela</td>\n",
       "      <td>bildungsroman</td>\n",
       "      <td>Spain</td>\n",
       "      <td>29542991.0</td>\n",
       "      <td>XX1720928</td>\n",
       "      <td>...</td>\n",
       "      <td>99</td>\n",
       "      <td>5</td>\n",
       "      <td>786</td>\n",
       "      <td>316</td>\n",
       "      <td>270</td>\n",
       "      <td>292</td>\n",
       "      <td>780</td>\n",
       "      <td>62881</td>\n",
       "      <td>708</td>\n",
       "      <td>1920</td>\n",
       "    </tr>\n",
       "    <tr>\n",
       "      <th>ne0063</th>\n",
       "      <td>ne0063</td>\n",
       "      <td>Baroja</td>\n",
       "      <td>Busca</td>\n",
       "      <td>1904</td>\n",
       "      <td>narrative</td>\n",
       "      <td>novela</td>\n",
       "      <td>bildungsroman</td>\n",
       "      <td>Spain</td>\n",
       "      <td>36912891.0</td>\n",
       "      <td>XX842743</td>\n",
       "      <td>...</td>\n",
       "      <td>110</td>\n",
       "      <td>22</td>\n",
       "      <td>581</td>\n",
       "      <td>220</td>\n",
       "      <td>352</td>\n",
       "      <td>218</td>\n",
       "      <td>641</td>\n",
       "      <td>51592</td>\n",
       "      <td>772</td>\n",
       "      <td>1900</td>\n",
       "    </tr>\n",
       "    <tr>\n",
       "      <th>...</th>\n",
       "      <td>...</td>\n",
       "      <td>...</td>\n",
       "      <td>...</td>\n",
       "      <td>...</td>\n",
       "      <td>...</td>\n",
       "      <td>...</td>\n",
       "      <td>...</td>\n",
       "      <td>...</td>\n",
       "      <td>...</td>\n",
       "      <td>...</td>\n",
       "      <td>...</td>\n",
       "      <td>...</td>\n",
       "      <td>...</td>\n",
       "      <td>...</td>\n",
       "      <td>...</td>\n",
       "      <td>...</td>\n",
       "      <td>...</td>\n",
       "      <td>...</td>\n",
       "      <td>...</td>\n",
       "      <td>...</td>\n",
       "      <td>...</td>\n",
       "    </tr>\n",
       "    <tr>\n",
       "      <th>ne0301</th>\n",
       "      <td>ne0301</td>\n",
       "      <td>Serna</td>\n",
       "      <td>Torero</td>\n",
       "      <td>1926</td>\n",
       "      <td>narrative</td>\n",
       "      <td>novela</td>\n",
       "      <td>bildungsroman</td>\n",
       "      <td>Spain</td>\n",
       "      <td>68929740.0</td>\n",
       "      <td>XX927011</td>\n",
       "      <td>...</td>\n",
       "      <td>69</td>\n",
       "      <td>15</td>\n",
       "      <td>370</td>\n",
       "      <td>216</td>\n",
       "      <td>375</td>\n",
       "      <td>416</td>\n",
       "      <td>563</td>\n",
       "      <td>35723</td>\n",
       "      <td>537</td>\n",
       "      <td>1920</td>\n",
       "    </tr>\n",
       "    <tr>\n",
       "      <th>ne0302</th>\n",
       "      <td>ne0302</td>\n",
       "      <td>Baroja</td>\n",
       "      <td>DamaErrante</td>\n",
       "      <td>1908</td>\n",
       "      <td>narrative</td>\n",
       "      <td>novela</td>\n",
       "      <td>historical</td>\n",
       "      <td>Spain</td>\n",
       "      <td>36912891.0</td>\n",
       "      <td>XX842743</td>\n",
       "      <td>...</td>\n",
       "      <td>99</td>\n",
       "      <td>4</td>\n",
       "      <td>457</td>\n",
       "      <td>170</td>\n",
       "      <td>238</td>\n",
       "      <td>181</td>\n",
       "      <td>330</td>\n",
       "      <td>36806</td>\n",
       "      <td>464</td>\n",
       "      <td>1900</td>\n",
       "    </tr>\n",
       "    <tr>\n",
       "      <th>ne0303</th>\n",
       "      <td>ne0303</td>\n",
       "      <td>Baroja</td>\n",
       "      <td>CiudadNiebla</td>\n",
       "      <td>1909</td>\n",
       "      <td>narrative</td>\n",
       "      <td>novela</td>\n",
       "      <td>realist</td>\n",
       "      <td>Spain</td>\n",
       "      <td>36912891.0</td>\n",
       "      <td>XX842743</td>\n",
       "      <td>...</td>\n",
       "      <td>115</td>\n",
       "      <td>16</td>\n",
       "      <td>612</td>\n",
       "      <td>221</td>\n",
       "      <td>381</td>\n",
       "      <td>205</td>\n",
       "      <td>429</td>\n",
       "      <td>46502</td>\n",
       "      <td>669</td>\n",
       "      <td>1900</td>\n",
       "    </tr>\n",
       "    <tr>\n",
       "      <th>ne0304</th>\n",
       "      <td>ne0304</td>\n",
       "      <td>Baroja</td>\n",
       "      <td>Shanti</td>\n",
       "      <td>1911</td>\n",
       "      <td>narrative</td>\n",
       "      <td>novela</td>\n",
       "      <td>adventure</td>\n",
       "      <td>Spain</td>\n",
       "      <td>36912891.0</td>\n",
       "      <td>XX842743</td>\n",
       "      <td>...</td>\n",
       "      <td>138</td>\n",
       "      <td>46</td>\n",
       "      <td>775</td>\n",
       "      <td>320</td>\n",
       "      <td>503</td>\n",
       "      <td>421</td>\n",
       "      <td>761</td>\n",
       "      <td>66784</td>\n",
       "      <td>1089</td>\n",
       "      <td>1910</td>\n",
       "    </tr>\n",
       "    <tr>\n",
       "      <th>ne0305</th>\n",
       "      <td>ne0305</td>\n",
       "      <td>Baroja</td>\n",
       "      <td>Laberinto</td>\n",
       "      <td>1923</td>\n",
       "      <td>narrative</td>\n",
       "      <td>novela</td>\n",
       "      <td>adventure</td>\n",
       "      <td>Spain</td>\n",
       "      <td>36912891.0</td>\n",
       "      <td>XX842743</td>\n",
       "      <td>...</td>\n",
       "      <td>117</td>\n",
       "      <td>47</td>\n",
       "      <td>710</td>\n",
       "      <td>259</td>\n",
       "      <td>632</td>\n",
       "      <td>300</td>\n",
       "      <td>515</td>\n",
       "      <td>54968</td>\n",
       "      <td>822</td>\n",
       "      <td>1920</td>\n",
       "    </tr>\n",
       "    <tr>\n",
       "      <th>ne0310</th>\n",
       "      <td>ne0310</td>\n",
       "      <td>Valdes</td>\n",
       "      <td>Hermana</td>\n",
       "      <td>1899</td>\n",
       "      <td>narrative</td>\n",
       "      <td>novela</td>\n",
       "      <td>realist</td>\n",
       "      <td>Spain</td>\n",
       "      <td>61554068.0</td>\n",
       "      <td>XX1035048</td>\n",
       "      <td>...</td>\n",
       "      <td>287</td>\n",
       "      <td>34</td>\n",
       "      <td>1177</td>\n",
       "      <td>810</td>\n",
       "      <td>657</td>\n",
       "      <td>613</td>\n",
       "      <td>1000</td>\n",
       "      <td>94530</td>\n",
       "      <td>1180</td>\n",
       "      <td>1890</td>\n",
       "    </tr>\n",
       "    <tr>\n",
       "      <th>ne0312</th>\n",
       "      <td>ne0312</td>\n",
       "      <td>Valdes</td>\n",
       "      <td>Espuma</td>\n",
       "      <td>1890</td>\n",
       "      <td>narrative</td>\n",
       "      <td>novela</td>\n",
       "      <td>sentimental</td>\n",
       "      <td>Spain</td>\n",
       "      <td>61554068.0</td>\n",
       "      <td>XX1035048</td>\n",
       "      <td>...</td>\n",
       "      <td>371</td>\n",
       "      <td>25</td>\n",
       "      <td>1444</td>\n",
       "      <td>829</td>\n",
       "      <td>532</td>\n",
       "      <td>635</td>\n",
       "      <td>1008</td>\n",
       "      <td>97816</td>\n",
       "      <td>1265</td>\n",
       "      <td>1890</td>\n",
       "    </tr>\n",
       "    <tr>\n",
       "      <th>ne0321</th>\n",
       "      <td>ne0321</td>\n",
       "      <td>Galdos</td>\n",
       "      <td>Fortunata1</td>\n",
       "      <td>1886</td>\n",
       "      <td>narrative</td>\n",
       "      <td>novela</td>\n",
       "      <td>realist</td>\n",
       "      <td>Spain</td>\n",
       "      <td>71395987.0</td>\n",
       "      <td>XX1014802</td>\n",
       "      <td>...</td>\n",
       "      <td>272</td>\n",
       "      <td>33</td>\n",
       "      <td>1065</td>\n",
       "      <td>656</td>\n",
       "      <td>506</td>\n",
       "      <td>430</td>\n",
       "      <td>948</td>\n",
       "      <td>85816</td>\n",
       "      <td>987</td>\n",
       "      <td>1880</td>\n",
       "    </tr>\n",
       "    <tr>\n",
       "      <th>ne0322</th>\n",
       "      <td>ne0322</td>\n",
       "      <td>Galdos</td>\n",
       "      <td>Fortunata2</td>\n",
       "      <td>1886</td>\n",
       "      <td>narrative</td>\n",
       "      <td>novela</td>\n",
       "      <td>realist</td>\n",
       "      <td>Spain</td>\n",
       "      <td>71395987.0</td>\n",
       "      <td>XX1014802</td>\n",
       "      <td>...</td>\n",
       "      <td>367</td>\n",
       "      <td>26</td>\n",
       "      <td>1077</td>\n",
       "      <td>629</td>\n",
       "      <td>380</td>\n",
       "      <td>457</td>\n",
       "      <td>941</td>\n",
       "      <td>80455</td>\n",
       "      <td>1032</td>\n",
       "      <td>1880</td>\n",
       "    </tr>\n",
       "    <tr>\n",
       "      <th>ne0323</th>\n",
       "      <td>ne0323</td>\n",
       "      <td>Galdos</td>\n",
       "      <td>Fortunata3</td>\n",
       "      <td>1886</td>\n",
       "      <td>narrative</td>\n",
       "      <td>novela</td>\n",
       "      <td>realist</td>\n",
       "      <td>Spain</td>\n",
       "      <td>71395987.0</td>\n",
       "      <td>XX1014802</td>\n",
       "      <td>...</td>\n",
       "      <td>302</td>\n",
       "      <td>16</td>\n",
       "      <td>1010</td>\n",
       "      <td>586</td>\n",
       "      <td>351</td>\n",
       "      <td>394</td>\n",
       "      <td>726</td>\n",
       "      <td>73797</td>\n",
       "      <td>967</td>\n",
       "      <td>1880</td>\n",
       "    </tr>\n",
       "    <tr>\n",
       "      <th>ne0324</th>\n",
       "      <td>ne0324</td>\n",
       "      <td>Galdos</td>\n",
       "      <td>Fortunata4</td>\n",
       "      <td>1887</td>\n",
       "      <td>narrative</td>\n",
       "      <td>novela</td>\n",
       "      <td>realist</td>\n",
       "      <td>Spain</td>\n",
       "      <td>71395987.0</td>\n",
       "      <td>XX1014802</td>\n",
       "      <td>...</td>\n",
       "      <td>329</td>\n",
       "      <td>23</td>\n",
       "      <td>887</td>\n",
       "      <td>673</td>\n",
       "      <td>314</td>\n",
       "      <td>442</td>\n",
       "      <td>869</td>\n",
       "      <td>83712</td>\n",
       "      <td>1068</td>\n",
       "      <td>1880</td>\n",
       "    </tr>\n",
       "    <tr>\n",
       "      <th>ne0325</th>\n",
       "      <td>ne0325</td>\n",
       "      <td>Clarin</td>\n",
       "      <td>Regenta1</td>\n",
       "      <td>1885</td>\n",
       "      <td>narrative</td>\n",
       "      <td>novela</td>\n",
       "      <td>realist</td>\n",
       "      <td>Spain</td>\n",
       "      <td>17218138.0</td>\n",
       "      <td>XX922976</td>\n",
       "      <td>...</td>\n",
       "      <td>302</td>\n",
       "      <td>57</td>\n",
       "      <td>1710</td>\n",
       "      <td>978</td>\n",
       "      <td>676</td>\n",
       "      <td>667</td>\n",
       "      <td>999</td>\n",
       "      <td>113221</td>\n",
       "      <td>1136</td>\n",
       "      <td>1880</td>\n",
       "    </tr>\n",
       "    <tr>\n",
       "      <th>ne0326</th>\n",
       "      <td>ne0326</td>\n",
       "      <td>Clarin</td>\n",
       "      <td>Regenta2</td>\n",
       "      <td>1885</td>\n",
       "      <td>narrative</td>\n",
       "      <td>novela</td>\n",
       "      <td>realist</td>\n",
       "      <td>Spain</td>\n",
       "      <td>17218138.0</td>\n",
       "      <td>XX922976</td>\n",
       "      <td>...</td>\n",
       "      <td>420</td>\n",
       "      <td>41</td>\n",
       "      <td>1770</td>\n",
       "      <td>1146</td>\n",
       "      <td>681</td>\n",
       "      <td>981</td>\n",
       "      <td>1248</td>\n",
       "      <td>131790</td>\n",
       "      <td>1518</td>\n",
       "      <td>1880</td>\n",
       "    </tr>\n",
       "    <tr>\n",
       "      <th>ne0330</th>\n",
       "      <td>ne0330</td>\n",
       "      <td>Carranque</td>\n",
       "      <td>Cinematografo</td>\n",
       "      <td>1936</td>\n",
       "      <td>narrative</td>\n",
       "      <td>novela</td>\n",
       "      <td>realist</td>\n",
       "      <td>Spain</td>\n",
       "      <td>49351066.0</td>\n",
       "      <td>XX870038</td>\n",
       "      <td>...</td>\n",
       "      <td>145</td>\n",
       "      <td>22</td>\n",
       "      <td>710</td>\n",
       "      <td>292</td>\n",
       "      <td>490</td>\n",
       "      <td>378</td>\n",
       "      <td>759</td>\n",
       "      <td>60879</td>\n",
       "      <td>1018</td>\n",
       "      <td>1930</td>\n",
       "    </tr>\n",
       "    <tr>\n",
       "      <th>ne0332</th>\n",
       "      <td>ne0332</td>\n",
       "      <td>Chacel</td>\n",
       "      <td>Estacion</td>\n",
       "      <td>1930</td>\n",
       "      <td>narrative</td>\n",
       "      <td>novela</td>\n",
       "      <td>philosophical</td>\n",
       "      <td>Spain</td>\n",
       "      <td>111966111.0</td>\n",
       "      <td>XX847362</td>\n",
       "      <td>...</td>\n",
       "      <td>96</td>\n",
       "      <td>9</td>\n",
       "      <td>397</td>\n",
       "      <td>104</td>\n",
       "      <td>118</td>\n",
       "      <td>169</td>\n",
       "      <td>182</td>\n",
       "      <td>22769</td>\n",
       "      <td>329</td>\n",
       "      <td>1930</td>\n",
       "    </tr>\n",
       "    <tr>\n",
       "      <th>ne0333</th>\n",
       "      <td>ne0333</td>\n",
       "      <td>FAyala</td>\n",
       "      <td>Cazador</td>\n",
       "      <td>1930</td>\n",
       "      <td>narrative</td>\n",
       "      <td>novela</td>\n",
       "      <td>autobiographical</td>\n",
       "      <td>Spain</td>\n",
       "      <td>110572828.0</td>\n",
       "      <td>XX821880</td>\n",
       "      <td>...</td>\n",
       "      <td>35</td>\n",
       "      <td>6</td>\n",
       "      <td>116</td>\n",
       "      <td>19</td>\n",
       "      <td>75</td>\n",
       "      <td>43</td>\n",
       "      <td>148</td>\n",
       "      <td>6378</td>\n",
       "      <td>100</td>\n",
       "      <td>1930</td>\n",
       "    </tr>\n",
       "    <tr>\n",
       "      <th>ne0356</th>\n",
       "      <td>ne0356</td>\n",
       "      <td>Serna</td>\n",
       "      <td>Quinta</td>\n",
       "      <td>1923</td>\n",
       "      <td>narrative</td>\n",
       "      <td>novela</td>\n",
       "      <td>sentimental</td>\n",
       "      <td>Spain</td>\n",
       "      <td>68929740.0</td>\n",
       "      <td>XX927011</td>\n",
       "      <td>...</td>\n",
       "      <td>86</td>\n",
       "      <td>15</td>\n",
       "      <td>445</td>\n",
       "      <td>253</td>\n",
       "      <td>219</td>\n",
       "      <td>209</td>\n",
       "      <td>489</td>\n",
       "      <td>33625</td>\n",
       "      <td>490</td>\n",
       "      <td>1920</td>\n",
       "    </tr>\n",
       "    <tr>\n",
       "      <th>ne0379</th>\n",
       "      <td>ne0379</td>\n",
       "      <td>Azorin</td>\n",
       "      <td>DonJuan</td>\n",
       "      <td>1922</td>\n",
       "      <td>narrative</td>\n",
       "      <td>novela</td>\n",
       "      <td>sentimental</td>\n",
       "      <td>Spain</td>\n",
       "      <td>2479761.0</td>\n",
       "      <td>XX825215</td>\n",
       "      <td>...</td>\n",
       "      <td>40</td>\n",
       "      <td>4</td>\n",
       "      <td>181</td>\n",
       "      <td>44</td>\n",
       "      <td>160</td>\n",
       "      <td>54</td>\n",
       "      <td>145</td>\n",
       "      <td>12311</td>\n",
       "      <td>158</td>\n",
       "      <td>1920</td>\n",
       "    </tr>\n",
       "    <tr>\n",
       "      <th>ne0380</th>\n",
       "      <td>ne0380</td>\n",
       "      <td>Espinosa</td>\n",
       "      <td>Crimen</td>\n",
       "      <td>1934</td>\n",
       "      <td>narrative</td>\n",
       "      <td>novela</td>\n",
       "      <td>vanguardist</td>\n",
       "      <td>Spain</td>\n",
       "      <td>61601797.0</td>\n",
       "      <td>XX830087</td>\n",
       "      <td>...</td>\n",
       "      <td>22</td>\n",
       "      <td>4</td>\n",
       "      <td>56</td>\n",
       "      <td>17</td>\n",
       "      <td>56</td>\n",
       "      <td>45</td>\n",
       "      <td>61</td>\n",
       "      <td>5617</td>\n",
       "      <td>80</td>\n",
       "      <td>1930</td>\n",
       "    </tr>\n",
       "    <tr>\n",
       "      <th>ne0381</th>\n",
       "      <td>ne0381</td>\n",
       "      <td>Jarnes</td>\n",
       "      <td>LocuraNadie</td>\n",
       "      <td>1929</td>\n",
       "      <td>narrative</td>\n",
       "      <td>novela</td>\n",
       "      <td>philosophical</td>\n",
       "      <td>Spain</td>\n",
       "      <td>17339452.0</td>\n",
       "      <td>XX1126572</td>\n",
       "      <td>...</td>\n",
       "      <td>127</td>\n",
       "      <td>24</td>\n",
       "      <td>701</td>\n",
       "      <td>273</td>\n",
       "      <td>196</td>\n",
       "      <td>303</td>\n",
       "      <td>438</td>\n",
       "      <td>39686</td>\n",
       "      <td>619</td>\n",
       "      <td>1920</td>\n",
       "    </tr>\n",
       "    <tr>\n",
       "      <th>ne0382</th>\n",
       "      <td>ne0382</td>\n",
       "      <td>JDFernandez</td>\n",
       "      <td>VenusMecanica</td>\n",
       "      <td>1929</td>\n",
       "      <td>narrative</td>\n",
       "      <td>novela</td>\n",
       "      <td>social</td>\n",
       "      <td>Spain</td>\n",
       "      <td>107010546.0</td>\n",
       "      <td>XX830113</td>\n",
       "      <td>...</td>\n",
       "      <td>132</td>\n",
       "      <td>13</td>\n",
       "      <td>424</td>\n",
       "      <td>311</td>\n",
       "      <td>201</td>\n",
       "      <td>239</td>\n",
       "      <td>396</td>\n",
       "      <td>37273</td>\n",
       "      <td>384</td>\n",
       "      <td>1920</td>\n",
       "    </tr>\n",
       "    <tr>\n",
       "      <th>ne0387</th>\n",
       "      <td>ne0387</td>\n",
       "      <td>Coloma</td>\n",
       "      <td>Jeromin</td>\n",
       "      <td>1905</td>\n",
       "      <td>narrative</td>\n",
       "      <td>novela</td>\n",
       "      <td>historical</td>\n",
       "      <td>Spain</td>\n",
       "      <td>59211037.0</td>\n",
       "      <td>XX843538</td>\n",
       "      <td>...</td>\n",
       "      <td>335</td>\n",
       "      <td>48</td>\n",
       "      <td>1469</td>\n",
       "      <td>517</td>\n",
       "      <td>1088</td>\n",
       "      <td>701</td>\n",
       "      <td>982</td>\n",
       "      <td>108544</td>\n",
       "      <td>1052</td>\n",
       "      <td>1900</td>\n",
       "    </tr>\n",
       "    <tr>\n",
       "      <th>ne0388</th>\n",
       "      <td>ne0388</td>\n",
       "      <td>Arconada</td>\n",
       "      <td>Turbina</td>\n",
       "      <td>1930</td>\n",
       "      <td>narrative</td>\n",
       "      <td>novela</td>\n",
       "      <td>social</td>\n",
       "      <td>Spain</td>\n",
       "      <td>15759545.0</td>\n",
       "      <td>XX990063</td>\n",
       "      <td>...</td>\n",
       "      <td>147</td>\n",
       "      <td>15</td>\n",
       "      <td>376</td>\n",
       "      <td>285</td>\n",
       "      <td>262</td>\n",
       "      <td>237</td>\n",
       "      <td>519</td>\n",
       "      <td>36989</td>\n",
       "      <td>517</td>\n",
       "      <td>1930</td>\n",
       "    </tr>\n",
       "    <tr>\n",
       "      <th>ne0390</th>\n",
       "      <td>ne0390</td>\n",
       "      <td>Noel</td>\n",
       "      <td>SieteCucas</td>\n",
       "      <td>1927</td>\n",
       "      <td>narrative</td>\n",
       "      <td>novela</td>\n",
       "      <td>social</td>\n",
       "      <td>Spain</td>\n",
       "      <td>217167633.0</td>\n",
       "      <td>XX1028188</td>\n",
       "      <td>...</td>\n",
       "      <td>289</td>\n",
       "      <td>14</td>\n",
       "      <td>825</td>\n",
       "      <td>360</td>\n",
       "      <td>382</td>\n",
       "      <td>433</td>\n",
       "      <td>554</td>\n",
       "      <td>74629</td>\n",
       "      <td>726</td>\n",
       "      <td>1920</td>\n",
       "    </tr>\n",
       "    <tr>\n",
       "      <th>ne0391</th>\n",
       "      <td>ne0391</td>\n",
       "      <td>RPAyala</td>\n",
       "      <td>TrabajosUrbano</td>\n",
       "      <td>1923</td>\n",
       "      <td>narrative</td>\n",
       "      <td>novela</td>\n",
       "      <td>sentimental</td>\n",
       "      <td>Spain</td>\n",
       "      <td>12320329.0</td>\n",
       "      <td>XX982844</td>\n",
       "      <td>...</td>\n",
       "      <td>225</td>\n",
       "      <td>21</td>\n",
       "      <td>567</td>\n",
       "      <td>299</td>\n",
       "      <td>220</td>\n",
       "      <td>253</td>\n",
       "      <td>458</td>\n",
       "      <td>43845</td>\n",
       "      <td>471</td>\n",
       "      <td>1920</td>\n",
       "    </tr>\n",
       "    <tr>\n",
       "      <th>ne0392</th>\n",
       "      <td>ne0392</td>\n",
       "      <td>RPAyala</td>\n",
       "      <td>LunaHiel</td>\n",
       "      <td>1923</td>\n",
       "      <td>narrative</td>\n",
       "      <td>novela</td>\n",
       "      <td>sentimental</td>\n",
       "      <td>Spain</td>\n",
       "      <td>12320329.0</td>\n",
       "      <td>XX982844</td>\n",
       "      <td>...</td>\n",
       "      <td>168</td>\n",
       "      <td>14</td>\n",
       "      <td>588</td>\n",
       "      <td>446</td>\n",
       "      <td>192</td>\n",
       "      <td>245</td>\n",
       "      <td>510</td>\n",
       "      <td>47261</td>\n",
       "      <td>481</td>\n",
       "      <td>1920</td>\n",
       "    </tr>\n",
       "    <tr>\n",
       "      <th>ne0393</th>\n",
       "      <td>ne0393</td>\n",
       "      <td>RPAyala</td>\n",
       "      <td>Troteras</td>\n",
       "      <td>1913</td>\n",
       "      <td>narrative</td>\n",
       "      <td>novela</td>\n",
       "      <td>bildungsroman</td>\n",
       "      <td>Spain</td>\n",
       "      <td>12320329.0</td>\n",
       "      <td>XX982844</td>\n",
       "      <td>...</td>\n",
       "      <td>298</td>\n",
       "      <td>39</td>\n",
       "      <td>1135</td>\n",
       "      <td>582</td>\n",
       "      <td>385</td>\n",
       "      <td>452</td>\n",
       "      <td>774</td>\n",
       "      <td>90331</td>\n",
       "      <td>894</td>\n",
       "      <td>1910</td>\n",
       "    </tr>\n",
       "    <tr>\n",
       "      <th>ne0394</th>\n",
       "      <td>ne0394</td>\n",
       "      <td>RPAyala</td>\n",
       "      <td>PataRaposa</td>\n",
       "      <td>1912</td>\n",
       "      <td>narrative</td>\n",
       "      <td>novela</td>\n",
       "      <td>bildungsroman</td>\n",
       "      <td>Spain</td>\n",
       "      <td>12320329.0</td>\n",
       "      <td>XX982844</td>\n",
       "      <td>...</td>\n",
       "      <td>186</td>\n",
       "      <td>28</td>\n",
       "      <td>820</td>\n",
       "      <td>460</td>\n",
       "      <td>298</td>\n",
       "      <td>286</td>\n",
       "      <td>615</td>\n",
       "      <td>57625</td>\n",
       "      <td>672</td>\n",
       "      <td>1910</td>\n",
       "    </tr>\n",
       "    <tr>\n",
       "      <th>ne0401</th>\n",
       "      <td>ne0401</td>\n",
       "      <td>Verdaguer</td>\n",
       "      <td>IntelectualCarcoma</td>\n",
       "      <td>1934</td>\n",
       "      <td>narrative</td>\n",
       "      <td>novela</td>\n",
       "      <td>philosophical</td>\n",
       "      <td>Spain</td>\n",
       "      <td>32795004.0</td>\n",
       "      <td>XX1082221</td>\n",
       "      <td>...</td>\n",
       "      <td>216</td>\n",
       "      <td>2</td>\n",
       "      <td>804</td>\n",
       "      <td>332</td>\n",
       "      <td>259</td>\n",
       "      <td>161</td>\n",
       "      <td>707</td>\n",
       "      <td>40088</td>\n",
       "      <td>687</td>\n",
       "      <td>1930</td>\n",
       "    </tr>\n",
       "    <tr>\n",
       "      <th>ne0404</th>\n",
       "      <td>ne0404</td>\n",
       "      <td>Villalonga</td>\n",
       "      <td>Giacomini</td>\n",
       "      <td>1934</td>\n",
       "      <td>narrative</td>\n",
       "      <td>novela</td>\n",
       "      <td>social</td>\n",
       "      <td>Spain</td>\n",
       "      <td>39392820.0</td>\n",
       "      <td>XX1080698</td>\n",
       "      <td>...</td>\n",
       "      <td>74</td>\n",
       "      <td>15</td>\n",
       "      <td>388</td>\n",
       "      <td>189</td>\n",
       "      <td>211</td>\n",
       "      <td>184</td>\n",
       "      <td>222</td>\n",
       "      <td>30286</td>\n",
       "      <td>333</td>\n",
       "      <td>1930</td>\n",
       "    </tr>\n",
       "  </tbody>\n",
       "</table>\n",
       "<p>138 rows × 177 columns</p>\n",
       "</div>"
      ],
      "text/plain": [
       "          idno   author.name               title  year supergenre   genre  \\\n",
       "ne0002  ne0002        Galdos        Misericordia  1889  narrative  novela   \n",
       "ne0003  ne0003        Galdos             Nazarin  1895  narrative  novela   \n",
       "ne0004  ne0004        Galdos               Halma  1895  narrative  novela   \n",
       "ne0006  ne0006        Galdos               Angel  1891  narrative  novela   \n",
       "ne0009  ne0009        Galdos         Desheredada  1881  narrative  novela   \n",
       "ne0011  ne0011        Galdos               Manso  1882  narrative  novela   \n",
       "ne0013  ne0013         Valle         SonataOtono  1902  narrative  novela   \n",
       "ne0014  ne0014         Valle         SonataEstio  1903  narrative  novela   \n",
       "ne0015  ne0015         Valle     SonataPrimavera  1904  narrative  novela   \n",
       "ne0016  ne0016         Valle      SonataInvierno  1905  narrative  novela   \n",
       "ne0017  ne0017         Valle      FlordeSantidad  1904  narrative  novela   \n",
       "ne0019  ne0019  BlascoIbanez              Bodega  1905  narrative  novela   \n",
       "ne0020  ne0020         Valle       CruzadosCausa  1908  narrative  novela   \n",
       "ne0021  ne0021         Valle   ResplandorHoguera  1909  narrative  novela   \n",
       "ne0024  ne0024        Galdos             Centeno  1883  narrative  novela   \n",
       "ne0025  ne0025       Poncela     PeroMilVirgenes  1929  narrative  novela   \n",
       "ne0027  ne0027        Galdos             Bringas  1884  narrative  novela   \n",
       "ne0028  ne0028        Galdos            Tormento  1884  narrative  novela   \n",
       "ne0029  ne0029        Galdos           Prohibido  1884  narrative  novela   \n",
       "ne0030  ne0030         Valle      TiranoBanderas  1926  narrative  novela   \n",
       "ne0031  ne0031        Galdos                Miau  1888  narrative  novela   \n",
       "ne0032  ne0032        Galdos           Incognita  1889  narrative  novela   \n",
       "ne0033  ne0033         Valle               Corte  1927  narrative  novela   \n",
       "ne0035  ne0035         Valle                Viva  1928  narrative  novela   \n",
       "ne0048  ne0048          Miro             Cerezas  1910  narrative  novela   \n",
       "ne0050  ne0050          Miro             Zapatos  1912  narrative  novela   \n",
       "ne0056  ne0056          Miro       LibroSiguenza  1917  narrative  novela   \n",
       "ne0059  ne0059          Miro           SanDaniel  1921  narrative  novela   \n",
       "ne0061  ne0061          Miro       ObispoLeproso  1926  narrative  novela   \n",
       "ne0063  ne0063        Baroja               Busca  1904  narrative  novela   \n",
       "...        ...           ...                 ...   ...        ...     ...   \n",
       "ne0301  ne0301         Serna              Torero  1926  narrative  novela   \n",
       "ne0302  ne0302        Baroja         DamaErrante  1908  narrative  novela   \n",
       "ne0303  ne0303        Baroja        CiudadNiebla  1909  narrative  novela   \n",
       "ne0304  ne0304        Baroja              Shanti  1911  narrative  novela   \n",
       "ne0305  ne0305        Baroja           Laberinto  1923  narrative  novela   \n",
       "ne0310  ne0310        Valdes             Hermana  1899  narrative  novela   \n",
       "ne0312  ne0312        Valdes              Espuma  1890  narrative  novela   \n",
       "ne0321  ne0321        Galdos          Fortunata1  1886  narrative  novela   \n",
       "ne0322  ne0322        Galdos          Fortunata2  1886  narrative  novela   \n",
       "ne0323  ne0323        Galdos          Fortunata3  1886  narrative  novela   \n",
       "ne0324  ne0324        Galdos          Fortunata4  1887  narrative  novela   \n",
       "ne0325  ne0325        Clarin            Regenta1  1885  narrative  novela   \n",
       "ne0326  ne0326        Clarin            Regenta2  1885  narrative  novela   \n",
       "ne0330  ne0330     Carranque       Cinematografo  1936  narrative  novela   \n",
       "ne0332  ne0332        Chacel            Estacion  1930  narrative  novela   \n",
       "ne0333  ne0333        FAyala             Cazador  1930  narrative  novela   \n",
       "ne0356  ne0356         Serna              Quinta  1923  narrative  novela   \n",
       "ne0379  ne0379        Azorin             DonJuan  1922  narrative  novela   \n",
       "ne0380  ne0380      Espinosa              Crimen  1934  narrative  novela   \n",
       "ne0381  ne0381        Jarnes         LocuraNadie  1929  narrative  novela   \n",
       "ne0382  ne0382   JDFernandez       VenusMecanica  1929  narrative  novela   \n",
       "ne0387  ne0387        Coloma             Jeromin  1905  narrative  novela   \n",
       "ne0388  ne0388      Arconada             Turbina  1930  narrative  novela   \n",
       "ne0390  ne0390          Noel          SieteCucas  1927  narrative  novela   \n",
       "ne0391  ne0391       RPAyala      TrabajosUrbano  1923  narrative  novela   \n",
       "ne0392  ne0392       RPAyala            LunaHiel  1923  narrative  novela   \n",
       "ne0393  ne0393       RPAyala            Troteras  1913  narrative  novela   \n",
       "ne0394  ne0394       RPAyala          PataRaposa  1912  narrative  novela   \n",
       "ne0401  ne0401     Verdaguer  IntelectualCarcoma  1934  narrative  novela   \n",
       "ne0404  ne0404    Villalonga           Giacomini  1934  narrative  novela   \n",
       "\n",
       "       subgenre.cligs.important author.country  author.viaf author.bne  ...    \\\n",
       "ne0002                  realist          Spain   71395987.0  XX1014802  ...     \n",
       "ne0003                  realist          Spain   71395987.0  XX1014802  ...     \n",
       "ne0004                  realist          Spain   71395987.0  XX1014802  ...     \n",
       "ne0006            bildungsroman          Spain   71395987.0  XX1014802  ...     \n",
       "ne0009            bildungsroman          Spain   71395987.0  XX1014802  ...     \n",
       "ne0011            philosophical          Spain   71395987.0  XX1014802  ...     \n",
       "ne0013                   memoir          Spain   68936773.0  XX1055436  ...     \n",
       "ne0014                   memoir          Spain   68936773.0  XX1055436  ...     \n",
       "ne0015                   memoir          Spain   68936773.0  XX1055436  ...     \n",
       "ne0016                   memoir          Spain   68936773.0  XX1055436  ...     \n",
       "ne0017                   social          Spain   68936773.0  XX1055436  ...     \n",
       "ne0019                  realist          Spain   73848096.0  XX1028057  ...     \n",
       "ne0020               historical          Spain   68936773.0  XX1055436  ...     \n",
       "ne0021               historical          Spain   68936773.0  XX1055436  ...     \n",
       "ne0024            bildungsroman          Spain   71395987.0  XX1014802  ...     \n",
       "ne0025                   comedy          Spain   76354919.0  XX1719708  ...     \n",
       "ne0027                  realist          Spain   71395987.0  XX1014802  ...     \n",
       "ne0028                  realist          Spain   71395987.0  XX1014802  ...     \n",
       "ne0029              sentimental          Spain   71395987.0  XX1014802  ...     \n",
       "ne0030               historical          Spain   68936773.0  XX1055436  ...     \n",
       "ne0031                  realist          Spain   71395987.0  XX1014802  ...     \n",
       "ne0032                  realist          Spain   71395987.0  XX1014802  ...     \n",
       "ne0033               historical          Spain   68936773.0  XX1055436  ...     \n",
       "ne0035               historical          Spain   68936773.0  XX1055436  ...     \n",
       "ne0048              sentimental          Spain   29542991.0  XX1720928  ...     \n",
       "ne0050                  realist          Spain   29542991.0  XX1720928  ...     \n",
       "ne0056         autobiographical          Spain   29542991.0  XX1720928  ...     \n",
       "ne0059                  realist          Spain   29542991.0  XX1720928  ...     \n",
       "ne0061            bildungsroman          Spain   29542991.0  XX1720928  ...     \n",
       "ne0063            bildungsroman          Spain   36912891.0   XX842743  ...     \n",
       "...                         ...            ...          ...        ...  ...     \n",
       "ne0301            bildungsroman          Spain   68929740.0   XX927011  ...     \n",
       "ne0302               historical          Spain   36912891.0   XX842743  ...     \n",
       "ne0303                  realist          Spain   36912891.0   XX842743  ...     \n",
       "ne0304                adventure          Spain   36912891.0   XX842743  ...     \n",
       "ne0305                adventure          Spain   36912891.0   XX842743  ...     \n",
       "ne0310                  realist          Spain   61554068.0  XX1035048  ...     \n",
       "ne0312              sentimental          Spain   61554068.0  XX1035048  ...     \n",
       "ne0321                  realist          Spain   71395987.0  XX1014802  ...     \n",
       "ne0322                  realist          Spain   71395987.0  XX1014802  ...     \n",
       "ne0323                  realist          Spain   71395987.0  XX1014802  ...     \n",
       "ne0324                  realist          Spain   71395987.0  XX1014802  ...     \n",
       "ne0325                  realist          Spain   17218138.0   XX922976  ...     \n",
       "ne0326                  realist          Spain   17218138.0   XX922976  ...     \n",
       "ne0330                  realist          Spain   49351066.0   XX870038  ...     \n",
       "ne0332            philosophical          Spain  111966111.0   XX847362  ...     \n",
       "ne0333         autobiographical          Spain  110572828.0   XX821880  ...     \n",
       "ne0356              sentimental          Spain   68929740.0   XX927011  ...     \n",
       "ne0379              sentimental          Spain    2479761.0   XX825215  ...     \n",
       "ne0380              vanguardist          Spain   61601797.0   XX830087  ...     \n",
       "ne0381            philosophical          Spain   17339452.0  XX1126572  ...     \n",
       "ne0382                   social          Spain  107010546.0   XX830113  ...     \n",
       "ne0387               historical          Spain   59211037.0   XX843538  ...     \n",
       "ne0388                   social          Spain   15759545.0   XX990063  ...     \n",
       "ne0390                   social          Spain  217167633.0  XX1028188  ...     \n",
       "ne0391              sentimental          Spain   12320329.0   XX982844  ...     \n",
       "ne0392              sentimental          Spain   12320329.0   XX982844  ...     \n",
       "ne0393            bildungsroman          Spain   12320329.0   XX982844  ...     \n",
       "ne0394            bildungsroman          Spain   12320329.0   XX982844  ...     \n",
       "ne0401            philosophical          Spain   32795004.0  XX1082221  ...     \n",
       "ne0404                   social          Spain   39392820.0  XX1080698  ...     \n",
       "\n",
       "       am.wnlex.noun.Topss am.wnlex.noun.relations am.wnlex.noun.attributes  \\\n",
       "ne0002                 239                      39                      821   \n",
       "ne0003                 253                      17                      725   \n",
       "ne0004                 288                      24                     1061   \n",
       "ne0006                 841                      98                     2867   \n",
       "ne0009                 494                      43                     1813   \n",
       "ne0011                 377                      28                     1232   \n",
       "ne0013                  35                       1                      222   \n",
       "ne0014                  41                       4                      261   \n",
       "ne0015                  39                       0                      253   \n",
       "ne0016                  63                       3                      296   \n",
       "ne0017                  33                       0                      180   \n",
       "ne0019                 288                      36                     1263   \n",
       "ne0020                  35                       2                      204   \n",
       "ne0021                  35                       1                      257   \n",
       "ne0024                 341                      32                     1281   \n",
       "ne0025                 156                      24                      717   \n",
       "ne0027                 228                      20                      792   \n",
       "ne0028                 306                      31                     1019   \n",
       "ne0029                 584                      41                     1950   \n",
       "ne0030                  84                      19                      422   \n",
       "ne0031                 288                      28                      970   \n",
       "ne0032                 294                      22                      966   \n",
       "ne0033                 115                      13                      657   \n",
       "ne0035                 142                       9                      774   \n",
       "ne0048                 143                       3                      552   \n",
       "ne0050                  19                       2                      102   \n",
       "ne0056                 112                      11                      543   \n",
       "ne0059                  93                      10                      614   \n",
       "ne0061                  99                       5                      786   \n",
       "ne0063                 110                      22                      581   \n",
       "...                    ...                     ...                      ...   \n",
       "ne0301                  69                      15                      370   \n",
       "ne0302                  99                       4                      457   \n",
       "ne0303                 115                      16                      612   \n",
       "ne0304                 138                      46                      775   \n",
       "ne0305                 117                      47                      710   \n",
       "ne0310                 287                      34                     1177   \n",
       "ne0312                 371                      25                     1444   \n",
       "ne0321                 272                      33                     1065   \n",
       "ne0322                 367                      26                     1077   \n",
       "ne0323                 302                      16                     1010   \n",
       "ne0324                 329                      23                      887   \n",
       "ne0325                 302                      57                     1710   \n",
       "ne0326                 420                      41                     1770   \n",
       "ne0330                 145                      22                      710   \n",
       "ne0332                  96                       9                      397   \n",
       "ne0333                  35                       6                      116   \n",
       "ne0356                  86                      15                      445   \n",
       "ne0379                  40                       4                      181   \n",
       "ne0380                  22                       4                       56   \n",
       "ne0381                 127                      24                      701   \n",
       "ne0382                 132                      13                      424   \n",
       "ne0387                 335                      48                     1469   \n",
       "ne0388                 147                      15                      376   \n",
       "ne0390                 289                      14                      825   \n",
       "ne0391                 225                      21                      567   \n",
       "ne0392                 168                      14                      588   \n",
       "ne0393                 298                      39                     1135   \n",
       "ne0394                 186                      28                      820   \n",
       "ne0401                 216                       2                      804   \n",
       "ne0404                  74                      15                      388   \n",
       "\n",
       "       am.wnlex.verb.emotions am.wnlex.noun.locations am.wnlex.noun.events  \\\n",
       "ne0002                    314                     336                  355   \n",
       "ne0003                    396                     301                  327   \n",
       "ne0004                    424                     282                  248   \n",
       "ne0006                   1334                     920                 1237   \n",
       "ne0009                    780                     608                  689   \n",
       "ne0011                    516                     326                  407   \n",
       "ne0013                    137                      86                   76   \n",
       "ne0014                    121                     103                   85   \n",
       "ne0015                    116                     103                   86   \n",
       "ne0016                    162                      96                  108   \n",
       "ne0017                     56                     145                   83   \n",
       "ne0019                    720                     591                  514   \n",
       "ne0020                     79                      94                   75   \n",
       "ne0021                     53                     134                   80   \n",
       "ne0024                    496                     489                  533   \n",
       "ne0025                    450                     303                  417   \n",
       "ne0027                    377                     345                  346   \n",
       "ne0028                    521                     277                  469   \n",
       "ne0029                   1095                     506                  835   \n",
       "ne0030                    193                     217                  244   \n",
       "ne0031                    636                     369                  522   \n",
       "ne0032                    520                     295                  351   \n",
       "ne0033                    326                     248                  368   \n",
       "ne0035                    319                     351                  461   \n",
       "ne0048                    403                     217                  205   \n",
       "ne0050                     53                      47                   52   \n",
       "ne0056                    179                     280                  165   \n",
       "ne0059                    326                     263                  268   \n",
       "ne0061                    316                     270                  292   \n",
       "ne0063                    220                     352                  218   \n",
       "...                       ...                     ...                  ...   \n",
       "ne0301                    216                     375                  416   \n",
       "ne0302                    170                     238                  181   \n",
       "ne0303                    221                     381                  205   \n",
       "ne0304                    320                     503                  421   \n",
       "ne0305                    259                     632                  300   \n",
       "ne0310                    810                     657                  613   \n",
       "ne0312                    829                     532                  635   \n",
       "ne0321                    656                     506                  430   \n",
       "ne0322                    629                     380                  457   \n",
       "ne0323                    586                     351                  394   \n",
       "ne0324                    673                     314                  442   \n",
       "ne0325                    978                     676                  667   \n",
       "ne0326                   1146                     681                  981   \n",
       "ne0330                    292                     490                  378   \n",
       "ne0332                    104                     118                  169   \n",
       "ne0333                     19                      75                   43   \n",
       "ne0356                    253                     219                  209   \n",
       "ne0379                     44                     160                   54   \n",
       "ne0380                     17                      56                   45   \n",
       "ne0381                    273                     196                  303   \n",
       "ne0382                    311                     201                  239   \n",
       "ne0387                    517                    1088                  701   \n",
       "ne0388                    285                     262                  237   \n",
       "ne0390                    360                     382                  433   \n",
       "ne0391                    299                     220                  253   \n",
       "ne0392                    446                     192                  245   \n",
       "ne0393                    582                     385                  452   \n",
       "ne0394                    460                     298                  286   \n",
       "ne0401                    332                     259                  161   \n",
       "ne0404                    189                     211                  184   \n",
       "\n",
       "       am.wnlex.verb.contacts am.wnlex.xxxs am.wnlex.verb.changes decade  \n",
       "ne0002                    684         70169                   764   1880  \n",
       "ne0003                    498         54401                   572   1890  \n",
       "ne0004                    450         60648                   553   1890  \n",
       "ne0006                   1974        198080                  2378   1890  \n",
       "ne0009                   1169        114674                  1331   1880  \n",
       "ne0011                    656         72190                   797   1880  \n",
       "ne0013                    316         16888                   292   1900  \n",
       "ne0014                    276         17715                   253   1900  \n",
       "ne0015                    216         14854                   266   1900  \n",
       "ne0016                    236         19339                   283   1900  \n",
       "ne0017                    272         15891                   223   1900  \n",
       "ne0019                    840         80045                   965   1900  \n",
       "ne0020                    321         18070                   224   1900  \n",
       "ne0021                    323         21476                   301   1900  \n",
       "ne0024                    970         92121                  1060   1880  \n",
       "ne0025                    753         71530                   886   1920  \n",
       "ne0027                    626         56640                   688   1880  \n",
       "ne0028                    700         66990                   779   1880  \n",
       "ne0029                   1317        126930                  1459   1880  \n",
       "ne0030                    629         42050                   468   1920  \n",
       "ne0031                    930         80686                   964   1880  \n",
       "ne0032                    539         59971                   614   1880  \n",
       "ne0033                    885         65848                   744   1920  \n",
       "ne0035                    925         75904                   795   1920  \n",
       "ne0048                    607         43759                   568   1910  \n",
       "ne0050                    118          8966                   123   1910  \n",
       "ne0056                    494         34990                   574   1910  \n",
       "ne0059                    744         52687                   613   1920  \n",
       "ne0061                    780         62881                   708   1920  \n",
       "ne0063                    641         51592                   772   1900  \n",
       "...                       ...           ...                   ...    ...  \n",
       "ne0301                    563         35723                   537   1920  \n",
       "ne0302                    330         36806                   464   1900  \n",
       "ne0303                    429         46502                   669   1900  \n",
       "ne0304                    761         66784                  1089   1910  \n",
       "ne0305                    515         54968                   822   1920  \n",
       "ne0310                   1000         94530                  1180   1890  \n",
       "ne0312                   1008         97816                  1265   1890  \n",
       "ne0321                    948         85816                   987   1880  \n",
       "ne0322                    941         80455                  1032   1880  \n",
       "ne0323                    726         73797                   967   1880  \n",
       "ne0324                    869         83712                  1068   1880  \n",
       "ne0325                    999        113221                  1136   1880  \n",
       "ne0326                   1248        131790                  1518   1880  \n",
       "ne0330                    759         60879                  1018   1930  \n",
       "ne0332                    182         22769                   329   1930  \n",
       "ne0333                    148          6378                   100   1930  \n",
       "ne0356                    489         33625                   490   1920  \n",
       "ne0379                    145         12311                   158   1920  \n",
       "ne0380                     61          5617                    80   1930  \n",
       "ne0381                    438         39686                   619   1920  \n",
       "ne0382                    396         37273                   384   1920  \n",
       "ne0387                    982        108544                  1052   1900  \n",
       "ne0388                    519         36989                   517   1930  \n",
       "ne0390                    554         74629                   726   1920  \n",
       "ne0391                    458         43845                   471   1920  \n",
       "ne0392                    510         47261                   481   1920  \n",
       "ne0393                    774         90331                   894   1910  \n",
       "ne0394                    615         57625                   672   1910  \n",
       "ne0401                    707         40088                   687   1930  \n",
       "ne0404                    222         30286                   333   1930  \n",
       "\n",
       "[138 rows x 177 columns]"
      ]
     },
     "execution_count": 114,
     "metadata": {},
     "output_type": "execute_result"
    }
   ],
   "source": [
    "metadata_canon"
   ]
  },
  {
   "cell_type": "code",
   "execution_count": 115,
   "metadata": {},
   "outputs": [
    {
     "data": {
      "text/plain": [
       "LinregressResult(slope=-996.7224067301456, intercept=1970283.3074020583, rvalue=-0.4566542162454312, pvalue=1.8071166909466522e-08, stderr=166.5074544107558)"
      ]
     },
     "execution_count": 115,
     "metadata": {},
     "output_type": "execute_result"
    }
   ],
   "source": [
    "stats.linregress(metadata_canon[\"year\"],metadata_canon[\"am.tokens\"])\n"
   ]
  },
  {
   "cell_type": "code",
   "execution_count": 116,
   "metadata": {},
   "outputs": [
    {
     "data": {
      "text/plain": [
       "25.0"
      ]
     },
     "execution_count": 116,
     "metadata": {},
     "output_type": "execute_result"
    }
   ],
   "source": [
    "metadata[\"am.chapters\"].median()"
   ]
  },
  {
   "cell_type": "code",
   "execution_count": 117,
   "metadata": {},
   "outputs": [
    {
     "data": {
      "text/plain": [
       "23.0"
      ]
     },
     "execution_count": 117,
     "metadata": {},
     "output_type": "execute_result"
    }
   ],
   "source": [
    "stats.iqr(metadata[\"am.chapters\"])"
   ]
  },
  {
   "cell_type": "code",
   "execution_count": 118,
   "metadata": {},
   "outputs": [
    {
     "data": {
      "text/html": [
       "<div>\n",
       "<style scoped>\n",
       "    .dataframe tbody tr th:only-of-type {\n",
       "        vertical-align: middle;\n",
       "    }\n",
       "\n",
       "    .dataframe tbody tr th {\n",
       "        vertical-align: top;\n",
       "    }\n",
       "\n",
       "    .dataframe thead th {\n",
       "        text-align: right;\n",
       "    }\n",
       "</style>\n",
       "<table border=\"1\" class=\"dataframe\">\n",
       "  <thead>\n",
       "    <tr style=\"text-align: right;\">\n",
       "      <th></th>\n",
       "      <th>title</th>\n",
       "      <th>am.chapters</th>\n",
       "      <th>decade</th>\n",
       "    </tr>\n",
       "  </thead>\n",
       "  <tbody>\n",
       "    <tr>\n",
       "      <th>ne0299</th>\n",
       "      <td>Pachin</td>\n",
       "      <td>1</td>\n",
       "      <td>1890</td>\n",
       "    </tr>\n",
       "    <tr>\n",
       "      <th>ne0181</th>\n",
       "      <td>Velada</td>\n",
       "      <td>1</td>\n",
       "      <td>1930</td>\n",
       "    </tr>\n",
       "    <tr>\n",
       "      <th>ne0272</th>\n",
       "      <td>TigreJuan</td>\n",
       "      <td>2</td>\n",
       "      <td>1920</td>\n",
       "    </tr>\n",
       "    <tr>\n",
       "      <th>ne0215</th>\n",
       "      <td>HombreOro</td>\n",
       "      <td>3</td>\n",
       "      <td>1890</td>\n",
       "    </tr>\n",
       "    <tr>\n",
       "      <th>ne0332</th>\n",
       "      <td>Estacion</td>\n",
       "      <td>3</td>\n",
       "      <td>1930</td>\n",
       "    </tr>\n",
       "    <tr>\n",
       "      <th>ne0172</th>\n",
       "      <td>Greguerias</td>\n",
       "      <td>4</td>\n",
       "      <td>1910</td>\n",
       "    </tr>\n",
       "    <tr>\n",
       "      <th>ne0120</th>\n",
       "      <td>Loco</td>\n",
       "      <td>4</td>\n",
       "      <td>1880</td>\n",
       "    </tr>\n",
       "    <tr>\n",
       "      <th>ne0200</th>\n",
       "      <td>FrayAntonio</td>\n",
       "      <td>4</td>\n",
       "      <td>1910</td>\n",
       "    </tr>\n",
       "    <tr>\n",
       "      <th>ne0290</th>\n",
       "      <td>Gusanos</td>\n",
       "      <td>4</td>\n",
       "      <td>1900</td>\n",
       "    </tr>\n",
       "    <tr>\n",
       "      <th>ne0392</th>\n",
       "      <td>LunaHiel</td>\n",
       "      <td>5</td>\n",
       "      <td>1920</td>\n",
       "    </tr>\n",
       "    <tr>\n",
       "      <th>ne0047</th>\n",
       "      <td>AmoresAntonHernando</td>\n",
       "      <td>5</td>\n",
       "      <td>1900</td>\n",
       "    </tr>\n",
       "    <tr>\n",
       "      <th>ne0261</th>\n",
       "      <td>Luna_n</td>\n",
       "      <td>5</td>\n",
       "      <td>1900</td>\n",
       "    </tr>\n",
       "    <tr>\n",
       "      <th>ne0114</th>\n",
       "      <td>PazGuerra</td>\n",
       "      <td>5</td>\n",
       "      <td>1890</td>\n",
       "    </tr>\n",
       "    <tr>\n",
       "      <th>ne0026</th>\n",
       "      <td>Incesto</td>\n",
       "      <td>5</td>\n",
       "      <td>1900</td>\n",
       "    </tr>\n",
       "    <tr>\n",
       "      <th>ne0018</th>\n",
       "      <td>PlanoAstral</td>\n",
       "      <td>5</td>\n",
       "      <td>1920</td>\n",
       "    </tr>\n",
       "    <tr>\n",
       "      <th>ne0334</th>\n",
       "      <td>Erika</td>\n",
       "      <td>5</td>\n",
       "      <td>1930</td>\n",
       "    </tr>\n",
       "    <tr>\n",
       "      <th>ne0046</th>\n",
       "      <td>HijoSanto</td>\n",
       "      <td>6</td>\n",
       "      <td>1900</td>\n",
       "    </tr>\n",
       "    <tr>\n",
       "      <th>ne0134</th>\n",
       "      <td>Trabajos</td>\n",
       "      <td>6</td>\n",
       "      <td>1890</td>\n",
       "    </tr>\n",
       "    <tr>\n",
       "      <th>ne0349</th>\n",
       "      <td>AmorSacrificio</td>\n",
       "      <td>6</td>\n",
       "      <td>1920</td>\n",
       "    </tr>\n",
       "    <tr>\n",
       "      <th>ne0055</th>\n",
       "      <td>Pasion2</td>\n",
       "      <td>6</td>\n",
       "      <td>1910</td>\n",
       "    </tr>\n",
       "    <tr>\n",
       "      <th>ne0380</th>\n",
       "      <td>Crimen</td>\n",
       "      <td>6</td>\n",
       "      <td>1930</td>\n",
       "    </tr>\n",
       "    <tr>\n",
       "      <th>ne0198</th>\n",
       "      <td>HistoriaVulgar</td>\n",
       "      <td>6</td>\n",
       "      <td>1910</td>\n",
       "    </tr>\n",
       "    <tr>\n",
       "      <th>ne0206</th>\n",
       "      <td>Cleopatra</td>\n",
       "      <td>7</td>\n",
       "      <td>1880</td>\n",
       "    </tr>\n",
       "    <tr>\n",
       "      <th>ne0271</th>\n",
       "      <td>Blocao</td>\n",
       "      <td>7</td>\n",
       "      <td>1920</td>\n",
       "    </tr>\n",
       "    <tr>\n",
       "      <th>ne0089</th>\n",
       "      <td>EscenasMuerte</td>\n",
       "      <td>7</td>\n",
       "      <td>1930</td>\n",
       "    </tr>\n",
       "    <tr>\n",
       "      <th>ne0319</th>\n",
       "      <td>FamiliaGomar</td>\n",
       "      <td>7</td>\n",
       "      <td>1910</td>\n",
       "    </tr>\n",
       "    <tr>\n",
       "      <th>ne0071</th>\n",
       "      <td>ProfesorInutil</td>\n",
       "      <td>7</td>\n",
       "      <td>1920</td>\n",
       "    </tr>\n",
       "    <tr>\n",
       "      <th>ne0333</th>\n",
       "      <td>Cazador</td>\n",
       "      <td>7</td>\n",
       "      <td>1930</td>\n",
       "    </tr>\n",
       "    <tr>\n",
       "      <th>ne0352</th>\n",
       "      <td>TunicaNeso</td>\n",
       "      <td>7</td>\n",
       "      <td>1920</td>\n",
       "    </tr>\n",
       "    <tr>\n",
       "      <th>ne0216</th>\n",
       "      <td>Mallorca</td>\n",
       "      <td>8</td>\n",
       "      <td>1910</td>\n",
       "    </tr>\n",
       "    <tr>\n",
       "      <th>...</th>\n",
       "      <td>...</td>\n",
       "      <td>...</td>\n",
       "      <td>...</td>\n",
       "    </tr>\n",
       "    <tr>\n",
       "      <th>ne0024</th>\n",
       "      <td>Centeno</td>\n",
       "      <td>58</td>\n",
       "      <td>1880</td>\n",
       "    </tr>\n",
       "    <tr>\n",
       "      <th>ne0153</th>\n",
       "      <td>Morsamor</td>\n",
       "      <td>58</td>\n",
       "      <td>1890</td>\n",
       "    </tr>\n",
       "    <tr>\n",
       "      <th>ne0122</th>\n",
       "      <td>Azorin</td>\n",
       "      <td>59</td>\n",
       "      <td>1900</td>\n",
       "    </tr>\n",
       "    <tr>\n",
       "      <th>ne0363</th>\n",
       "      <td>Nardo</td>\n",
       "      <td>59</td>\n",
       "      <td>1930</td>\n",
       "    </tr>\n",
       "    <tr>\n",
       "      <th>ne0116</th>\n",
       "      <td>Camino</td>\n",
       "      <td>60</td>\n",
       "      <td>1900</td>\n",
       "    </tr>\n",
       "    <tr>\n",
       "      <th>ne0250</th>\n",
       "      <td>Razon</td>\n",
       "      <td>61</td>\n",
       "      <td>1910</td>\n",
       "    </tr>\n",
       "    <tr>\n",
       "      <th>ne0276</th>\n",
       "      <td>Abuelo</td>\n",
       "      <td>63</td>\n",
       "      <td>1890</td>\n",
       "    </tr>\n",
       "    <tr>\n",
       "      <th>ne0338</th>\n",
       "      <td>TourneeDios</td>\n",
       "      <td>63</td>\n",
       "      <td>1930</td>\n",
       "    </tr>\n",
       "    <tr>\n",
       "      <th>ne0218</th>\n",
       "      <td>VidaDario</td>\n",
       "      <td>66</td>\n",
       "      <td>1910</td>\n",
       "    </tr>\n",
       "    <tr>\n",
       "      <th>ne0244</th>\n",
       "      <td>Ruta</td>\n",
       "      <td>69</td>\n",
       "      <td>1910</td>\n",
       "    </tr>\n",
       "    <tr>\n",
       "      <th>ne0275</th>\n",
       "      <td>LocaCasa</td>\n",
       "      <td>70</td>\n",
       "      <td>1890</td>\n",
       "    </tr>\n",
       "    <tr>\n",
       "      <th>ne0387</th>\n",
       "      <td>Jeromin</td>\n",
       "      <td>72</td>\n",
       "      <td>1900</td>\n",
       "    </tr>\n",
       "    <tr>\n",
       "      <th>ne0327</th>\n",
       "      <td>AranaNegra1</td>\n",
       "      <td>73</td>\n",
       "      <td>1890</td>\n",
       "    </tr>\n",
       "    <tr>\n",
       "      <th>ne0328</th>\n",
       "      <td>AranaNegra2</td>\n",
       "      <td>73</td>\n",
       "      <td>1890</td>\n",
       "    </tr>\n",
       "    <tr>\n",
       "      <th>ne0305</th>\n",
       "      <td>Laberinto</td>\n",
       "      <td>74</td>\n",
       "      <td>1920</td>\n",
       "    </tr>\n",
       "    <tr>\n",
       "      <th>ne0234</th>\n",
       "      <td>Retiro</td>\n",
       "      <td>75</td>\n",
       "      <td>1930</td>\n",
       "    </tr>\n",
       "    <tr>\n",
       "      <th>ne0235</th>\n",
       "      <td>Cura</td>\n",
       "      <td>77</td>\n",
       "      <td>1930</td>\n",
       "    </tr>\n",
       "    <tr>\n",
       "      <th>ne0242</th>\n",
       "      <td>Sensualidad</td>\n",
       "      <td>80</td>\n",
       "      <td>1920</td>\n",
       "    </tr>\n",
       "    <tr>\n",
       "      <th>ne0303</th>\n",
       "      <td>CiudadNiebla</td>\n",
       "      <td>88</td>\n",
       "      <td>1900</td>\n",
       "    </tr>\n",
       "    <tr>\n",
       "      <th>ne0029</th>\n",
       "      <td>Prohibido</td>\n",
       "      <td>90</td>\n",
       "      <td>1880</td>\n",
       "    </tr>\n",
       "    <tr>\n",
       "      <th>ne0232</th>\n",
       "      <td>Alzate</td>\n",
       "      <td>92</td>\n",
       "      <td>1920</td>\n",
       "    </tr>\n",
       "    <tr>\n",
       "      <th>ne0036</th>\n",
       "      <td>Baza</td>\n",
       "      <td>95</td>\n",
       "      <td>1930</td>\n",
       "    </tr>\n",
       "    <tr>\n",
       "      <th>ne0168</th>\n",
       "      <td>Doctor</td>\n",
       "      <td>107</td>\n",
       "      <td>1920</td>\n",
       "    </tr>\n",
       "    <tr>\n",
       "      <th>ne0006</th>\n",
       "      <td>Angel</td>\n",
       "      <td>127</td>\n",
       "      <td>1890</td>\n",
       "    </tr>\n",
       "    <tr>\n",
       "      <th>ne0127</th>\n",
       "      <td>Platero</td>\n",
       "      <td>138</td>\n",
       "      <td>1910</td>\n",
       "    </tr>\n",
       "    <tr>\n",
       "      <th>ne0030</th>\n",
       "      <td>TiranoBanderas</td>\n",
       "      <td>142</td>\n",
       "      <td>1920</td>\n",
       "    </tr>\n",
       "    <tr>\n",
       "      <th>ne0033</th>\n",
       "      <td>Corte</td>\n",
       "      <td>155</td>\n",
       "      <td>1920</td>\n",
       "    </tr>\n",
       "    <tr>\n",
       "      <th>ne0241</th>\n",
       "      <td>Cesar</td>\n",
       "      <td>159</td>\n",
       "      <td>1910</td>\n",
       "    </tr>\n",
       "    <tr>\n",
       "      <th>ne0035</th>\n",
       "      <td>Viva</td>\n",
       "      <td>190</td>\n",
       "      <td>1920</td>\n",
       "    </tr>\n",
       "    <tr>\n",
       "      <th>ne0184</th>\n",
       "      <td>DiarioPoeta</td>\n",
       "      <td>246</td>\n",
       "      <td>1910</td>\n",
       "    </tr>\n",
       "  </tbody>\n",
       "</table>\n",
       "<p>358 rows × 3 columns</p>\n",
       "</div>"
      ],
      "text/plain": [
       "                      title  am.chapters  decade\n",
       "ne0299               Pachin            1    1890\n",
       "ne0181               Velada            1    1930\n",
       "ne0272            TigreJuan            2    1920\n",
       "ne0215            HombreOro            3    1890\n",
       "ne0332             Estacion            3    1930\n",
       "ne0172           Greguerias            4    1910\n",
       "ne0120                 Loco            4    1880\n",
       "ne0200          FrayAntonio            4    1910\n",
       "ne0290              Gusanos            4    1900\n",
       "ne0392             LunaHiel            5    1920\n",
       "ne0047  AmoresAntonHernando            5    1900\n",
       "ne0261               Luna_n            5    1900\n",
       "ne0114            PazGuerra            5    1890\n",
       "ne0026              Incesto            5    1900\n",
       "ne0018          PlanoAstral            5    1920\n",
       "ne0334                Erika            5    1930\n",
       "ne0046            HijoSanto            6    1900\n",
       "ne0134             Trabajos            6    1890\n",
       "ne0349       AmorSacrificio            6    1920\n",
       "ne0055              Pasion2            6    1910\n",
       "ne0380               Crimen            6    1930\n",
       "ne0198       HistoriaVulgar            6    1910\n",
       "ne0206            Cleopatra            7    1880\n",
       "ne0271               Blocao            7    1920\n",
       "ne0089        EscenasMuerte            7    1930\n",
       "ne0319         FamiliaGomar            7    1910\n",
       "ne0071       ProfesorInutil            7    1920\n",
       "ne0333              Cazador            7    1930\n",
       "ne0352           TunicaNeso            7    1920\n",
       "ne0216             Mallorca            8    1910\n",
       "...                     ...          ...     ...\n",
       "ne0024              Centeno           58    1880\n",
       "ne0153             Morsamor           58    1890\n",
       "ne0122               Azorin           59    1900\n",
       "ne0363                Nardo           59    1930\n",
       "ne0116               Camino           60    1900\n",
       "ne0250                Razon           61    1910\n",
       "ne0276               Abuelo           63    1890\n",
       "ne0338          TourneeDios           63    1930\n",
       "ne0218            VidaDario           66    1910\n",
       "ne0244                 Ruta           69    1910\n",
       "ne0275             LocaCasa           70    1890\n",
       "ne0387              Jeromin           72    1900\n",
       "ne0327          AranaNegra1           73    1890\n",
       "ne0328          AranaNegra2           73    1890\n",
       "ne0305            Laberinto           74    1920\n",
       "ne0234               Retiro           75    1930\n",
       "ne0235                 Cura           77    1930\n",
       "ne0242          Sensualidad           80    1920\n",
       "ne0303         CiudadNiebla           88    1900\n",
       "ne0029            Prohibido           90    1880\n",
       "ne0232               Alzate           92    1920\n",
       "ne0036                 Baza           95    1930\n",
       "ne0168               Doctor          107    1920\n",
       "ne0006                Angel          127    1890\n",
       "ne0127              Platero          138    1910\n",
       "ne0030       TiranoBanderas          142    1920\n",
       "ne0033                Corte          155    1920\n",
       "ne0241                Cesar          159    1910\n",
       "ne0035                 Viva          190    1920\n",
       "ne0184          DiarioPoeta          246    1910\n",
       "\n",
       "[358 rows x 3 columns]"
      ]
     },
     "execution_count": 118,
     "metadata": {},
     "output_type": "execute_result"
    }
   ],
   "source": [
    "metadata.sort_values(by =\"am.chapters\")[[\"title\",\"am.chapters\",\"decade\"]]"
   ]
  },
  {
   "cell_type": "code",
   "execution_count": 119,
   "metadata": {},
   "outputs": [
    {
     "data": {
      "image/png": "[encoded data removed]",
      "text/plain": [
       "<Figure size 432x288 with 1 Axes>"
      ]
     },
     "metadata": {},
     "output_type": "display_data"
    }
   ],
   "source": [
    "describe_data.histogram(metadata = metadata, class_ =\"am.chapters\", kind = \"normal\", wdir = wdir, dataset = dataset, bins = 20)"
   ]
  },
  {
   "cell_type": "code",
   "execution_count": 120,
   "metadata": {},
   "outputs": [
    {
     "data": {
      "text/plain": [
       "LinregressResult(slope=-4.834895872878569, intercept=11822.778549713737, rvalue=-0.05102337794283455, pvalue=0.33571892169665196, stderr=5.015645853574662)"
      ]
     },
     "execution_count": 120,
     "metadata": {},
     "output_type": "execute_result"
    }
   ],
   "source": [
    "stats.linregress(metadata[\"year\"], metadata[\"am.ss\"])\n"
   ]
  },
  {
   "cell_type": "code",
   "execution_count": 121,
   "metadata": {},
   "outputs": [
    {
     "data": {
      "text/plain": [
       "LinregressResult(slope=-17.805091849501583, intercept=36870.70108629853, rvalue=-0.1979747934455343, pvalue=0.01993279593732623, stderr=7.559319728816335)"
      ]
     },
     "execution_count": 121,
     "metadata": {},
     "output_type": "execute_result"
    }
   ],
   "source": [
    "stats.linregress(metadata_canon[\"year\"], metadata_canon[\"am.ss\"])\n"
   ]
  },
  {
   "cell_type": "code",
   "execution_count": 122,
   "metadata": {},
   "outputs": [
    {
     "data": {
      "text/plain": [
       "LinregressResult(slope=0.048873420680770774, intercept=-63.25044777235392, rvalue=0.030200917117891028, pvalue=0.5689763803856945, stderr=0.08572933536761226)"
      ]
     },
     "execution_count": 122,
     "metadata": {},
     "output_type": "execute_result"
    }
   ],
   "source": [
    "stats.linregress(metadata[\"year\"], metadata[\"am.chapters\"])\n"
   ]
  },
  {
   "cell_type": "code",
   "execution_count": 123,
   "metadata": {},
   "outputs": [
    {
     "data": {
      "text/plain": [
       "LinregressResult(slope=0.04774986572618069, intercept=-56.13789261509505, rvalue=0.026442153469239456, pvalue=0.7581938995137371, stderr=0.15479395591872813)"
      ]
     },
     "execution_count": 123,
     "metadata": {},
     "output_type": "execute_result"
    }
   ],
   "source": [
    "stats.linregress(metadata_canon[\"year\"], metadata_canon[\"am.chapters\"])\n"
   ]
  },
  {
   "cell_type": "code",
   "execution_count": 124,
   "metadata": {},
   "outputs": [
    {
     "data": {
      "text/plain": [
       "LinregressResult(slope=0.048873420680770774, intercept=-63.25044777235392, rvalue=0.030200917117891028, pvalue=0.5689763803856945, stderr=0.08572933536761226)"
      ]
     },
     "execution_count": 124,
     "metadata": {},
     "output_type": "execute_result"
    }
   ],
   "source": [
    "stats.linregress(metadata[\"year\"], metadata[\"am.chapters\"])\n"
   ]
  },
  {
   "cell_type": "code",
   "execution_count": 125,
   "metadata": {},
   "outputs": [
    {
     "data": {
      "text/plain": [
       "LinregressResult(slope=-49.564507258862264, intercept=112532.2322424594, rvalue=-0.03921521891857719, pvalue=0.45949635783180565, stderr=66.93556859743045)"
      ]
     },
     "execution_count": 125,
     "metadata": {},
     "output_type": "execute_result"
    }
   ],
   "source": [
    "stats.linregress(metadata[\"year\"], metadata[\"len.chapters.median\"])\n"
   ]
  },
  {
   "cell_type": "code",
   "execution_count": 126,
   "metadata": {},
   "outputs": [
    {
     "data": {
      "text/plain": [
       "LinregressResult(slope=33.73335450927197, intercept=-46144.609444999136, rvalue=0.023613693030741793, pvalue=0.7833829067413246, stderr=122.46304292941215)"
      ]
     },
     "execution_count": 126,
     "metadata": {},
     "output_type": "execute_result"
    }
   ],
   "source": [
    "stats.linregress(metadata_canon[\"year\"], metadata_canon[\"len.chapters.median\"])\n"
   ]
  },
  {
   "cell_type": "code",
   "execution_count": 127,
   "metadata": {},
   "outputs": [
    {
     "data": {
      "text/plain": [
       "LinregressResult(slope=-0.9739083320390365, intercept=1975.7632357953842, rvalue=-0.42292273032654276, pvalue=5.756623080154444e-17, stderr=0.11059607077718646)"
      ]
     },
     "execution_count": 127,
     "metadata": {},
     "output_type": "execute_result"
    }
   ],
   "source": [
    "stats.linregress(metadata[\"year\"], metadata[\"len.ss.median\"])\n"
   ]
  },
  {
   "cell_type": "code",
   "execution_count": 128,
   "metadata": {},
   "outputs": [
    {
     "data": {
      "text/plain": [
       "LinregressResult(slope=-1.1988032554803907, intercept=2398.9696428626885, rvalue=-0.4836343681487106, pvalue=1.868169497781363e-09, stderr=0.18603874932721534)"
      ]
     },
     "execution_count": 128,
     "metadata": {},
     "output_type": "execute_result"
    }
   ],
   "source": [
    "stats.linregress(metadata_canon[\"year\"], metadata_canon[\"len.ss.median\"])\n"
   ]
  },
  {
   "cell_type": "code",
   "execution_count": 129,
   "metadata": {},
   "outputs": [
    {
     "data": {
      "image/png": "[encoded data removed]",
      "text/plain": [
       "<Figure size 360x360 with 1 Axes>"
      ]
     },
     "metadata": {},
     "output_type": "display_data"
    },
    {
     "data": {
      "text/plain": [
       "<seaborn.axisgrid.FacetGrid at 0x7f26866e1940>"
      ]
     },
     "execution_count": 129,
     "metadata": {},
     "output_type": "execute_result"
    }
   ],
   "source": [
    "describe_data.describe_corpus_scatter(metadata = metadata, class_1 = \"year\", class_2 = \"len.ss.median\", wdir = wdir, dataset = dataset)"
   ]
  },
  {
   "cell_type": "code",
   "execution_count": 130,
   "metadata": {},
   "outputs": [],
   "source": [
    "format_ = \"png\"\n",
    "basic_color = \"#55a868\"\n",
    "darker_basic_color = \"#33643e\"\n",
    "classic_blue =\"#4c72b0\"\n",
    "color_boxplots = dict(boxes=basic_color, whiskers=darker_basic_color,\n",
    "                medians=darker_basic_color, caps=basic_color, means=basic_color)\n",
    "flierprops = dict(marker='o', markerfacecolor=darker_basic_color, markersize=5)\n",
    "boxprops = dict(linewidth=5)\n",
    "medianprops = dict(linewidth=5)\n",
    "meanlineprops = dict(linestyle='--', linewidth=2)"
   ]
  },
  {
   "cell_type": "code",
   "execution_count": 131,
   "metadata": {},
   "outputs": [
    {
     "data": {
      "text/plain": [
       "Series([], Name: am.fts, dtype: int64)"
      ]
     },
     "execution_count": 131,
     "metadata": {},
     "output_type": "execute_result"
    }
   ],
   "source": [
    "data = metadata[\"am.fts\"]\n",
    "data = data[ (data < (data.median() + (1.5 * stats.iqr(data.median()))))]\n",
    "data = data[~((data-data.mean()).abs()>1*data.std())]\n",
    "#data[((data-data.mean()).abs()>1*data.std())]\n",
    "data"
   ]
  },
  {
   "cell_type": "code",
   "execution_count": 132,
   "metadata": {},
   "outputs": [
    {
     "name": "stderr",
     "output_type": "stream",
     "text": [
      "/usr/local/lib/python3.6/dist-packages/matplotlib/figure.py:445: UserWarning: Matplotlib is currently using module://ipykernel.pylab.backend_inline, which is a non-GUI backend, so cannot show the figure.\n",
      "  % get_backend())\n"
     ]
    },
    {
     "data": {
      "image/png": "[encoded data removed]",
      "text/plain": [
       "<Figure size 432x288 with 2 Axes>"
      ]
     },
     "metadata": {},
     "output_type": "display_data"
    }
   ],
   "source": [
    "classes = [\"am.fts\",\"am.lg.poems\"]\n",
    "fig = plt.figure()\n",
    "\n",
    "for i in range(2):\n",
    "    if i == 0:\n",
    "        ax = fig.add_subplot(1, 2, i+1)\n",
    "    else:\n",
    "        ax = fig.add_subplot(1, 2, i+1, sharex=ax)\n",
    "    \n",
    "    data = metadata[classes[i]]\n",
    "    #data = ( (data < data.median() - (1.5*stats.iqr(data)) ))\n",
    "    data = data[~((data-data.mean()).abs()>1*data.std())]\n",
    "    \n",
    "    ax.boxplot(data, meanline=True, showmeans=True, flierprops=flierprops,\n",
    "            boxprops=boxprops, medianprops=medianprops, meanprops=meanlineprops)\n",
    "    #ax.set_title(classes[i])\n",
    "    ax.set_xticklabels(\"\")\n",
    "    ax.set_ylabel(\"number of\")\n",
    "    ax.set_xlabel(classes[i])\n",
    "\n",
    "fig.suptitle(\"Number of floating texts and poems in CoNSSA\", y =1)\n",
    "fig.tight_layout()\n",
    "fig.savefig(wdir+\"/visualisations/boxplots_fts_lgs.png\", dpi=300)\n",
    "fig.show()"
   ]
  },
  {
   "cell_type": "code",
   "execution_count": 133,
   "metadata": {},
   "outputs": [
    {
     "data": {
      "text/plain": [
       "1.5"
      ]
     },
     "execution_count": 133,
     "metadata": {},
     "output_type": "execute_result"
    }
   ],
   "source": [
    "metadata_canon[\"am.lg.poems\"].median()"
   ]
  },
  {
   "cell_type": "code",
   "execution_count": 134,
   "metadata": {},
   "outputs": [
    {
     "data": {
      "text/plain": [
       "1.0"
      ]
     },
     "execution_count": 134,
     "metadata": {},
     "output_type": "execute_result"
    }
   ],
   "source": [
    "metadata[\"am.lg.poems\"].median()"
   ]
  },
  {
   "cell_type": "code",
   "execution_count": 135,
   "metadata": {},
   "outputs": [
    {
     "data": {
      "text/plain": [
       "5.0"
      ]
     },
     "execution_count": 135,
     "metadata": {},
     "output_type": "execute_result"
    }
   ],
   "source": [
    "stats.iqr(metadata[\"am.lg.poems\"])"
   ]
  },
  {
   "cell_type": "code",
   "execution_count": 136,
   "metadata": {},
   "outputs": [
    {
     "data": {
      "text/plain": [
       "LinregressResult(slope=0.08334795081076564, intercept=-153.43245134320415, rvalue=0.15344865619886094, pvalue=0.07235552527861358, stderr=0.046024403493042286)"
      ]
     },
     "execution_count": 136,
     "metadata": {},
     "output_type": "execute_result"
    }
   ],
   "source": [
    "stats.linregress(metadata_canon[\"year\"], metadata_canon[\"am.lg.poems\"])\n"
   ]
  },
  {
   "cell_type": "code",
   "execution_count": 137,
   "metadata": {},
   "outputs": [
    {
     "data": {
      "text/plain": [
       "LinregressResult(slope=0.029818877812376805, intercept=-54.99636218849253, rvalue=0.11931608004981306, pvalue=0.16335325258524017, stderr=0.021276944916092562)"
      ]
     },
     "execution_count": 137,
     "metadata": {},
     "output_type": "execute_result"
    }
   ],
   "source": [
    "stats.linregress(metadata_canon[\"year\"], metadata_canon[\"am.fts\"])\n"
   ]
  },
  {
   "cell_type": "markdown",
   "metadata": {},
   "source": [
    "# 3.1.10. Gender Distribution"
   ]
  },
  {
   "cell_type": "code",
   "execution_count": 138,
   "metadata": {},
   "outputs": [
    {
     "name": "stdout",
     "output_type": "stream",
     "text": [
      "Amount male novel authors:  100\n"
     ]
    }
   ],
   "source": [
    "male_authors = novel_authors.loc[(novel_authors['author-gender'] == \"male\" ) & (novel_authors['novels'] > 0)].shape[0]\n",
    "print(\"Amount male novel authors: \", male_authors)\n",
    "\n"
   ]
  },
  {
   "cell_type": "code",
   "execution_count": 139,
   "metadata": {},
   "outputs": [
    {
     "name": "stdout",
     "output_type": "stream",
     "text": [
      "Amount male novel authors 7\n"
     ]
    }
   ],
   "source": [
    "female_authors = novel_authors.loc[(novel_authors['author-gender'] == \"female\" ) & (novel_authors['novels'] > 0)].shape[0]\n",
    "print(\"Amount male novel authors\", female_authors)"
   ]
  },
  {
   "cell_type": "code",
   "execution_count": 140,
   "metadata": {},
   "outputs": [
    {
     "data": {
      "text/plain": [
       "6.5420560747663545"
      ]
     },
     "execution_count": 140,
     "metadata": {},
     "output_type": "execute_result"
    }
   ],
   "source": [
    "(female_authors/novel_authors.shape[0])*100"
   ]
  },
  {
   "cell_type": "code",
   "execution_count": 141,
   "metadata": {},
   "outputs": [
    {
     "data": {
      "text/plain": [
       "93.45794392523365"
      ]
     },
     "execution_count": 141,
     "metadata": {},
     "output_type": "execute_result"
    }
   ],
   "source": [
    "(male_authors/novel_authors.shape[0])*100"
   ]
  },
  {
   "cell_type": "code",
   "execution_count": 142,
   "metadata": {},
   "outputs": [
    {
     "name": "stdout",
     "output_type": "stream",
     "text": [
      "median female pages in MdLE 5.0\n",
      "iqr female pages in MdLE nan\n"
     ]
    },
    {
     "name": "stderr",
     "output_type": "stream",
     "text": [
      "/usr/local/lib/python3.6/dist-packages/pandas/core/indexes/base.py:3772: RuntimeWarning: '<' not supported between instances of 'float' and 'str', sort order is undefined for incomparable objects\n",
      "  return this.join(other, how=how, return_indexers=return_indexers)\n"
     ]
    }
   ],
   "source": [
    "median_female_pages = novel_authors.loc[(novel_authors['author-gender'] == \"female\" ) & (novel_authors['novels'] > 0)][\"pages-in-MdLE\"].median()\n",
    "print(\"median female pages in MdLE\", median_female_pages)\n",
    "\n",
    "q3_female_pages = novel_authors.loc[(authors['author-gender'] == \"female\" ) & (novel_authors['novels'] > 0)][\"pages-in-MdLE\"].quantile(0.75)\n",
    "q1_female_pages = novel_authors.loc[(authors['author-gender'] == \"female\" ) & (novel_authors['novels'] > 0)][\"pages-in-MdLE\"].quantile(0.25)\n",
    "iqr_female_pages = q3_female_pages - q1_female_pages\n",
    "print(\"iqr female pages in MdLE\", iqr_female_pages)\n"
   ]
  },
  {
   "cell_type": "code",
   "execution_count": 143,
   "metadata": {},
   "outputs": [
    {
     "data": {
      "text/plain": [
       "'/home/jose/Dropbox/Doktorarbeit/ne_data/chap3_1/'"
      ]
     },
     "execution_count": 143,
     "metadata": {},
     "output_type": "execute_result"
    }
   ],
   "source": [
    "wdir"
   ]
  },
  {
   "cell_type": "code",
   "execution_count": 144,
   "metadata": {},
   "outputs": [
    {
     "name": "stdout",
     "output_type": "stream",
     "text": [
      "median male pages in MdLE 5.0\n",
      "iqr male pages in MdLE 21.5\n"
     ]
    }
   ],
   "source": [
    "median_male_pages = novel_authors.loc[(novel_authors['author-gender'] == \"male\" ) & (novel_authors['novels'] > 0)][\"pages-in-MdLE\"].median()\n",
    "print(\"median male pages in MdLE\", median_female_pages)\n",
    "\n",
    "q3_male_pages = novel_authors.loc[(novel_authors['author-gender'] == \"male\" ) & (novel_authors['novels'] > 0)][\"pages-in-MdLE\"].quantile(0.75)\n",
    "q1_male_pages = novel_authors.loc[(novel_authors['author-gender'] == \"male\" ) & (novel_authors['novels'] > 0)][\"pages-in-MdLE\"].quantile(0.25)\n",
    "iqr_male_pages = q3_male_pages - q1_male_pages\n",
    "print(\"iqr male pages in MdLE\", iqr_male_pages)"
   ]
  },
  {
   "cell_type": "code",
   "execution_count": 145,
   "metadata": {},
   "outputs": [
    {
     "data": {
      "image/png": "[encoded data removed]",
      "text/plain": [
       "<Figure size 432x288 with 1 Axes>"
      ]
     },
     "metadata": {},
     "output_type": "display_data"
    },
    {
     "data": {
      "image/png": "[encoded data removed]",
      "text/plain": [
       "<Figure size 360x696 with 1 Axes>"
      ]
     },
     "metadata": {},
     "output_type": "display_data"
    }
   ],
   "source": [
    "authors = novel_authors.loc[(novel_authors['pages-in-MdLE'] > 4) & (novel_authors['novels'] > 0)].copy()\n",
    "results =  describe_data.simple_grouped_bars(metadata = authors, class_numerical = \"pages-in-MdLE\", class_categorical=\"author-name\", wdir = wdir, dataset = dataset, class_color =\"author-gender\", colors_values = {'female':'#440154','male':'#fde725'})\n"
   ]
  },
  {
   "cell_type": "code",
   "execution_count": 146,
   "metadata": {},
   "outputs": [
    {
     "name": "stderr",
     "output_type": "stream",
     "text": [
      "/usr/local/lib/python3.6/dist-packages/matplotlib/figure.py:445: UserWarning: Matplotlib is currently using module://ipykernel.pylab.backend_inline, which is a non-GUI backend, so cannot show the figure.\n",
      "  % get_backend())\n"
     ]
    },
    {
     "data": {
      "image/png": "[encoded data removed]",
      "text/plain": [
       "<Figure size 864x432 with 1 Axes>"
      ]
     },
     "metadata": {},
     "output_type": "display_data"
    }
   ],
   "source": [
    "describe_data.describe_corpus_stackedbars(wdir = wdir, metadata = population_novels, class_1 = \"decade\", class_2 = \"author-gender\", dataset = \"Population of novels\", cmap=\"viridis\", loc_legend =\"upper right\")\n"
   ]
  },
  {
   "cell_type": "code",
   "execution_count": 147,
   "metadata": {},
   "outputs": [
    {
     "name": "stdout",
     "output_type": "stream",
     "text": [
      "amount of others in MdLe (673, 66)\n",
      "amount of others in MdLe (54, 66)\n"
     ]
    }
   ],
   "source": [
    "print(\"amount of others in MdLe\",\n",
    "    population_novels.loc[(population_novels['author-gender'] == \"male\" )].shape)\n",
    "\n",
    "print(\"amount of others in MdLe\",\n",
    "    population_novels.loc[(population_novels['author-gender'] == \"female\" )].shape)\n",
    "\n"
   ]
  },
  {
   "cell_type": "code",
   "execution_count": 148,
   "metadata": {},
   "outputs": [
    {
     "data": {
      "text/plain": [
       "0.9257221458046767"
      ]
     },
     "execution_count": 148,
     "metadata": {},
     "output_type": "execute_result"
    }
   ],
   "source": [
    "population_novels.loc[(population_novels['author-gender'] == \"male\" )].shape[0] / population_novels.shape[0]\n",
    "\n"
   ]
  },
  {
   "cell_type": "code",
   "execution_count": 149,
   "metadata": {},
   "outputs": [
    {
     "data": {
      "text/plain": [
       "0.07427785419532325"
      ]
     },
     "execution_count": 149,
     "metadata": {},
     "output_type": "execute_result"
    }
   ],
   "source": [
    "population_novels.loc[(population_novels['author-gender'] == \"female\" )].shape[0] / population_novels.shape[0]\n",
    "\n"
   ]
  },
  {
   "cell_type": "code",
   "execution_count": 150,
   "metadata": {},
   "outputs": [
    {
     "data": {
      "text/plain": [
       "0.14925373134328357"
      ]
     },
     "execution_count": 150,
     "metadata": {},
     "output_type": "execute_result"
    }
   ],
   "source": [
    "population_novels.loc[(population_novels['author-gender'] == \"female\" ) & (population_novels['decade'] == \"1880\")].shape[0] / population_novels.loc[(population_novels['decade'] == \"1880\")].shape[0]\n",
    "\n"
   ]
  },
  {
   "cell_type": "code",
   "execution_count": 151,
   "metadata": {},
   "outputs": [
    {
     "data": {
      "text/plain": [
       "0.05789473684210526"
      ]
     },
     "execution_count": 151,
     "metadata": {},
     "output_type": "execute_result"
    }
   ],
   "source": [
    "population_novels.loc[(population_novels['author-gender'] == \"female\" ) & (population_novels['decade'] == \"1920\")].shape[0] / population_novels.loc[(population_novels['decade'] == \"1920\")].shape[0]\n",
    "\n"
   ]
  },
  {
   "cell_type": "code",
   "execution_count": 152,
   "metadata": {},
   "outputs": [
    {
     "data": {
      "text/plain": [
       "0.056910569105691054"
      ]
     },
     "execution_count": 152,
     "metadata": {},
     "output_type": "execute_result"
    }
   ],
   "source": [
    "population_novels.loc[(population_novels['author-gender'] == \"female\" ) & (population_novels['decade'] == \"1930\")].shape[0] / population_novels.loc[(population_novels['decade'] == \"1930\")].shape[0]\n"
   ]
  }
 ],
 "metadata": {
  "kernelspec": {
   "display_name": "Python 3",
   "language": "python",
   "name": "python3"
  },
  "language_info": {
   "codemirror_mode": {
    "name": "ipython",
    "version": 3
   },
   "file_extension": ".py",
   "mimetype": "text/x-python",
   "name": "python",
   "nbconvert_exporter": "python",
   "pygments_lexer": "ipython3",
   "version": "3.7.6"
  }
 },
 "nbformat": 4,
 "nbformat_minor": 1
}
